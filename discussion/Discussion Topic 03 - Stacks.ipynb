{
 "cells": [
  {
   "cell_type": "markdown",
   "metadata": {},
   "source": [
    "# Discussion 2:\n",
    "\n",
    "### Stacks\n",
    "\n",
    "A `stack` is a collection of objects that are inserted and removed according to the *last in, first-out* (**LIFO**) principle.  \n",
    "\n",
    "A developers may insert objects into a stack at any time, but may only remove the most recent object first.  The **stack** name comes from the idea of cafeteria plat dispenser.  A bunch of plates are loaded and stacked on each other, but only the last one added can be removed first.  \n",
    "\n",
    "The **stack** involves two operations: **push** and **pop**.  A push operation, we push down data ontop of the stack.  When we pop, we remove the top most dataset from the stack.  \n",
    "\n",
    "### Examples of Usage:\n",
    "These are one of the most common data structures:\n",
    "\n",
    "- Web Browser\n",
    "- Text Editor Undo Button\n",
    "\n",
    "\n",
    "A stack must implement the following:\n",
    "\n",
    "```python\n",
    "s.push(<value>) # adds a value to the top of the stack\n",
    "s.pop() # removes the value from the stsack\n",
    "s.top() # Returns the top most value without removing it\n",
    "s.is_empty() # returns a boolean value to see if values exist in the stack\n",
    "len(s) # returns  the depth of the stack\n",
    "```\n",
    "\n",
    "### Helpful Links:\n",
    "\n",
    "1. https://docs.python.org/3/tutorial/datastructures.html\n",
    "\n",
    "### Discussion Problem:\n",
    "\n",
    "Create your own stack using a Python `list` and post your code.  Explain what you did, and why you did it this way.  \n",
    "\n",
    "Use the `Class` below to assist you getting started.  All the methods that are needed are in the `class`.\n",
    "\n",
    "\n",
    "#### A note on the code below the class Stack.  That is simple test code.  If you run it and nothing displays, then you did it correctly.  You can use this code to test your solution!"
   ]
  },
  {
   "cell_type": "code",
   "execution_count": 5,
   "metadata": {},
   "outputs": [],
   "source": [
    "class Stack(object):\n",
    "    \"\"\"LIFO Stack Implementation\"\"\"\n",
    "    _data = None\n",
    "    def __init__(self):\n",
    "        self._data = []\n",
    "    def __len__(self):\n",
    "        return len(self._data)\n",
    "    def is_empty(self):\n",
    "        \"\"\"returns True if the stack is empty\"\"\"\n",
    "        return len(self._data) == 0\n",
    "    def push(self, value):\n",
    "        \"\"\"adds an element to the top of the stack\"\"\"\n",
    "        self._data.append(value)\n",
    "    def top(self):\n",
    "        \"\"\"\n",
    "        returns but does not remove the top most value in the stack\n",
    "        \"\"\"\n",
    "        if self.is_empty():\n",
    "            return None\n",
    "        else:\n",
    "            return self._data[-1]\n",
    "    def pop(self):\n",
    "        \"\"\"removes and returns the element from the top of the stack\"\"\"\n",
    "        if self.is_empty():\n",
    "            return None\n",
    "        else:\n",
    "            return self._data.pop()"
   ]
  },
  {
   "cell_type": "code",
   "execution_count": 7,
   "metadata": {},
   "outputs": [
    {
     "name": "stdout",
     "output_type": "stream",
     "text": [
      "1\n"
     ]
    }
   ],
   "source": [
    "s = Stack()\n",
    "s.push(1)\n",
    "assert s.is_empty() == False\n",
    "print(s.pop())\n",
    "assert s.is_empty() == True\n",
    "s.push(2)\n",
    "s.push(3)\n",
    "assert len(s) == 2\n",
    "assert s.top() == 3"
   ]
  }
 ],
 "metadata": {
  "kernelspec": {
   "display_name": "Python 3",
   "language": "python",
   "name": "python3"
  },
  "language_info": {
   "codemirror_mode": {
    "name": "ipython",
    "version": 3
   },
   "file_extension": ".py",
   "mimetype": "text/x-python",
   "name": "python",
   "nbconvert_exporter": "python",
   "pygments_lexer": "ipython3",
   "version": "3.6.6"
  }
 },
 "nbformat": 4,
 "nbformat_minor": 2
}
