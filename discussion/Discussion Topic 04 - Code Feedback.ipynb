{
 "cells": [
  {
   "cell_type": "markdown",
   "metadata": {},
   "source": [
    "# Discussion 04\n",
    "\n",
    "In this discussion you will look at thecode below and give the user advice on what they need to change to make this code more **generic** as a Python Toolbox.  The current snippet is the code the user uses by copying and pasting it into the `Python Window` in ArcGIS Pro.  \n",
    "\n",
    "Your goal is to provide feedback on how they can make it a Python Toolbox.\n",
    "\n",
    "Post your suggestions on what they need to add to make it a generic tool as a Python Toolbox.  Then post comment 1-2 meaningful posts on other's suggestions. "
   ]
  },
  {
   "cell_type": "markdown",
   "metadata": {},
   "source": [
    "```python\n",
    "import arcpy\n",
    "from arcpy import sharing\n",
    "from arcpy import mp\n",
    "import os\n",
    "import shutil\n",
    "\n",
    "# Use Inputs\n",
    "#\n",
    "#\n",
    "prj = r\"CURRENT\" # ArcGIS Pro Path\n",
    "wrksp = r\"c:\\staging\" # Folder\n",
    "service_name = \"airmonitor2\" # String\n",
    "map_name = \"Map1\" # String - Finds the Map by the Name\n",
    "summary = \"This is the Summary\" # String - Summary of the Map\n",
    "tags = \"Tag1,Tag2,Tag3\" # String \n",
    "description = \"This is a description\" # String\n",
    "credits = \"data credits\" # strings\n",
    "# End User Inputs \n",
    "###\n",
    "\n",
    "#   Local Variables\n",
    "#\n",
    "sddraft = r\"%s\\dataset.sddraft\" % wrksp\n",
    "sdfile = r\"%s\\%s.sd\" % (wrksp, service_name.replace(\" \", \"_\"))\n",
    "\n",
    "## Logic\n",
    "#\n",
    "\n",
    "if os.path.isdir(wrksp):\n",
    "    shutil.rmtree(wrksp)\n",
    "os.makedirs(wrksp)\n",
    "\n",
    "aprx = mp.ArcGISProject(prj)\n",
    "m = aprx.listMaps(\"Map\")[0]\n",
    "print(m)\n",
    "sharing_draft = m.getWebLayerSharingDraft(\"HOSTING_SERVER\", \"FEATURE\", service_name)\n",
    "sharing_draft.summary = summary\n",
    "sharing_draft.tags = tags\n",
    "sharing_draft.description = description\n",
    "sharing_draft.credits = credits\n",
    "sharing_draft.exportToSDDraft(sddraft)\n",
    "arcpy.StageService_server(sddraft, sdfile)\n",
    "print(sdfile)\n",
    "```"
   ]
  },
  {
   "cell_type": "code",
   "execution_count": null,
   "metadata": {},
   "outputs": [],
   "source": []
  }
 ],
 "metadata": {
  "kernelspec": {
   "display_name": "Python 3",
   "language": "python",
   "name": "python3"
  },
  "language_info": {
   "codemirror_mode": {
    "name": "ipython",
    "version": 3
   },
   "file_extension": ".py",
   "mimetype": "text/x-python",
   "name": "python",
   "nbconvert_exporter": "python",
   "pygments_lexer": "ipython3",
   "version": "3.6.5"
  }
 },
 "nbformat": 4,
 "nbformat_minor": 2
}
