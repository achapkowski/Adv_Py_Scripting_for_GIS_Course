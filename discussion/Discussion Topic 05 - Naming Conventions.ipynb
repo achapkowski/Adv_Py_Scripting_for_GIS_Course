{
 "cells": [
  {
   "cell_type": "markdown",
   "metadata": {},
   "source": [
    "# Discussion 05 - Naming Conventions\n",
    "\n",
    "Python has spent lots of time talking about coding style and documentation.  The programs created by users should be easy to read and understand.  Good programmers should therefore be minful of their coding style, and use a style that communicates the important aspects of a program's design for both people and the computers.\n",
    "\n",
    "The official style guide for Python code is available at: https://www.python.org/dev/peps/pep-0008\n",
    "\n",
    "For docstrings, at defined in PEP 257.  The full guide can be defined here: https://www.python.org/dev/peps/pep-0257/\n",
    "\n",
    "In this discussion talk about these PEPs.  Write 5-8 sentences about PEP-8 and PEP-257.  Talk about they are important for coders to follow these styles.  If you do not agree with any of them, tell everyone why.  Once you have posted your opinion, comment 1-2 posts in a meaningful way. "
   ]
  }
 ],
 "metadata": {
  "kernelspec": {
   "display_name": "Python 3",
   "language": "python",
   "name": "python3"
  },
  "language_info": {
   "codemirror_mode": {
    "name": "ipython",
    "version": 3
   },
   "file_extension": ".py",
   "mimetype": "text/x-python",
   "name": "python",
   "nbconvert_exporter": "python",
   "pygments_lexer": "ipython3",
   "version": "3.6.5"
  }
 },
 "nbformat": 4,
 "nbformat_minor": 2
}
