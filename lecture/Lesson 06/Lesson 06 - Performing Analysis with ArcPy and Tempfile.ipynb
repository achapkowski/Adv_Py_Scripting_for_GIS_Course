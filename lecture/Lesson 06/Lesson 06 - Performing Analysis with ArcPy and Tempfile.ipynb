{
 "cells": [
  {
   "cell_type": "markdown",
   "metadata": {
    "slideshow": {
     "slide_type": "slide"
    }
   },
   "source": [
    "# Lesson 06\n",
    "## Analysis Module within ArcPy"
   ]
  },
  {
   "cell_type": "markdown",
   "metadata": {
    "slideshow": {
     "slide_type": "slide"
    }
   },
   "source": [
    "# Objectives\n",
    "\n",
    "- Examine the Analysis Tools\n",
    "- Examine the Feature Analysis Tools\n",
    "- Learn about the `tempfile` module\n"
   ]
  },
  {
   "cell_type": "markdown",
   "metadata": {
    "slideshow": {
     "slide_type": "slide"
    }
   },
   "source": [
    "## Analysis Toolbox\n",
    "\n",
    "- Collection of tools that perform the most fundamental GIS operations\n",
    "-  Five toolsets\n",
    "    + Extract\n",
    "    + Overlay\n",
    "    + Pairwise Overlay\n",
    "    + Proximity\n",
    "    + Statistics\n"
   ]
  },
  {
   "cell_type": "markdown",
   "metadata": {
    "slideshow": {
     "slide_type": "subslide"
    }
   },
   "source": [
    "### Analysis Toolbox Example\n",
    "\n",
    "- Here we need to split the center road line by each district"
   ]
  },
  {
   "cell_type": "code",
   "execution_count": 11,
   "metadata": {
    "slideshow": {
     "slide_type": "fragment"
    }
   },
   "outputs": [
    {
     "data": {
      "text/plain": [
       "['C:\\\\Users\\\\lando\\\\AppData\\\\Local\\\\Temp\\\\scratch.gdb\\\\road_line_0',\n",
       " 'C:\\\\Users\\\\lando\\\\AppData\\\\Local\\\\Temp\\\\scratch.gdb\\\\road_line_1',\n",
       " 'C:\\\\Users\\\\lando\\\\AppData\\\\Local\\\\Temp\\\\scratch.gdb\\\\road_line_2',\n",
       " 'C:\\\\Users\\\\lando\\\\AppData\\\\Local\\\\Temp\\\\scratch.gdb\\\\road_line_3',\n",
       " 'C:\\\\Users\\\\lando\\\\AppData\\\\Local\\\\Temp\\\\scratch.gdb\\\\road_line_4',\n",
       " 'C:\\\\Users\\\\lando\\\\AppData\\\\Local\\\\Temp\\\\scratch.gdb\\\\road_line_5',\n",
       " 'C:\\\\Users\\\\lando\\\\AppData\\\\Local\\\\Temp\\\\scratch.gdb\\\\road_line_6',\n",
       " 'C:\\\\Users\\\\lando\\\\AppData\\\\Local\\\\Temp\\\\scratch.gdb\\\\road_line_7',\n",
       " 'C:\\\\Users\\\\lando\\\\AppData\\\\Local\\\\Temp\\\\scratch.gdb\\\\road_line_8',\n",
       " 'C:\\\\Users\\\\lando\\\\AppData\\\\Local\\\\Temp\\\\scratch.gdb\\\\road_line_9',\n",
       " 'C:\\\\Users\\\\lando\\\\AppData\\\\Local\\\\Temp\\\\scratch.gdb\\\\road_line_10',\n",
       " 'C:\\\\Users\\\\lando\\\\AppData\\\\Local\\\\Temp\\\\scratch.gdb\\\\road_line_11']"
      ]
     },
     "execution_count": 11,
     "metadata": {},
     "output_type": "execute_result"
    }
   ],
   "source": [
    "import os\n",
    "import arcpy\n",
    "from arcpy import env\n",
    "from arcpy import da\n",
    "\n",
    "env.overwriteOutput = True\n",
    "results = []\n",
    "cnt_lines = \"./data/Centerlines.shp\"\n",
    "\n",
    "with da.SearchCursor(\"./data/School_Districts.shp\", \"SHAPE@\") as srows:\n",
    "    for idx, row in enumerate(srows):\n",
    "        out_fc = os.path.join(env.scratchGDB, f\"road_line_{idx}\")\n",
    "        geom = row[0]\n",
    "        out_fc = arcpy.analysis.Clip(cnt_lines, geom, out_feature_class=out_fc)[0]\n",
    "        results.append(out_fc)\n",
    "results"
   ]
  },
  {
   "cell_type": "markdown",
   "metadata": {
    "slideshow": {
     "slide_type": "-"
    }
   },
   "source": [
    "### Example Notes:\n",
    "\n",
    "- Mixed cursor with standard tools\n",
    "- Used geometry as input to tools"
   ]
  },
  {
   "cell_type": "markdown",
   "metadata": {
    "slideshow": {
     "slide_type": "slide"
    }
   },
   "source": [
    "# The `tempfile` Module"
   ]
  },
  {
   "cell_type": "code",
   "execution_count": 12,
   "metadata": {
    "slideshow": {
     "slide_type": "-"
    }
   },
   "outputs": [],
   "source": [
    "import tempfile"
   ]
  },
  {
   "cell_type": "markdown",
   "metadata": {
    "slideshow": {
     "slide_type": "-"
    }
   },
   "source": [
    "**Purpose:** Create temporary file system objects such as files and directories"
   ]
  },
  {
   "cell_type": "markdown",
   "metadata": {
    "slideshow": {
     "slide_type": "subslide"
    }
   },
   "source": [
    "## Why Use `tempfile`?\n",
    "\n",
    "1. Creating temporary files with unique names\n",
    "2. Helps prevent the theft of data\n",
    "3. Built in secure file generation\n",
    "4. Automatic file deletion when process finishes"
   ]
  },
  {
   "cell_type": "markdown",
   "metadata": {
    "slideshow": {
     "slide_type": "slide"
    }
   },
   "source": [
    "## Temporary Files\n",
    "\n",
    "- Used with non-persistent files that are not shared between applications\n",
    "- Files have no true name/extension"
   ]
  },
  {
   "cell_type": "code",
   "execution_count": 14,
   "metadata": {},
   "outputs": [
    {
     "name": "stdout",
     "output_type": "stream",
     "text": [
      "temp:\n",
      "  <tempfile._TemporaryFileWrapper object at 0x0000029FE17099E8>\n",
      "temp.name:\n",
      "  'C:\\\\Users\\\\lando\\\\AppData\\\\Local\\\\Temp\\\\tmpjjiy6lzj'\n"
     ]
    }
   ],
   "source": [
    "with tempfile.TemporaryFile() as temp:\n",
    "    print('temp:')\n",
    "    print('  {!r}'.format(temp))\n",
    "    print('temp.name:')\n",
    "    print('  {!r}'.format(temp.name))"
   ]
  },
  {
   "cell_type": "markdown",
   "metadata": {
    "slideshow": {
     "slide_type": "subslide"
    }
   },
   "source": [
    "## Temporary Files Continued\n",
    "\n",
    "- There is the ability to read/write data into the temporary file\n",
    "    + Defaults into `w+b`"
   ]
  },
  {
   "cell_type": "code",
   "execution_count": 16,
   "metadata": {},
   "outputs": [
    {
     "name": "stdout",
     "output_type": "stream",
     "text": [
      "b'Python is so Amazing'\n"
     ]
    }
   ],
   "source": [
    "with tempfile.TemporaryFile() as temp:\n",
    "    temp.write(b'Python is so Amazing') # notice the b for bytes\n",
    "    temp.seek(0) # rewind to the start of the file\n",
    "    print(temp.read()) # read the file"
   ]
  },
  {
   "cell_type": "markdown",
   "metadata": {
    "slideshow": {
     "slide_type": "subslide"
    }
   },
   "source": [
    "## Temporary Files Continued\n",
    "\n",
    "- Allows for the usage of other write modes."
   ]
  },
  {
   "cell_type": "code",
   "execution_count": 19,
   "metadata": {},
   "outputs": [
    {
     "name": "stdout",
     "output_type": "stream",
     "text": [
      "**Shopping List**\n",
      "\n",
      "Bread\n",
      "\n",
      "Eggs\n",
      "\n",
      "Milk\n",
      "\n"
     ]
    }
   ],
   "source": [
    "with tempfile.TemporaryFile(mode='w+t') as writer: # text data writer \n",
    "    writer.writelines(['**Shopping List**\\n','Bread\\n', 'Eggs\\n', 'Milk\\n'])\n",
    "    writer.seek(0)\n",
    "    for line in writer:\n",
    "        print(line)"
   ]
  },
  {
   "cell_type": "markdown",
   "metadata": {
    "slideshow": {
     "slide_type": "subslide"
    }
   },
   "source": [
    "## Named Temporary Files\n",
    "\n",
    "- Create temporary files that can be shared during the context of that process"
   ]
  },
  {
   "cell_type": "code",
   "execution_count": 27,
   "metadata": {},
   "outputs": [
    {
     "name": "stdout",
     "output_type": "stream",
     "text": [
      "temp:\n",
      "  <tempfile._TemporaryFileWrapper object at 0x0000029FDCB23208>\n",
      "temp.name:\n",
      "  C:\\Users\\lando\\AppData\\Local\\Temp\\tmpcr_h09yf\n"
     ]
    },
    {
     "data": {
      "text/plain": [
       "'Do I Exist Anymore? False'"
      ]
     },
     "execution_count": 27,
     "metadata": {},
     "output_type": "execute_result"
    }
   ],
   "source": [
    "import pathlib\n",
    "with tempfile.NamedTemporaryFile() as temp:\n",
    "    print('temp:')\n",
    "    print('  {0}'.format(temp))\n",
    "    print('temp.name:')\n",
    "    print('  {0}'.format(temp.name))\n",
    "\n",
    "    f = pathlib.Path(temp.name)\n",
    "f\"Do I Exist Anymore? {f.exists()}\""
   ]
  },
  {
   "cell_type": "markdown",
   "metadata": {},
   "source": [
    "## Predicted Named Temporary Files\n",
    "\n",
    "- Sometimes a file extension, prefix, or suffix is needed for a given temporary file\n"
   ]
  },
  {
   "cell_type": "code",
   "execution_count": 35,
   "metadata": {},
   "outputs": [
    {
     "name": "stdout",
     "output_type": "stream",
     "text": [
      "temp:\n",
      "   <tempfile._TemporaryFileWrapper object at 0x0000029FE453B630>\n",
      "temp.name:\n",
      "   C:\\Users\\lando\\AppData\\Local\\Temp\\adv_python_3_1gr_66.txt\n"
     ]
    }
   ],
   "source": [
    "with tempfile.NamedTemporaryFile(suffix='.txt',\n",
    "                                 prefix='adv_python_') as temp:\n",
    "    print('temp:')\n",
    "    print('  ', temp)\n",
    "    print('temp.name:')\n",
    "    print('  ', temp.name)"
   ]
  },
  {
   "cell_type": "markdown",
   "metadata": {
    "slideshow": {
     "slide_type": "subslide"
    }
   },
   "source": [
    "## Temporary Directories\n",
    "\n",
    "- There are built in commands to access the OS' temporary folder location\n",
    "- `ArcPy` has temporary storage locations just like `tempfile`"
   ]
  },
  {
   "cell_type": "code",
   "execution_count": 41,
   "metadata": {},
   "outputs": [
    {
     "name": "stdout",
     "output_type": "stream",
     "text": [
      "gettempdir(): C:\\Users\\lando\\AppData\\Local\\Temp\n",
      "gettempprefix(): tmp\n"
     ]
    }
   ],
   "source": [
    "print('gettempdir():', tempfile.gettempdir())\n",
    "print('gettempprefix():', tempfile.gettempprefix())"
   ]
  },
  {
   "cell_type": "code",
   "execution_count": 43,
   "metadata": {},
   "outputs": [
    {
     "data": {
      "text/plain": [
       "('C:\\\\Users\\\\lando\\\\AppData\\\\Local\\\\Temp\\\\scratch',\n",
       " 'C:\\\\Users\\\\lando\\\\AppData\\\\Local\\\\Temp\\\\scratch.gdb')"
      ]
     },
     "execution_count": 43,
     "metadata": {},
     "output_type": "execute_result"
    }
   ],
   "source": [
    "env.scratchFolder, env.scratchGDB"
   ]
  },
  {
   "cell_type": "markdown",
   "metadata": {
    "slideshow": {
     "slide_type": "subslide"
    }
   },
   "source": [
    "## Building Temporary Directories\n",
    "\n",
    "- Sometimes a temporary sub-folder is needed to store information for one piece the process\n",
    "    + Think downloading information"
   ]
  },
  {
   "cell_type": "code",
   "execution_count": 40,
   "metadata": {},
   "outputs": [
    {
     "name": "stdout",
     "output_type": "stream",
     "text": [
      "temp folder: C:\\Users\\lando\\AppData\\Local\\Temp\\adv_python__cy25802_storage\n",
      "DO I EXIST:  True\n",
      "DO I EXIST:  False\n"
     ]
    }
   ],
   "source": [
    "pth = None\n",
    "with tempfile.TemporaryDirectory(suffix='_storage',\n",
    "                                 prefix='adv_python_') as temp:\n",
    "    print(f'temp folder: {temp}')\n",
    "    pth = os.path.join(temp, \"test.txt\")\n",
    "    with open(pth, 'w') as writer:\n",
    "        writer.write('hello there!')\n",
    "    print(\"DO I EXIST: \", os.path.isfile(pth))\n",
    "print(\"DO I EXIST: \", os.path.isfile(pth))\n",
    "    "
   ]
  },
  {
   "cell_type": "markdown",
   "metadata": {
    "slideshow": {
     "slide_type": "slide"
    }
   },
   "source": [
    "## Recall out original example"
   ]
  },
  {
   "cell_type": "code",
   "execution_count": null,
   "metadata": {},
   "outputs": [],
   "source": [
    "import os\n",
    "import arcpy\n",
    "from arcpy import env\n",
    "from arcpy import da\n",
    "\n",
    "env.overwriteOutput = True\n",
    "\n",
    "results = []\n",
    "cnt_lines = \"./data/Centerlines.shp\"\n",
    "\n",
    "with da.SearchCursor(\"./data/School_Districts.shp\", \"SHAPE@\") as srows:\n",
    "    for idx, row in enumerate(srows):\n",
    "        out_fc = os.path.join(env.scratchGDB, f\"road_line_{idx}\")\n",
    "        geom = row[0]\n",
    "        out_fc = arcpy.analysis.Clip(cnt_lines, geom, out_feature_class=out_fc)[0]\n",
    "        results.append(out_fc)\n",
    "results"
   ]
  },
  {
   "cell_type": "markdown",
   "metadata": {
    "slideshow": {
     "slide_type": "-"
    }
   },
   "source": [
    "- Notice we manually set unique feature class names."
   ]
  },
  {
   "cell_type": "markdown",
   "metadata": {
    "slideshow": {
     "slide_type": "slide"
    }
   },
   "source": [
    "## Enhancements to Analysis\n",
    "\n",
    "- Leverage `CreateUniqueNames`\n",
    "- Use `tempfile` to generate folders and intermediate files\n",
    "- Leverage scratch GDB, scratch folders and in_memory workspaces"
   ]
  },
  {
   "cell_type": "code",
   "execution_count": null,
   "metadata": {},
   "outputs": [],
   "source": [
    "import os\n",
    "import arcpy\n",
    "import pandas as pd\n",
    "from arcpy import env\n",
    "from arcpy import da\n",
    "\n",
    "env.overwriteOutput = True\n",
    "dfs = []\n",
    "results = []\n",
    "cnt_lines = \"./data/Centerlines.shp\"\n",
    "\n",
    "with da.SearchCursor(\"./data/School_Districts.shp\", [\"SHAPE@\", 'NAME_']) as srows:\n",
    "    \n",
    "    for idx, row in enumerate(srows):\n",
    "        out_fc = arcpy.CreateUniqueName(os.path.join(env.scratchGDB, \"road_line\"))\n",
    "        geom = row[0]\n",
    "        road_lines = arcpy.analysis.Clip(cnt_lines, geom, out_feature_class=out_fc)[0]\n",
    "        arcpy.management.AddFields(road_lines, \"LENGTH_MI FLOAT # # # #;POINTS LONG # # # #\")\n",
    "        arcpy.management.CalculateGeometryAttributes(road_lines, [[\"length_mi\", \"LENGTH_GEODESIC\"], \n",
    "                                                                  [\"points\", \"POINT_COUNT\"]], \"MILES_US\")\n",
    "        with da.SearchCursor(road_lines, \"*\") as rows:\n",
    "            flds = rows.fields\n",
    "            for r in rows:\n",
    "                r = dict(zip(flds, r))\n",
    "                r['SCHOOL_DISTICT'] = row[1]\n",
    "                results.append(r)\n",
    "                del r\n",
    "            del rows\n",
    "        del idx, row"
   ]
  },
  {
   "cell_type": "markdown",
   "metadata": {
    "slideshow": {
     "slide_type": "slide"
    }
   },
   "source": [
    "## Examine Number of Roads in Each District"
   ]
  },
  {
   "cell_type": "code",
   "execution_count": null,
   "metadata": {
    "slideshow": {
     "slide_type": "-"
    }
   },
   "outputs": [],
   "source": [
    "df = pd.DataFrame(results)"
   ]
  },
  {
   "cell_type": "code",
   "execution_count": 85,
   "metadata": {
    "slideshow": {
     "slide_type": "-"
    }
   },
   "outputs": [],
   "source": [
    "import numpy as np\n",
    "from matplotlib import cm"
   ]
  },
  {
   "cell_type": "code",
   "execution_count": 84,
   "metadata": {
    "slideshow": {
     "slide_type": "-"
    }
   },
   "outputs": [
    {
     "data": {
      "text/plain": [
       "<matplotlib.axes._subplots.AxesSubplot at 0x29ff0f10d30>"
      ]
     },
     "execution_count": 84,
     "metadata": {},
     "output_type": "execute_result"
    },
    {
     "data": {
      "image/png": "[encoded data removed]",
      "text/plain": [
       "<Figure size 432x288 with 1 Axes>"
      ]
     },
     "metadata": {
      "needs_background": "light"
     },
     "output_type": "display_data"
    }
   ],
   "source": [
    "color = cm.plasma(np.linspace(.4,.8, 10))\n",
    "df.SCHOOL_DISTICT.value_counts().plot(kind='bar', color=color)"
   ]
  },
  {
   "cell_type": "code",
   "execution_count": 60,
   "metadata": {},
   "outputs": [
    {
     "name": "stdout",
     "output_type": "stream",
     "text": [
      "('OBJECTID_1', 'Shape', 'OBJECTID', 'SEGM_ID', 'PREFIX', 'NAME', 'TYPE', 'SUFFIX', 'STREET_ID_', 'ST_ID', 'LEFT_FROM_', 'RIGHT_FROM', 'LEFT_TO_AD', 'RIGHT_TO_A', 'NO_ADDR', 'ADDRTYPE', 'ONE_WAY', 'ESN_LEFT', 'ESN_RIGHT', 'JURISDICTI', 'JURISDIC_1', 'AREAL', 'FUNCLASS', 'SURFACE_TY', 'OP_STATUS', 'ACCEPTED', 'NO_LANES', 'DATE_CREAT', 'DATE_CHANG', 'FUNCTION_C', 'FUNCTION_N', 'NOTES', 'SYMBOL', 'SPEED_LIMI', 'COMPKEY', 'COMPTYPE', 'GlobalID', 'ShapeSTLen', 'Shape_Length', 'LENGTH_MI', 'POINTS')\n",
      "(1, (-105.15157528012503, 39.8017530908825), 1702, 16075, 'W', '58TH', 'AVE', ' ', 'W 58TH AVE', 'W 58th Ave', 0, 0, 0, 0, 'Outside City', 0, 'NO', 0, 0, 'JEFFERSON COUNTY', 'JEFFERSON COUNTY', ' ', 'COLLECTOR (NOT IN CITY)', 'PAVED', 'BUILT', ' ', 0, ' ', ' ', ' ', ' ', ' ', '-9', 45, 0, 68, '{6F7ED985-7EAE-4B0E-AF3A-1BFD51CBB974}', 7649.305627631393, 0.02722377903339362, 1.4487168788909912, 2)\n"
     ]
    }
   ],
   "source": [
    "with da.SearchCursor(results[0], \"*\") as rows:\n",
    "    print(rows.fields)\n",
    "    for row in rows:\n",
    "        print(row)\n",
    "        break"
   ]
  }
 ],
 "metadata": {
  "celltoolbar": "Slideshow",
  "kernelspec": {
   "display_name": "Python 3",
   "language": "python",
   "name": "python3"
  },
  "language_info": {
   "codemirror_mode": {
    "name": "ipython",
    "version": 3
   },
   "file_extension": ".py",
   "mimetype": "text/x-python",
   "name": "python",
   "nbconvert_exporter": "python",
   "pygments_lexer": "ipython3",
   "version": "3.6.7"
  }
 },
 "nbformat": 4,
 "nbformat_minor": 2
}
