{
 "cells": [
  {
   "cell_type": "markdown",
   "metadata": {
    "slideshow": {
     "slide_type": "slide"
    }
   },
   "source": [
    "# Lesson 01: Introduction to Python Part 1\n",
    "\n",
    "```\n",
    "~ Professor Chapkowski\n",
    "~ Copyright AJC 2020\n",
    "```"
   ]
  },
  {
   "cell_type": "markdown",
   "metadata": {
    "slideshow": {
     "slide_type": "subslide"
    }
   },
   "source": [
    "# Lesson Topics\n",
    "\n",
    "- Data Types\n",
    "- Arithmetic Operators\n",
    "- Comparison Operators\n",
    "- Conditionals\n",
    "- Loops\n",
    "- IO (reading/writing files)\n",
    "- functions"
   ]
  },
  {
   "cell_type": "markdown",
   "metadata": {
    "slideshow": {
     "slide_type": "slide"
    }
   },
   "source": [
    "# Data Types \n",
    "### Variables\n",
    "\n",
    "- represents a value of a given `type` stored in fixed memory\n"
   ]
  },
  {
   "cell_type": "code",
   "execution_count": null,
   "metadata": {
    "slideshow": {
     "slide_type": "fragment"
    }
   },
   "outputs": [],
   "source": [
    "b = 2\n",
    "print(b)\n",
    "b = b * 2.0\n",
    "print(b)"
   ]
  },
  {
   "cell_type": "markdown",
   "metadata": {
    "slideshow": {
     "slide_type": "fragment"
    }
   },
   "source": [
    "- b is an `integer` at first\n",
    "- after multiplication b is a `float` type"
   ]
  },
  {
   "cell_type": "markdown",
   "metadata": {
    "slideshow": {
     "slide_type": "subslide"
    }
   },
   "source": [
    "# Data Types \n",
    "### Strings\n",
    "\n",
    "- a sequence of characters enclosed by a single (') or double quotes (\")"
   ]
  },
  {
   "cell_type": "code",
   "execution_count": null,
   "metadata": {
    "slideshow": {
     "slide_type": "fragment"
    }
   },
   "outputs": [],
   "source": [
    "print(\"this is a string\")\n",
    "print('this is also a string')"
   ]
  },
  {
   "cell_type": "markdown",
   "metadata": {
    "slideshow": {
     "slide_type": "subslide"
    }
   },
   "source": [
    "# Data Types \n",
    "### String Operations\n",
    "\n",
    "- Rich string manipulation and management library\n",
    "- The `str` type operations can be found here: https://docs.python.org/3.6/library/stdtypes.html?highlight=upper#str.capitalize\n",
    "- String are *immutable*, meaning they cannot be modified with assignment statements"
   ]
  },
  {
   "cell_type": "code",
   "execution_count": null,
   "metadata": {
    "slideshow": {
     "slide_type": "fragment"
    }
   },
   "outputs": [],
   "source": [
    "s = \"spam,eggs,bacon\"\n",
    "s.upper()"
   ]
  },
  {
   "cell_type": "code",
   "execution_count": null,
   "metadata": {
    "slideshow": {
     "slide_type": "fragment"
    }
   },
   "outputs": [],
   "source": [
    "s.split(\"m\")"
   ]
  },
  {
   "cell_type": "markdown",
   "metadata": {
    "slideshow": {
     "slide_type": "subslide"
    }
   },
   "source": [
    "### String Immutable Example"
   ]
  },
  {
   "cell_type": "code",
   "execution_count": null,
   "metadata": {
    "slideshow": {
     "slide_type": "fragment"
    }
   },
   "outputs": [],
   "source": [
    "s"
   ]
  },
  {
   "cell_type": "code",
   "execution_count": null,
   "metadata": {
    "slideshow": {
     "slide_type": "fragment"
    }
   },
   "outputs": [],
   "source": [
    "s[0] = 'c'"
   ]
  },
  {
   "cell_type": "markdown",
   "metadata": {
    "slideshow": {
     "slide_type": "subslide"
    }
   },
   "source": [
    "# Data Types \n",
    "### Tuples\n",
    "\n",
    "- a sequence of arbitrary objects seperated by commas and enclosed by parantheses.\n",
    "- *Immutable* like strings\n"
   ]
  },
  {
   "cell_type": "code",
   "execution_count": null,
   "metadata": {
    "slideshow": {
     "slide_type": "fragment"
    }
   },
   "outputs": [],
   "source": [
    "t1 = (2,)\n",
    "t2 = ('dog', 'cat', -14, 5.6, t1)\n",
    "print(t2)"
   ]
  },
  {
   "cell_type": "code",
   "execution_count": null,
   "metadata": {
    "slideshow": {
     "slide_type": "fragment"
    }
   },
   "outputs": [],
   "source": [
    "t2[0] = 'fish'"
   ]
  },
  {
   "cell_type": "markdown",
   "metadata": {
    "slideshow": {
     "slide_type": "subslide"
    }
   },
   "source": [
    "# A Note on Index Values\n",
    "\n",
    "- Python usings `0` based indexing. \n",
    "- The first item in a list is **0** not **1**\n",
    "\n",
    "Recall **t2**.  The fist item is **dog**, but if I put in `t2[1]`, the return value will be **cat**"
   ]
  },
  {
   "cell_type": "code",
   "execution_count": null,
   "metadata": {
    "slideshow": {
     "slide_type": "fragment"
    }
   },
   "outputs": [],
   "source": [
    "print(\"%s should be %s\" % (t2[1], t2[0]))"
   ]
  },
  {
   "cell_type": "markdown",
   "metadata": {
    "slideshow": {
     "slide_type": "subslide"
    }
   },
   "source": [
    "# Data Types \n",
    "### Lists\n",
    "\n",
    "- a sequence of arbitrary objects seperated by commas and enclosed by brackets.\n",
    "- *Mutable*, meaning we can edit the object\n"
   ]
  },
  {
   "cell_type": "code",
   "execution_count": null,
   "metadata": {
    "slideshow": {
     "slide_type": "fragment"
    }
   },
   "outputs": [],
   "source": [
    "l = ['a', 'b', 1, 2.3, None]\n",
    "l[0] = 'c'\n",
    "l"
   ]
  },
  {
   "cell_type": "code",
   "execution_count": null,
   "metadata": {
    "slideshow": {
     "slide_type": "fragment"
    }
   },
   "outputs": [],
   "source": [
    "l[1] = 'dog'\n",
    "l"
   ]
  },
  {
   "cell_type": "markdown",
   "metadata": {
    "slideshow": {
     "slide_type": "subslide"
    }
   },
   "source": [
    "## Slicing Lists\n",
    "\n",
    "- Getting Sections of a list\n",
    "- Syntax is ```obj[<start index> : <end index> : <step size>]```"
   ]
  },
  {
   "cell_type": "code",
   "execution_count": null,
   "metadata": {
    "slideshow": {
     "slide_type": "fragment"
    }
   },
   "outputs": [],
   "source": [
    "l[2:5]"
   ]
  },
  {
   "cell_type": "code",
   "execution_count": null,
   "metadata": {
    "slideshow": {
     "slide_type": "fragment"
    }
   },
   "outputs": [],
   "source": [
    "# Using the Step Size\n",
    "l[::2]"
   ]
  },
  {
   "cell_type": "markdown",
   "metadata": {
    "slideshow": {
     "slide_type": "fragment"
    }
   },
   "source": [
    "Here we started at the first index, `0`, then said go to the end, but take every second item.\n",
    "\n",
    "More information on lists can be found here: https://docs.python.org/3.6/library/stdtypes.html?highlight=upper#lists"
   ]
  },
  {
   "cell_type": "markdown",
   "metadata": {
    "slideshow": {
     "slide_type": "slide"
    }
   },
   "source": [
    "# Arithmetic Operators\n",
    "\n",
    "- Supports the common operations:\n",
    "\n",
    "|operation|description||\n",
    "| ------------- |:-------------:| -----:|\n",
    "| +      | Addition | |\n",
    "| -      | Subtraction ||\n",
    "| * | Multiplication| |\n",
    "| / | Division| |\n",
    "| ** | Exponentiation| |\n",
    "| % | Modular Division | |\n",
    "\n",
    "- Operations can extend beyond numbers"
   ]
  },
  {
   "cell_type": "code",
   "execution_count": null,
   "metadata": {
    "slideshow": {
     "slide_type": "fragment"
    }
   },
   "outputs": [],
   "source": [
    "s1 = 'Hello '\n",
    "s2 = 'World'\n",
    "s3 = s1 + s2\n",
    "print(s3)"
   ]
  },
  {
   "cell_type": "code",
   "execution_count": null,
   "metadata": {
    "slideshow": {
     "slide_type": "fragment"
    }
   },
   "outputs": [],
   "source": [
    "a = [1,2,3]\n",
    "b = [4,5,6, 7, 8, -15.0]\n",
    "c = a + b\n",
    "print(c)"
   ]
  },
  {
   "cell_type": "markdown",
   "metadata": {
    "slideshow": {
     "slide_type": "subslide"
    }
   },
   "source": [
    "## Augmented Assignment Operators\n",
    "\n",
    "- shorthand operations \n",
    "\n",
    "|Syntax| Explination||\n",
    "| ------------- |:-------------:| -----:|\n",
    "| `a += b`      | `a = a + b` | |\n",
    "| `a -= b`      | `a = a - b` | |\n",
    "| `a *= b`      | `a = a * b` | |\n",
    "| `a /= b`      | `a = a / b` | |\n",
    "| `a **= b`      | `a = a**b` | |\n",
    "| `a %= b`      | `a = a % b` | |\n"
   ]
  },
  {
   "cell_type": "code",
   "execution_count": null,
   "metadata": {
    "slideshow": {
     "slide_type": "fragment"
    }
   },
   "outputs": [],
   "source": [
    "a = 10000\n",
    "for i in range(5):\n",
    "    a += i\n",
    "    print(a)"
   ]
  },
  {
   "cell_type": "markdown",
   "metadata": {
    "slideshow": {
     "slide_type": "slide"
    }
   },
   "source": [
    "# Comparison Operators\n",
    "\n",
    "- These operations return boolean values (True/False)\n",
    "\n",
    "| .| .| |\n",
    "| ------------- |:-------------:| -----:|\n",
    "| < | Less than | |\n",
    "| >      | Greater than ||\n",
    "| <= | Less than or equal to | |\n",
    "| >= | Greater than or equal to| |\n",
    "| == | Equal to| |\n",
    "| != | Not equal to | |\n"
   ]
  },
  {
   "cell_type": "code",
   "execution_count": null,
   "metadata": {
    "slideshow": {
     "slide_type": "fragment"
    }
   },
   "outputs": [],
   "source": [
    "a = 2.99\n",
    "b = 1.75\n",
    "c = 'dog'\n",
    "print(a>b)"
   ]
  },
  {
   "cell_type": "code",
   "execution_count": null,
   "metadata": {
    "slideshow": {
     "slide_type": "fragment"
    }
   },
   "outputs": [],
   "source": [
    "b == c"
   ]
  },
  {
   "cell_type": "markdown",
   "metadata": {
    "slideshow": {
     "slide_type": "subslide"
    }
   },
   "source": [
    "# Conditionals\n",
    "\n",
    "- uses the `if` construct\n",
    "\n",
    "```\n",
    "   if condition:\n",
    "      'do some logic'\n",
    "   else:\n",
    "      'do something different'\n",
    "```\n",
    "\n"
   ]
  },
  {
   "cell_type": "code",
   "execution_count": null,
   "metadata": {
    "slideshow": {
     "slide_type": "fragment"
    }
   },
   "outputs": [],
   "source": [
    "def my_sign(a):\n",
    "    if a < 0:\n",
    "        return '-'\n",
    "    elif a > 0:\n",
    "        return '+'\n",
    "    else:\n",
    "        return '0'\n",
    "print(my_sign(-1))\n"
   ]
  },
  {
   "cell_type": "markdown",
   "metadata": {
    "slideshow": {
     "slide_type": "slide"
    }
   },
   "source": [
    "## Loops\n",
    "\n",
    "- Execute a block of code based on a condition or for a given number of times.\n",
    "\n",
    "### While Loops\n",
    "\n",
    "```\n",
    "   while *condition*:\n",
    "      'do some code'\n",
    "```"
   ]
  },
  {
   "cell_type": "code",
   "execution_count": null,
   "metadata": {
    "slideshow": {
     "slide_type": "fragment"
    }
   },
   "outputs": [],
   "source": [
    "a = []\n",
    "m = 0\n",
    "n = 3\n",
    "while m < n:\n",
    "    a.append(m/3)\n",
    "    m += 1\n",
    "print(a)"
   ]
  },
  {
   "cell_type": "markdown",
   "metadata": {
    "slideshow": {
     "slide_type": "subslide"
    }
   },
   "source": [
    "### For Loops\n",
    "\n",
    "- Loops over a given block of code based on a sequence\n",
    "\n",
    "```\n",
    "   for *var* in *sequence*:\n",
    "      'do some code'\n",
    "```\n"
   ]
  },
  {
   "cell_type": "code",
   "execution_count": null,
   "metadata": {
    "slideshow": {
     "slide_type": "fragment"
    }
   },
   "outputs": [],
   "source": [
    "b = 0\n",
    "for i in range(10):\n",
    "    b += i\n",
    "b"
   ]
  },
  {
   "cell_type": "code",
   "execution_count": null,
   "metadata": {
    "slideshow": {
     "slide_type": "fragment"
    }
   },
   "outputs": [],
   "source": [
    "a = \"\"\n",
    "for i in ['a', 'dog', 'jumped']:\n",
    "    a += i + \" \"\n",
    "a"
   ]
  },
  {
   "cell_type": "markdown",
   "metadata": {
    "slideshow": {
     "slide_type": "slide"
    }
   },
   "source": [
    "# IO (Reading/Writing Data)\n",
    "\n",
    "### Opening and Closing Files\n",
    "\n",
    "- `file objects` allow for the reading/writing of data\n",
    "\n",
    "```\n",
    "      fo = open(<path>, <action>)\n",
    "```\n",
    "\n",
    "|.|.|.|\n",
    "| ------------- |:-------------:| -----:|\n",
    "| r      | read | |\n",
    "| w      | write ||\n",
    "| a | append to end of file | |\n",
    "| r+ | read to and write from an existing file | |\n",
    "| w+ | same as `r+`, but filename is created if it doesn't exist | |\n",
    "| a+ | same as `w+`, but data is append to the end of the file | |\n",
    "\n",
    "- `r` and `w` are the most common actions"
   ]
  },
  {
   "cell_type": "markdown",
   "metadata": {
    "slideshow": {
     "slide_type": "subslide"
    }
   },
   "source": [
    "# IO (Reading/Writing Data)\n",
    "\n",
    "### Reading Data from a File\n",
    "\n",
    "#### 3 Reading Methods\n",
    "\n",
    "1. ```fo.read(n)``` - read `n` number of characters\n",
    "2. ```fo.readline(n)``` reads `n` characters from the current line\n",
    "3. ```fo.readlines()``` reads all the lines in a file\n",
    "\n",
    "#### Extracting all lines one by one:\n",
    "\n",
    "```\n",
    "   with open(<path>, 'r') as fo:\n",
    "        for line in fo:\n",
    "            print(line)\n",
    "```"
   ]
  },
  {
   "cell_type": "markdown",
   "metadata": {
    "slideshow": {
     "slide_type": "subslide"
    }
   },
   "source": [
    "# IO (Reading/Writing Data)\n",
    "\n",
    "### Writing Data from a File\n",
    "\n",
    "- ```fo.write(<string>)``` to write a single string\n",
    "- ```fo.writelines(['a','b','c'])``` to write a list of data to a file\n",
    "\n",
    "#### Writing to File"
   ]
  },
  {
   "cell_type": "code",
   "execution_count": null,
   "metadata": {
    "slideshow": {
     "slide_type": "fragment"
    }
   },
   "outputs": [],
   "source": [
    "fo = open('test.txt', 'w')\n",
    "for k in range(100,111):\n",
    "    fo.write(\"{:4d} {:6d}\".format(k,k**2))\n",
    "    fo.write(\"\\n\")\n",
    "fo.close()"
   ]
  },
  {
   "cell_type": "markdown",
   "metadata": {
    "slideshow": {
     "slide_type": "fragment"
    }
   },
   "source": [
    "#### Reading a file"
   ]
  },
  {
   "cell_type": "code",
   "execution_count": null,
   "metadata": {
    "slideshow": {
     "slide_type": "fragment"
    }
   },
   "outputs": [],
   "source": [
    "fo = open('test.txt', 'r').read()\n",
    "fo"
   ]
  },
  {
   "cell_type": "markdown",
   "metadata": {
    "slideshow": {
     "slide_type": "slide"
    }
   },
   "source": [
    "# Functions \n",
    "\n",
    "- is a defined collection of code normally to perform a single task or bit of logic\n",
    "\n",
    "**Syntax of a Function**\n",
    "\n",
    "```\n",
    "   def <function name>(<param 1>, <param 2>,..., <param n>):\n",
    "      \"\"\"<documentation string>\"\"\"\n",
    "      <code>\n",
    "      return <some value> (optional)\n",
    "```\n",
    "\n",
    "- A function has at least 3 parts:\n",
    "\n",
    "1. function name\n",
    "2. parameters\n",
    "3. return statement (if not written function returns `None`)\n",
    "\n",
    "- Function should always have documention strings that describe what is going on\n"
   ]
  },
  {
   "cell_type": "code",
   "execution_count": null,
   "metadata": {
    "slideshow": {
     "slide_type": "subslide"
    }
   },
   "outputs": [],
   "source": [
    "def first_method(a, b, c):\n",
    "    \"\"\"\n",
    "    Takes an integer, string and float and returns a new string\n",
    "    \n",
    "    :a: string - any string\n",
    "    :b: integer - any integer\n",
    "    :c: float - any float value\n",
    "    \n",
    "    :returns: string\n",
    "    \"\"\"\n",
    "    return \"{a}, {b}, {c}\".format(a=a,\n",
    "                                  b=b, \n",
    "                                  c=c)\n",
    "first_method(\"a\", 1, 1.2)"
   ]
  },
  {
   "cell_type": "markdown",
   "metadata": {
    "slideshow": {
     "slide_type": "slide"
    }
   },
   "source": [
    "# Lambda Statements\n",
    "\n",
    "- short one line function\n",
    "- useful for quick expression that do not require a whole function definition.\n",
    "\n",
    "**Syntax**\n",
    "\n",
    "```\n",
    "   func_name = lambda <param1>, <param2>,... : <code>\n",
    "```"
   ]
  },
  {
   "cell_type": "code",
   "execution_count": null,
   "metadata": {
    "slideshow": {
     "slide_type": "fragment"
    }
   },
   "outputs": [],
   "source": [
    "area = lambda l,w : l * w"
   ]
  },
  {
   "cell_type": "code",
   "execution_count": null,
   "metadata": {
    "slideshow": {
     "slide_type": "fragment"
    }
   },
   "outputs": [],
   "source": [
    "area(10,10)"
   ]
  },
  {
   "cell_type": "markdown",
   "metadata": {
    "slideshow": {
     "slide_type": "slide"
    }
   },
   "source": [
    "### Reminder:\n",
    "\n",
    "- Don't forget the discussion board\n",
    "- All homework should be done independently\n",
    "\n",
    "```\n",
    "~ Copyright AJC 2020 ~\n",
    "```"
   ]
  }
 ],
 "metadata": {
  "celltoolbar": "Slideshow",
  "kernelspec": {
   "display_name": "Python 3",
   "language": "python",
   "name": "python3"
  },
  "language_info": {
   "codemirror_mode": {
    "name": "ipython",
    "version": 3
   },
   "file_extension": ".py",
   "mimetype": "text/x-python",
   "name": "python",
   "nbconvert_exporter": "python",
   "pygments_lexer": "ipython3",
   "version": "3.6.6"
  }
 },
 "nbformat": 4,
 "nbformat_minor": 2
}
