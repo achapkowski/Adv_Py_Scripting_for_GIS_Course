{
 "cells": [
  {
   "cell_type": "markdown",
   "metadata": {
    "slideshow": {
     "slide_type": "slide"
    }
   },
   "source": [
    "# Working with ArcPy Geometries "
   ]
  },
  {
   "cell_type": "markdown",
   "metadata": {
    "slideshow": {
     "slide_type": "slide"
    }
   },
   "source": [
    "# Overview\n",
    "\n",
    "- Geometry Objects\n",
    "- Geometry Objects in Geoprocessing Tools\n",
    "\n",
    "- Workspaces\n",
    "- Listing Functions\n",
    "- Creating Data\n",
    "    + Creating Unique Names\n",
    "    + Spatial Reference Object\n",
    "- Cursor Objects\n",
    "    + da module    "
   ]
  },
  {
   "cell_type": "markdown",
   "metadata": {
    "slideshow": {
     "slide_type": "slide"
    }
   },
   "source": [
    "# Workspaces\n",
    "\n",
    "- `management` allows for the creation of workspaces\n",
    "- What can you create?\n",
    "    + Enterprise Geodatabases\n",
    "    + File Geodatabases\n",
    "    + Folders\n",
    "    + Sqlite Databases"
   ]
  },
  {
   "cell_type": "code",
   "execution_count": 1,
   "metadata": {
    "slideshow": {
     "slide_type": "-"
    }
   },
   "outputs": [
    {
     "name": "stdout",
     "output_type": "stream",
     "text": [
      "c:\\temp\\amazing.gdb\n"
     ]
    }
   ],
   "source": [
    "import arcpy\n",
    "fgdb = arcpy.management.CreateFileGDB(out_folder_path=r\"c:\\temp\",\n",
    "                                      out_name=\"amazing.gdb\")[0]\n",
    "print(fgdb)                            "
   ]
  },
  {
   "cell_type": "markdown",
   "metadata": {
    "slideshow": {
     "slide_type": "slide"
    }
   },
   "source": [
    "# Listing Information\n",
    "\n",
    "- ArcPy provides methods to list informations\n",
    "    + workspaces\n",
    "    + fields\n",
    "    + feature classes\n",
    "    + much more... \n",
    "- Full list of methods can be found [here](http://pro.arcgis.com/en/pro-app/arcpy/functions/alphabetical-list-of-arcpy-functions.htm)\n",
    "\n",
    "```python\n",
    "import arcpy\n",
    "from arcpy import env\n",
    "env.workspace = r\"c:\\temp\"\n",
    "for fc in arcpy.ListFeatureClasses():\n",
    "    print(fc)\n",
    "```"
   ]
  },
  {
   "cell_type": "markdown",
   "metadata": {
    "slideshow": {
     "slide_type": "slide"
    }
   },
   "source": [
    "# Geometry Objects\n",
    "\n",
    "- Geometry objects define a spatial location and an associated geometric shape\n",
    "- ArcPy Supports:\n",
    "    + Point, Polyline, Polygon, Multipoints\n",
    "- The class has a set of `properties` and `methods`"
   ]
  },
  {
   "cell_type": "markdown",
   "metadata": {
    "slideshow": {
     "slide_type": "subslide"
    }
   },
   "source": [
    "# Point Geometry\n",
    "\n",
    "- Simplest Geometry (x,y {z}) \n",
    "- Construction requires two steps:\n",
    "    + 1. Create a arcpy.Point object\n",
    "    + 2. Pass the arcpy.Point object to a PointGeometry class"
   ]
  },
  {
   "cell_type": "code",
   "execution_count": 2,
   "metadata": {
    "slideshow": {
     "slide_type": "fragment"
    }
   },
   "outputs": [
    {
     "data": {
      "text/plain": [
       "'{\"x\":25282,\"y\":43770,\"spatialReference\":{\"wkid\":null}}'"
      ]
     },
     "execution_count": 2,
     "metadata": {},
     "output_type": "execute_result"
    }
   ],
   "source": [
    "import arcpy\n",
    "point = arcpy.Point(25282, 43770)\n",
    "ptGeometry = arcpy.PointGeometry(point)\n",
    "ptGeometry.JSON"
   ]
  },
  {
   "cell_type": "markdown",
   "metadata": {
    "slideshow": {
     "slide_type": "slide"
    }
   },
   "source": [
    "# Array Object\n",
    "\n",
    "- Contain points and arrays\n",
    "- Used to construct geometries higher than point geometries \n",
    "    + Polylines\n",
    "    + MultiPoints\n",
    "    + Polygons\n",
    "\n",
    "- Arrays can be reused to save object creation time.\n",
    "- Arrays support the follow methods:\n",
    "    + add\n",
    "    + append\n",
    "    + removeAll\n",
    "    + remove\n",
    "\n",
    "```python\n",
    ">>> import arcpy\n",
    ">>> coords = [[0,0], [1,1], [2,2],[2,0],[0,0]]\n",
    ">>> array = arcpy.Array([arcpy.Point(*xy) for xy in coords])\n",
    ">>> print(arcpy.Polygon(array).JSON)\n",
    "'{\"rings\":[[[0,0],[1.0001220703125,1.0001220703125],[2.0001220703125,2.0001220703125],[2.0001220703125,0],[0,0]]],\"spatialReference\":{\"wkid\":null}}'\n",
    "```"
   ]
  },
  {
   "cell_type": "markdown",
   "metadata": {
    "slideshow": {
     "slide_type": "subslide"
    }
   },
   "source": [
    "# Array Object\n",
    "### Creating Multipart Geometries \n",
    "\n",
    "- To create Multipart Geometries pass multiple `Array` objects into a geometry object\n",
    "\n",
    "```python\n",
    "import arcpy\n",
    "first_part = arcpy.Array([arcpy.Point(-77.4349451, 37.5408265),\n",
    "                          arcpy.Point(-78.6384349, 35.7780943)])\n",
    "second_part = arcpy.Array([arcpy.Point(-79.7910143, 36.0786785),\n",
    "                           arcpy.Point(-80.8546435, 35.2315402)])\n",
    "\n",
    "array = arcpy.Array([first_part, second_part])\n",
    "multipart_feature = arcpy.Polyline(array)\n",
    "```"
   ]
  },
  {
   "cell_type": "markdown",
   "metadata": {
    "slideshow": {
     "slide_type": "slide"
    }
   },
   "source": [
    "# Polyline Geometry\n",
    "\n",
    "- Consists of at least 2 points\n",
    "- Unlike OGC Geometries a Poyline can be single or multipart segments\n",
    "    + This means there are less geometry objects to worry about (simple geometry API)\n",
    "\n",
    "```python\n",
    "import arcpy\n",
    "feature_info = [[[1, 2], [2, 4], [3, 7]],\n",
    "                [[6, 8], [5, 7], [7, 2], [9, 5]]]\n",
    "\n",
    "# A list that will hold each of the Polyline objects\n",
    "features = []\n",
    "for feature in feature_info:\n",
    "    # Create a Polyline object based on the array of points\n",
    "    # Append to the list of Polyline objects\n",
    "    features.append(\n",
    "        arcpy.Polyline(\n",
    "            arcpy.Array([arcpy.Point(*coords) for coords in feature])))\n",
    "```"
   ]
  },
  {
   "cell_type": "markdown",
   "metadata": {
    "slideshow": {
     "slide_type": "slide"
    }
   },
   "source": [
    "# Polygon Geometry\n",
    "\n",
    "- Consists of at least 3 points and is closed\n",
    "    + ends where the first point begins\n",
    "- You pass in an array and a spatial reference\n",
    "- If you don't provide the last coordinate to close the geometry, arcpy will use the first x/y coordinate\n",
    "```python\n",
    "import arcpy\n",
    "xys = [[5,5], [10,10], [10,5]]\n",
    "array = arcpy.Array([arcpy.Point(*xy) for xy in xys])\n",
    "polygon = arcpy.Polygon(array)\n",
    "```"
   ]
  },
  {
   "cell_type": "markdown",
   "metadata": {
    "slideshow": {
     "slide_type": "slide"
    }
   },
   "source": [
    "# MutltiPoint Geometry \n",
    "\n",
    "- They are ordered collection of points\n",
    "- Collections or group of x/y locations associated with a single geometry\n",
    "\n",
    "```python\n",
    "import arcpy\n",
    "xys = [[-99,5, 70], [100,-57, 56]]\n",
    "array = arcpy.Array([arcpy.Point(*xy) for coords in xys])\n",
    "mp = arcpy.Multipoint(array)\n",
    "```"
   ]
  },
  {
   "cell_type": "code",
   "execution_count": 3,
   "metadata": {
    "slideshow": {
     "slide_type": "-"
    }
   },
   "outputs": [
    {
     "data": {
      "text/plain": [
       "'{\"points\":[[5,5],[10,5],[10,10]],\"spatialReference\":{\"wkid\":null}}'"
      ]
     },
     "execution_count": 3,
     "metadata": {},
     "output_type": "execute_result"
    }
   ],
   "source": [
    "import arcpy\n",
    "xys = [[5,5], [10,10], [10,5]]\n",
    "array = arcpy.Array([arcpy.Point(*xy) for xy in xys])\n",
    "arcpy.Multipoint(array).JSON"
   ]
  },
  {
   "cell_type": "markdown",
   "metadata": {
    "slideshow": {
     "slide_type": "slide"
    }
   },
   "source": [
    "# Spatial References\n",
    "\n",
    "- Geographic datasets, such as feature classes, coverages, and rasters, have a spatial reference \n",
    "- The spatial reference defines a dataset's coordinate system, x,y domain, m-domain, and z-domain\n",
    "- The `SpatialReference` object can be created of obtained from existing dataset:\n",
    "    + From `arcpy.SpatialReference`\n",
    "    + From arcpy.da.Describe"
   ]
  },
  {
   "cell_type": "markdown",
   "metadata": {
    "slideshow": {
     "slide_type": "subslide"
    }
   },
   "source": [
    "# Why Are Spatial References Important\n",
    "\n",
    "- Identifies the coordinate systems\n",
    "- Allows data to be in the best projection for the job\n",
    "- Provides information about how the data is represented on Earth\n",
    "    + Cartesian\n",
    "    + Geographic\n",
    "\n",
    "[more information here](https://www.e-education.psu.edu/geog160/node/1914)"
   ]
  },
  {
   "cell_type": "markdown",
   "metadata": {
    "slideshow": {
     "slide_type": "subslide"
    }
   },
   "source": [
    "# Creating Spatial Reference Objects\n",
    "\n",
    "- Many ways to create objects:\n",
    "    + from factory code (4326)\n",
    "    + from projection file (.prj)\n",
    "    + from string \n",
    "\n",
    "```python\n",
    "sr = arcpy.SpatialReference(4326)\n",
    "sr = arcpy.SpatialReference(\"c:/coordsystems/NAD 1983.prj\")\n",
    "wkt = \"GEOGCS['GCS_WGS_1984',DATUM['D_WGS_1984',SPHEROID['WGS_1984',6378137.0,298.257223563]],\\\n",
    "               PRIMEM['Greenwich',0.0],UNIT['Degree',0.0174532925199433]];\\\n",
    "               -400 -400 1000000000;-100000 10000;-100000 10000;8.98315284119522E-09;\\\n",
    "               0.001;0.001;IsHighPrecision\"\n",
    "sr = arcpy.SpatialReference()\n",
    "sr.loadFromString(wkt)\n",
    "```"
   ]
  },
  {
   "cell_type": "markdown",
   "metadata": {
    "slideshow": {
     "slide_type": "subslide"
    }
   },
   "source": [
    "# Useful Properties \n",
    "\n",
    "- `factoryCode` - The factory code or well-known ID (WKID) of the spatial reference\n",
    "\n",
    "```python\n",
    ">>> sr = arcpy.da.Describe(fc)['spatialReference']\n",
    ">>> print(sr.factoryCode)\n",
    "32145\n",
    "```\n",
    "- `name` - name of the projection\n",
    "- `type` - The type of the spatial reference\n",
    "\n",
    "- These properties help you when reprojecting or working with mixed spatial references\n"
   ]
  },
  {
   "cell_type": "code",
   "execution_count": 4,
   "metadata": {
    "slideshow": {
     "slide_type": "-"
    }
   },
   "outputs": [
    {
     "name": "stdout",
     "output_type": "stream",
     "text": [
      "('GCS_WGS_1984', 'Geographic', 4326)\n",
      "('NAD_1983_StatePlane_Vermont_FIPS_4400', 'Projected', 32145)\n"
     ]
    }
   ],
   "source": [
    "import arcpy\n",
    "for factcode in [4326, 32145]:\n",
    "    sr = arcpy.SpatialReference(factcode)\n",
    "    print((sr.name, sr.type, sr.factoryCode))"
   ]
  },
  {
   "cell_type": "markdown",
   "metadata": {
    "slideshow": {
     "slide_type": "subslide"
    }
   },
   "source": [
    "# Geometries and Spatial References\n",
    "\n",
    "- So far we have create geometries without spatial references\n",
    "\n",
    "```python\n",
    ">>> pt = arcpy.Point(X=34, Y=-74)\n",
    ">>> sr = arcpy.SpatialReference(4326)\n",
    ">>> pt_geom = arcpy.PointGeometry(pt, sr)\n",
    ">>> print(pt_geom.JSON)\n",
    "\n",
    "'{\"x\":34,\"y\":-74,\"spatialReference\":{\"wkid\":4326,\"latestWkid\":4326}}'\n",
    "```"
   ]
  },
  {
   "cell_type": "markdown",
   "metadata": {
    "slideshow": {
     "slide_type": "slide"
    }
   },
   "source": [
    "# Creating Feature Classes\n",
    "\n",
    "- ArcPy's `management` sub-package provides tool to create and modify feature classes\n",
    "- At minimum, always include name, path, spatial reference and geometry type in `CreateFeatureClass`\n",
    "- Names must be **unique**\n",
    "\n",
    "```python\n",
    "fc = arcpy.management.CreateFeatureclass(out_name=\"data.shp\",\n",
    "                                         out_path=r\"c:\\temp\",\n",
    "                                         spatial_reference=arcpy.SpatialReference(4326),\n",
    "                                         geometry_type=\"POINT\")[0]\n",
    "```"
   ]
  },
  {
   "cell_type": "markdown",
   "metadata": {
    "slideshow": {
     "slide_type": "slide"
    }
   },
   "source": [
    "# Ensuring Unique Names\n",
    "\n",
    "- `arcpy.CreateUniqueName` provides a unique name\n",
    "    + if the name exists it adds a number at the end of the name\n",
    "    \n",
    "```python\n",
    ">>> arcpy.management.CreateFeatureclass(out_name=\"data.shp\",\n",
    "                                         out_path=r\"c:\\temp\",\n",
    "                                         spatial_reference=arcpy.SpatialReference(4326),\n",
    "                                         geometry_type=\"POINT\")[0]\n",
    ">>> out_fc = arcpy.CreateUniqueName(base_name=\"data.shp\", \n",
    "                                  workspace=r\"c:\\temp\")\n",
    ">>> print(out_fc)\n",
    "c:\\temp\\data0.shp\n",
    "```\n"
   ]
  },
  {
   "cell_type": "markdown",
   "metadata": {
    "slideshow": {
     "slide_type": "slide"
    }
   },
   "source": [
    "# Add Field to Feature Class\n",
    "\n",
    "- `AddField` provides way of adding columns to a table, featureclass or raster\n",
    "- Allowed types\n",
    "    + TEXT —Any string of characters.\n",
    "    + FLOAT — Fractional numbers between -3.4E38 and 1.2E38.\n",
    "    + DOUBLE — Fractional numbers between -2.2E308 and 1.8E308.\n",
    "    + SHORT — Whole numbers between -32,768 and 32,767.\n",
    "    + LONG — Whole numbers between -2,147,483,648 and 2,147,483,647.\n",
    "    + DATE —Date and/or time.\n",
    "    + BLOB —Long sequence of binary numbers. You need a custom loader or viewer or a third-party application to load items into a BLOB field or view the contents of a BLOB field.\n",
    "    + RASTER —Raster images. All ArcGIS software-supported raster dataset formats can be stored, but it is highly recommended that only small images be used.\n",
    "    + GUID —Globally unique identifier.\n",
    "\n",
    "```python\n",
    "arcpy.management.AddField(in_table=out_fc, \n",
    "                          field_name=\"DESCRIPTION\", \n",
    "                          field_type=\"TEXT\", \n",
    "                          field_length=150)\n",
    "```"
   ]
  },
  {
   "cell_type": "markdown",
   "metadata": {
    "slideshow": {
     "slide_type": "subslide"
    }
   },
   "source": [
    "# Adding Fields to a Feature Class\n"
   ]
  },
  {
   "cell_type": "code",
   "execution_count": 5,
   "metadata": {
    "slideshow": {
     "slide_type": "-"
    }
   },
   "outputs": [],
   "source": [
    "out_fc = r\"c:\\temp\\data.shp\"\n",
    "fields = [\n",
    "    (\"FIELDTXT\", \"TEXT\"),\n",
    "    (\"FIELDDBLE\", \"DOUBLE\"),\n",
    "    (\"FIELDINT\", \"LONG\"),\n",
    "    (\"FIELDFLT\", \"FLOAT\")]\n",
    "for fld in fields:\n",
    "    arcpy.management.AddField(in_table=out_fc, field_name=fld[0], field_type=fld[1])"
   ]
  },
  {
   "cell_type": "code",
   "execution_count": 6,
   "metadata": {
    "slideshow": {
     "slide_type": "-"
    }
   },
   "outputs": [
    {
     "data": {
      "text/plain": [
       "['FID', 'Shape', 'Id', 'FIELDTXT', 'FIELDDBLE', 'FIELDINT', 'FIELDFLT']"
      ]
     },
     "execution_count": 6,
     "metadata": {},
     "output_type": "execute_result"
    }
   ],
   "source": [
    "[fld.name for fld in arcpy.ListFields(out_fc)]"
   ]
  },
  {
   "cell_type": "markdown",
   "metadata": {
    "slideshow": {
     "slide_type": "slide"
    }
   },
   "source": [
    "# Geometries as Inputs/Outputs\n",
    "\n",
    "- Geoprocessing tools allow for direct inputs of Geometries\n",
    "    + support inputs\n",
    "    + support outputs\n",
    "- Substitute geometry for feature classes\n",
    "- Sometime when you need to do a simple operation and not write to disk!\n"
   ]
  },
  {
   "cell_type": "code",
   "execution_count": 8,
   "metadata": {
    "slideshow": {
     "slide_type": "subslide"
    }
   },
   "outputs": [
    {
     "data": {
      "text/plain": [
       "<Polygon object at 0x24bd231d668[0x24bc8821c60]>"
      ]
     },
     "execution_count": 8,
     "metadata": {},
     "output_type": "execute_result"
    }
   ],
   "source": [
    "import arcpy\n",
    "sr = arcpy.SpatialReference(4326)\n",
    "xys = [[5,5], [10,10], [10,5]]\n",
    "array = arcpy.Array([arcpy.Point(*xy) for xy in xys])\n",
    "ply = arcpy.Polygon(array, sr)\n",
    "\n",
    "buffer_geom = arcpy.analysis.Buffer(in_features=ply, \n",
    "                      buffer_distance_or_field=\"100 Feet\", \n",
    "                      out_feature_class=arcpy.Geometry())[0]\n",
    "buffer_geom"
   ]
  },
  {
   "cell_type": "markdown",
   "metadata": {
    "slideshow": {
     "slide_type": "slide"
    }
   },
   "source": [
    "# Geometries as Inputs/Outputs\n",
    "\n",
    "- Geometry as input and Feature class as output\n",
    "\n",
    "```python\n",
    "import os\n",
    "import arcpy\n",
    "from arcpy import env\n",
    "arcpy.management.CopyFeatures(in_features=buffer_geom, \n",
    "                              out_feature_class=os.path.join(env.scratchGDB, \n",
    "                                                             \"bufferply\"))[0]\n",
    "```"
   ]
  },
  {
   "cell_type": "markdown",
   "metadata": {
    "slideshow": {
     "slide_type": "subslide"
    }
   },
   "source": [
    "### Example: Reading GeoJSON to a Feature Class"
   ]
  },
  {
   "cell_type": "code",
   "execution_count": 9,
   "metadata": {
    "slideshow": {
     "slide_type": "-"
    }
   },
   "outputs": [
    {
     "name": "stdout",
     "output_type": "stream",
     "text": [
      "Finished: Inserted 653 Rows\n"
     ]
    }
   ],
   "source": [
    "import json, os\n",
    "import requests\n",
    "import arcpy\n",
    "from arcpy import env\n",
    "from arcpy import da\n",
    "fc = os.path.join(env.scratchGDB, \"alaskaJS\")\n",
    "if arcpy.Exists(fc):\n",
    "    arcpy.management.Delete(fc)\n",
    "fc = arcpy.management.CreateFeatureclass(out_path=env.scratchGDB,\n",
    "                                         out_name=\"alaskaJS\",\n",
    "                                         geometry_type=\"POLYGON\",\n",
    "                                         spatial_reference=arcpy.SpatialReference(4326))[0]\n",
    "arcpy.management.AddField(fc, field_name=\"STNAME\", field_type=\"TEXT\")\n",
    "\n",
    "with open(\"./alaska.geojson\", 'r') as reader:\n",
    "    text = reader.read()\n",
    "    data = json.loads(text)\n",
    "    with da.InsertCursor(fc, ['SHAPE@', \"STNAME\"]) as icur:\n",
    "        for feature in data['features']:\n",
    "            geom = arcpy.AsShape(feature['geometry']) # Converts GeoJSON to ArcPy Geometry\n",
    "            NAME = feature['properties']['NAME']\n",
    "            icur.insertRow([geom, NAME])\n",
    "print(f'Finished: Inserted {arcpy.GetCount_management(fc)[0]} Rows')"
   ]
  }
 ],
 "metadata": {
  "celltoolbar": "Slideshow",
  "kernelspec": {
   "display_name": "Python 3",
   "language": "python",
   "name": "python3"
  },
  "language_info": {
   "codemirror_mode": {
    "name": "ipython",
    "version": 3
   },
   "file_extension": ".py",
   "mimetype": "text/x-python",
   "name": "python",
   "nbconvert_exporter": "python",
   "pygments_lexer": "ipython3",
   "version": "3.6.7"
  }
 },
 "nbformat": 4,
 "nbformat_minor": 2
}
