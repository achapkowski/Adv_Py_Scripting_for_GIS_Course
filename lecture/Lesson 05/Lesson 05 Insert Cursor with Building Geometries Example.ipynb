{
 "cells": [
  {
   "cell_type": "markdown",
   "metadata": {},
   "source": [
    "# Insert Cursor Demo\n",
    "\n",
    "- Shows how to use an insert cursor\n",
    "- Goal: Take a table (csv file) and make it spatial!"
   ]
  },
  {
   "cell_type": "code",
   "execution_count": null,
   "metadata": {},
   "outputs": [],
   "source": [
    "import os\n",
    "from arcpy import da\n",
    "from arcpy import env\n",
    "import arcpy"
   ]
  },
  {
   "cell_type": "code",
   "execution_count": null,
   "metadata": {},
   "outputs": [],
   "source": [
    "import pandas as pd"
   ]
  },
  {
   "cell_type": "code",
   "execution_count": null,
   "metadata": {},
   "outputs": [],
   "source": [
    "# Monument data from a github site. \n",
    "df = pd.read_csv(\"https://raw.githubusercontent.com/mike-n-7/ML4/master/data/monuments.csv\")\n",
    "df.head()"
   ]
  },
  {
   "cell_type": "markdown",
   "metadata": {},
   "source": [
    "### Create a Feature Class\n",
    "\n",
    "##### Check if the Feature Class Exists\n",
    "\n",
    "- recall: When creating feature classes, spatial tables not exist"
   ]
  },
  {
   "cell_type": "code",
   "execution_count": null,
   "metadata": {},
   "outputs": [],
   "source": [
    "fc = os.path.join(env.scratchGDB, \"monuments\")\n",
    "if arcpy.Exists(fc):\n",
    "    arcpy.management.Delete(fc)"
   ]
  },
  {
   "cell_type": "markdown",
   "metadata": {},
   "source": [
    "##### Create Spatial Reference"
   ]
  },
  {
   "cell_type": "code",
   "execution_count": null,
   "metadata": {},
   "outputs": [],
   "source": [
    "sr = arcpy.SpatialReference(4326)"
   ]
  },
  {
   "cell_type": "markdown",
   "metadata": {},
   "source": [
    "#### Create The Feature Class "
   ]
  },
  {
   "cell_type": "code",
   "execution_count": null,
   "metadata": {},
   "outputs": [],
   "source": [
    "fc = arcpy.management.CreateFeatureclass(out_name=os.path.basename(fc), \n",
    "                                         out_path=os.path.dirname(fc), \n",
    "                                         geometry_type=\"POINT\", \n",
    "                                         spatial_reference=sr)[0]\n",
    "print(fc)"
   ]
  },
  {
   "cell_type": "markdown",
   "metadata": {},
   "source": [
    "#### Add Fields to the Feature Class\n",
    "\n",
    "- Use the `arcpy.management.AddField()`"
   ]
  },
  {
   "cell_type": "code",
   "execution_count": null,
   "metadata": {},
   "outputs": [],
   "source": [
    "arcpy.management.AddField(in_table=fc, field_name=\"NOM\", field_type=\"TEXT\")\n",
    "arcpy.management.AddField(in_table=fc, field_name=\"LONG\", field_type=\"DOUBLE\")\n",
    "arcpy.management.AddField(in_table=fc, field_name=\"LAT\", field_type=\"DOUBLE\")\n",
    "fields = [fld.name for fld in arcpy.ListFields(fc) \\\n",
    "          if fld.type != \"Geometry\"]\n",
    "fields"
   ]
  },
  {
   "cell_type": "markdown",
   "metadata": {},
   "source": [
    "#### Load the Data\n",
    "\n",
    "- Use an Insert Cursor to add the information\n"
   ]
  },
  {
   "cell_type": "code",
   "execution_count": null,
   "metadata": {},
   "outputs": [],
   "source": [
    "fields = [fld.name for fld in arcpy.ListFields(fc) \\\n",
    "          if fld.type not in  [\"Geometry\", \"OID\"]]\n",
    "fields += ['Shape@']"
   ]
  },
  {
   "cell_type": "code",
   "execution_count": null,
   "metadata": {},
   "outputs": [],
   "source": [
    "fields"
   ]
  },
  {
   "cell_type": "markdown",
   "metadata": {},
   "source": [
    "**A Sample of the Data**"
   ]
  },
  {
   "cell_type": "code",
   "execution_count": null,
   "metadata": {},
   "outputs": [],
   "source": [
    "dict(zip(df.columns.tolist(), df.values[0].tolist()))"
   ]
  },
  {
   "cell_type": "markdown",
   "metadata": {},
   "source": [
    "### Create the Cursor Object\n",
    "\n",
    "- Use the `with` pattern to create a cursor\n",
    "- For each row in the Data Frame, **insert** a new row\n",
    "- Finally clean up the cursor and release the lock\n",
    "    + `del` ensure the lock is removed (though should not be needed)"
   ]
  },
  {
   "cell_type": "code",
   "execution_count": null,
   "metadata": {},
   "outputs": [],
   "source": [
    "with da.InsertCursor(fc, fields) as icur:\n",
    "    for row in df.values:\n",
    "        pt = arcpy.Point(row[-2], row[-1])\n",
    "        ptgeom = arcpy.PointGeometry(pt, sr)\n",
    "        icur.insertRow([row[1], row[-2], row[-1], ptgeom])\n",
    "        \n",
    "del icur"
   ]
  },
  {
   "cell_type": "markdown",
   "metadata": {},
   "source": [
    "##### Display the Added Rows"
   ]
  },
  {
   "cell_type": "code",
   "execution_count": null,
   "metadata": {},
   "outputs": [],
   "source": [
    "arcpy.management.GetCount(fc)[0]"
   ]
  },
  {
   "cell_type": "markdown",
   "metadata": {},
   "source": [
    "### Map It"
   ]
  },
  {
   "cell_type": "code",
   "execution_count": null,
   "metadata": {},
   "outputs": [],
   "source": [
    "from arcgis.gis import GIS\n",
    "gis = GIS()"
   ]
  },
  {
   "cell_type": "code",
   "execution_count": null,
   "metadata": {},
   "outputs": [],
   "source": [
    "m1 = gis.map()\n",
    "m1.center = (45.4944962453396,-73.53701983501136)\n",
    "m1"
   ]
  },
  {
   "cell_type": "code",
   "execution_count": null,
   "metadata": {},
   "outputs": [],
   "source": [
    "m1.zoom = 12"
   ]
  },
  {
   "cell_type": "code",
   "execution_count": null,
   "metadata": {},
   "outputs": [],
   "source": [
    "from arcgis.features import GeoAccessor, GeoSeriesAccessor\n",
    "sdf = pd.DataFrame.spatial.from_featureclass(fc)\n",
    "sdf.head()"
   ]
  },
  {
   "cell_type": "code",
   "execution_count": null,
   "metadata": {},
   "outputs": [],
   "source": [
    "sdf.spatial.plot(m1)"
   ]
  }
 ],
 "metadata": {
  "kernelspec": {
   "display_name": "Python 3",
   "language": "python",
   "name": "python3"
  },
  "language_info": {
   "codemirror_mode": {
    "name": "ipython",
    "version": 3
   },
   "file_extension": ".py",
   "mimetype": "text/x-python",
   "name": "python",
   "nbconvert_exporter": "python",
   "pygments_lexer": "ipython3",
   "version": "3.6.9"
  }
 },
 "nbformat": 4,
 "nbformat_minor": 2
}
