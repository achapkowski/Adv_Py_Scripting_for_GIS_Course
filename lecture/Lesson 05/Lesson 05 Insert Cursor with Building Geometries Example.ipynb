{
 "cells": [
  {
   "cell_type": "markdown",
   "metadata": {},
   "source": [
    "# Insert Cursor Demo\n",
    "\n",
    "- Shows how to use an insert cursor\n",
    "- Goal: Take a table (csv file) and make it spatial!"
   ]
  },
  {
   "cell_type": "code",
   "execution_count": 7,
   "metadata": {},
   "outputs": [],
   "source": [
    "import os\n",
    "from arcpy import da\n",
    "from arcpy import env\n",
    "import arcpy"
   ]
  },
  {
   "cell_type": "code",
   "execution_count": 8,
   "metadata": {},
   "outputs": [],
   "source": [
    "import pandas as pd"
   ]
  },
  {
   "cell_type": "code",
   "execution_count": 9,
   "metadata": {},
   "outputs": [
    {
     "data": {
      "text/html": [
       "<div>\n",
       "<style scoped>\n",
       "    .dataframe tbody tr th:only-of-type {\n",
       "        vertical-align: middle;\n",
       "    }\n",
       "\n",
       "    .dataframe tbody tr th {\n",
       "        vertical-align: top;\n",
       "    }\n",
       "\n",
       "    .dataframe thead th {\n",
       "        text-align: right;\n",
       "    }\n",
       "</style>\n",
       "<table border=\"1\" class=\"dataframe\">\n",
       "  <thead>\n",
       "    <tr style=\"text-align: right;\">\n",
       "      <th></th>\n",
       "      <th>NO_OUVRAGE</th>\n",
       "      <th>NOM</th>\n",
       "      <th>x</th>\n",
       "      <th>y</th>\n",
       "      <th>LONG</th>\n",
       "      <th>LAT</th>\n",
       "    </tr>\n",
       "  </thead>\n",
       "  <tbody>\n",
       "    <tr>\n",
       "      <th>0</th>\n",
       "      <td>215</td>\n",
       "      <td>CROIX DU MONT-ROYAL</td>\n",
       "      <td>297931.979414</td>\n",
       "      <td>5.040996e+06</td>\n",
       "      <td>-73.587896</td>\n",
       "      <td>45.508851</td>\n",
       "    </tr>\n",
       "    <tr>\n",
       "      <th>1</th>\n",
       "      <td>933</td>\n",
       "      <td>MONUMENT LOUIS RUBINSTEIN (PC J.-MANCE)</td>\n",
       "      <td>297852.176927</td>\n",
       "      <td>5.041888e+06</td>\n",
       "      <td>-73.588930</td>\n",
       "      <td>45.516872</td>\n",
       "    </tr>\n",
       "    <tr>\n",
       "      <th>2</th>\n",
       "      <td>963</td>\n",
       "      <td>MONUMENT FRERE MARIE VICTORIN</td>\n",
       "      <td>300438.173416</td>\n",
       "      <td>5.046376e+06</td>\n",
       "      <td>-73.555870</td>\n",
       "      <td>45.557280</td>\n",
       "    </tr>\n",
       "    <tr>\n",
       "      <th>3</th>\n",
       "      <td>1642</td>\n",
       "      <td>LES GRAMINÉES DU JARDIN SAINT-SULPICE</td>\n",
       "      <td>293748.069071</td>\n",
       "      <td>5.046620e+06</td>\n",
       "      <td>-73.641568</td>\n",
       "      <td>45.559403</td>\n",
       "    </tr>\n",
       "    <tr>\n",
       "      <th>4</th>\n",
       "      <td>1643</td>\n",
       "      <td>LIMITE TEMPS</td>\n",
       "      <td>292150.196458</td>\n",
       "      <td>5.047910e+06</td>\n",
       "      <td>-73.662069</td>\n",
       "      <td>45.570984</td>\n",
       "    </tr>\n",
       "  </tbody>\n",
       "</table>\n",
       "</div>"
      ],
      "text/plain": [
       "   NO_OUVRAGE                                      NOM              x  \\\n",
       "0         215                      CROIX DU MONT-ROYAL  297931.979414   \n",
       "1         933  MONUMENT LOUIS RUBINSTEIN (PC J.-MANCE)  297852.176927   \n",
       "2         963            MONUMENT FRERE MARIE VICTORIN  300438.173416   \n",
       "3        1642    LES GRAMINÉES DU JARDIN SAINT-SULPICE  293748.069071   \n",
       "4        1643                             LIMITE TEMPS  292150.196458   \n",
       "\n",
       "              y       LONG        LAT  \n",
       "0  5.040996e+06 -73.587896  45.508851  \n",
       "1  5.041888e+06 -73.588930  45.516872  \n",
       "2  5.046376e+06 -73.555870  45.557280  \n",
       "3  5.046620e+06 -73.641568  45.559403  \n",
       "4  5.047910e+06 -73.662069  45.570984  "
      ]
     },
     "execution_count": 9,
     "metadata": {},
     "output_type": "execute_result"
    }
   ],
   "source": [
    "# Monument data from a github site. \n",
    "df = pd.read_csv(\"https://raw.githubusercontent.com/mike-n-7/ML4/master/data/monuments.csv\")\n",
    "df.head()"
   ]
  },
  {
   "cell_type": "markdown",
   "metadata": {},
   "source": [
    "### Create a Feature Class\n",
    "\n",
    "##### Check if the Feature Class Exists\n",
    "\n",
    "- recall: When creating feature classes, spatial tables not exist"
   ]
  },
  {
   "cell_type": "code",
   "execution_count": 10,
   "metadata": {},
   "outputs": [],
   "source": [
    "fc = os.path.join(env.scratchGDB, \"monument\")\n",
    "if arcpy.Exists(fc):\n",
    "    arcpy.management.Delete(fc)"
   ]
  },
  {
   "cell_type": "markdown",
   "metadata": {},
   "source": [
    "##### Create Spatial Reference"
   ]
  },
  {
   "cell_type": "code",
   "execution_count": 11,
   "metadata": {},
   "outputs": [],
   "source": [
    "sr = arcpy.SpatialReference(4326)"
   ]
  },
  {
   "cell_type": "markdown",
   "metadata": {},
   "source": [
    "#### Create The Feature Class "
   ]
  },
  {
   "cell_type": "code",
   "execution_count": 12,
   "metadata": {},
   "outputs": [
    {
     "name": "stdout",
     "output_type": "stream",
     "text": [
      "C:\\Users\\lando\\AppData\\Local\\Temp\\scratch.gdb\\monument\n"
     ]
    }
   ],
   "source": [
    "fc = arcpy.management.CreateFeatureclass(out_name=os.path.basename(fc), \n",
    "                                         out_path=os.path.dirname(fc), \n",
    "                                         geometry_type=\"POINT\", \n",
    "                                         spatial_reference=sr)[0]\n",
    "print(fc)"
   ]
  },
  {
   "cell_type": "markdown",
   "metadata": {},
   "source": [
    "#### Add Fields to the Feature Class\n",
    "\n",
    "- Use the `arcpy.management.AddField()`"
   ]
  },
  {
   "cell_type": "code",
   "execution_count": 13,
   "metadata": {},
   "outputs": [
    {
     "data": {
      "text/plain": [
       "['OBJECTID', 'NOM', 'LONG', 'LAT']"
      ]
     },
     "execution_count": 13,
     "metadata": {},
     "output_type": "execute_result"
    }
   ],
   "source": [
    "arcpy.management.AddField(in_table=fc, field_name=\"NOM\", field_type=\"TEXT\")\n",
    "arcpy.management.AddField(in_table=fc, field_name=\"LONG\", field_type=\"DOUBLE\")\n",
    "arcpy.management.AddField(in_table=fc, field_name=\"LAT\", field_type=\"DOUBLE\")\n",
    "fields = [fld.name for fld in arcpy.ListFields(fc) \\\n",
    "          if fld.type != \"Geometry\"]\n",
    "fields"
   ]
  },
  {
   "cell_type": "markdown",
   "metadata": {},
   "source": [
    "#### Load the Data\n",
    "\n",
    "- Use an Insert Cursor to add the information\n"
   ]
  },
  {
   "cell_type": "code",
   "execution_count": 14,
   "metadata": {},
   "outputs": [],
   "source": [
    "fields = [fld.name for fld in arcpy.ListFields(fc) \\\n",
    "          if fld.type not in  [\"Geometry\", \"OID\"]]\n",
    "fields += ['Shape@']"
   ]
  },
  {
   "cell_type": "code",
   "execution_count": 15,
   "metadata": {},
   "outputs": [
    {
     "data": {
      "text/plain": [
       "['NOM', 'LONG', 'LAT', 'Shape@']"
      ]
     },
     "execution_count": 15,
     "metadata": {},
     "output_type": "execute_result"
    }
   ],
   "source": [
    "fields"
   ]
  },
  {
   "cell_type": "markdown",
   "metadata": {},
   "source": [
    "**A Sample of the Data**"
   ]
  },
  {
   "cell_type": "code",
   "execution_count": 16,
   "metadata": {},
   "outputs": [
    {
     "data": {
      "text/plain": [
       "{'NO_OUVRAGE': 215,\n",
       " 'NOM': 'CROIX DU MONT-ROYAL',\n",
       " 'x': 297931.97941375,\n",
       " 'y': 5040996.027761,\n",
       " 'LONG': -73.587896,\n",
       " 'LAT': 45.508851}"
      ]
     },
     "execution_count": 16,
     "metadata": {},
     "output_type": "execute_result"
    }
   ],
   "source": [
    "dict(zip(df.columns.tolist(), df.values[0].tolist()))"
   ]
  },
  {
   "cell_type": "markdown",
   "metadata": {},
   "source": [
    "### Create the Cursor Object\n",
    "\n",
    "- Use the `with` pattern to create a cursor\n",
    "- For each row in the Data Frame, **insert** a new row\n",
    "- Finally clean up the cursor and release the lock\n",
    "    + `del` ensure the lock is removed (though should not be needed)"
   ]
  },
  {
   "cell_type": "code",
   "execution_count": 17,
   "metadata": {},
   "outputs": [],
   "source": [
    "with da.InsertCursor(fc, fields) as icur:\n",
    "    for row in df.values:\n",
    "        pt = arcpy.Point(row[-2], row[-1])\n",
    "        ptgeom = arcpy.PointGeometry(pt, sr)\n",
    "        icur.insertRow([row[1], row[-2], row[-1], ptgeom])\n",
    "        \n",
    "del icur"
   ]
  },
  {
   "cell_type": "markdown",
   "metadata": {},
   "source": [
    "##### Display the Added Rows"
   ]
  },
  {
   "cell_type": "code",
   "execution_count": 18,
   "metadata": {},
   "outputs": [
    {
     "data": {
      "text/plain": [
       "'48'"
      ]
     },
     "execution_count": 18,
     "metadata": {},
     "output_type": "execute_result"
    }
   ],
   "source": [
    "arcpy.management.GetCount(fc)[0]"
   ]
  },
  {
   "cell_type": "markdown",
   "metadata": {},
   "source": [
    "### Map It"
   ]
  },
  {
   "cell_type": "code",
   "execution_count": 19,
   "metadata": {},
   "outputs": [],
   "source": [
    "from arcgis.gis import GIS\n",
    "gis = GIS()"
   ]
  },
  {
   "cell_type": "code",
   "execution_count": 20,
   "metadata": {},
   "outputs": [
    {
     "data": {
      "application/vnd.jupyter.widget-view+json": {
       "model_id": "2d3b124bd5f141abbe2c6a65a2d460ce",
       "version_major": 2,
       "version_minor": 0
      },
      "text/plain": [
       "MapView(layout=Layout(height='400px', width='100%'))"
      ]
     },
     "metadata": {},
     "output_type": "display_data"
    },
    {
     "data": {
      "text/html": [
       "<div class=\"map-static-img-preview-40c490c7-6fd5-4237-a36b-b49475d4f9a3\"><img src=\"\"></img></div>"
      ],
      "text/plain": [
       "<IPython.core.display.HTML object>"
      ]
     },
     "metadata": {},
     "output_type": "display_data"
    }
   ],
   "source": [
    "m1 = gis.map()\n",
    "m1.center = (45.4944962453396,-73.53701983501136)\n",
    "m1"
   ]
  },
  {
   "cell_type": "code",
   "execution_count": 21,
   "metadata": {},
   "outputs": [],
   "source": [
    "m1.zoom = 12"
   ]
  },
  {
   "cell_type": "code",
   "execution_count": 22,
   "metadata": {},
   "outputs": [
    {
     "data": {
      "text/html": [
       "<div>\n",
       "<style scoped>\n",
       "    .dataframe tbody tr th:only-of-type {\n",
       "        vertical-align: middle;\n",
       "    }\n",
       "\n",
       "    .dataframe tbody tr th {\n",
       "        vertical-align: top;\n",
       "    }\n",
       "\n",
       "    .dataframe thead th {\n",
       "        text-align: right;\n",
       "    }\n",
       "</style>\n",
       "<table border=\"1\" class=\"dataframe\">\n",
       "  <thead>\n",
       "    <tr style=\"text-align: right;\">\n",
       "      <th></th>\n",
       "      <th>OBJECTID</th>\n",
       "      <th>NOM</th>\n",
       "      <th>LONG</th>\n",
       "      <th>LAT</th>\n",
       "      <th>SHAPE</th>\n",
       "    </tr>\n",
       "  </thead>\n",
       "  <tbody>\n",
       "    <tr>\n",
       "      <th>0</th>\n",
       "      <td>1</td>\n",
       "      <td>CROIX DU MONT-ROYAL</td>\n",
       "      <td>-73.587896</td>\n",
       "      <td>45.508851</td>\n",
       "      <td>{'x': -73.58789599999994, 'y': 45.508851000000...</td>\n",
       "    </tr>\n",
       "    <tr>\n",
       "      <th>1</th>\n",
       "      <td>2</td>\n",
       "      <td>MONUMENT LOUIS RUBINSTEIN (PC J.-MANCE)</td>\n",
       "      <td>-73.588930</td>\n",
       "      <td>45.516872</td>\n",
       "      <td>{'x': -73.58892999999995, 'y': 45.516872000000...</td>\n",
       "    </tr>\n",
       "    <tr>\n",
       "      <th>2</th>\n",
       "      <td>3</td>\n",
       "      <td>MONUMENT FRERE MARIE VICTORIN</td>\n",
       "      <td>-73.555870</td>\n",
       "      <td>45.557280</td>\n",
       "      <td>{'x': -73.55586999999997, 'y': 45.557280000000...</td>\n",
       "    </tr>\n",
       "    <tr>\n",
       "      <th>3</th>\n",
       "      <td>4</td>\n",
       "      <td>LES GRAMINÉES DU JARDIN SAINT-SULPICE</td>\n",
       "      <td>-73.641568</td>\n",
       "      <td>45.559403</td>\n",
       "      <td>{'x': -73.64156799999995, 'y': 45.559403000000...</td>\n",
       "    </tr>\n",
       "    <tr>\n",
       "      <th>4</th>\n",
       "      <td>5</td>\n",
       "      <td>LIMITE TEMPS</td>\n",
       "      <td>-73.662069</td>\n",
       "      <td>45.570984</td>\n",
       "      <td>{'x': -73.66206899999997, 'y': 45.570984000000...</td>\n",
       "    </tr>\n",
       "  </tbody>\n",
       "</table>\n",
       "</div>"
      ],
      "text/plain": [
       "   OBJECTID                                      NOM       LONG        LAT  \\\n",
       "0         1                      CROIX DU MONT-ROYAL -73.587896  45.508851   \n",
       "1         2  MONUMENT LOUIS RUBINSTEIN (PC J.-MANCE) -73.588930  45.516872   \n",
       "2         3            MONUMENT FRERE MARIE VICTORIN -73.555870  45.557280   \n",
       "3         4    LES GRAMINÉES DU JARDIN SAINT-SULPICE -73.641568  45.559403   \n",
       "4         5                             LIMITE TEMPS -73.662069  45.570984   \n",
       "\n",
       "                                               SHAPE  \n",
       "0  {'x': -73.58789599999994, 'y': 45.508851000000...  \n",
       "1  {'x': -73.58892999999995, 'y': 45.516872000000...  \n",
       "2  {'x': -73.55586999999997, 'y': 45.557280000000...  \n",
       "3  {'x': -73.64156799999995, 'y': 45.559403000000...  \n",
       "4  {'x': -73.66206899999997, 'y': 45.570984000000...  "
      ]
     },
     "execution_count": 22,
     "metadata": {},
     "output_type": "execute_result"
    }
   ],
   "source": [
    "from arcgis.features import GeoAccessor, GeoSeriesAccessor\n",
    "sdf = pd.DataFrame.spatial.from_featureclass(fc)\n",
    "sdf.head()"
   ]
  },
  {
   "cell_type": "code",
   "execution_count": 23,
   "metadata": {},
   "outputs": [
    {
     "data": {
      "text/plain": [
       "True"
      ]
     },
     "execution_count": 23,
     "metadata": {},
     "output_type": "execute_result"
    }
   ],
   "source": [
    "sdf.spatial.plot(m1)"
   ]
  }
 ],
 "metadata": {
  "kernelspec": {
   "display_name": "Python 3",
   "language": "python",
   "name": "python3"
  },
  "language_info": {
   "codemirror_mode": {
    "name": "ipython",
    "version": 3
   },
   "file_extension": ".py",
   "mimetype": "text/x-python",
   "name": "python",
   "nbconvert_exporter": "python",
   "pygments_lexer": "ipython3",
   "version": "3.6.7"
  }
 },
 "nbformat": 4,
 "nbformat_minor": 2
}
