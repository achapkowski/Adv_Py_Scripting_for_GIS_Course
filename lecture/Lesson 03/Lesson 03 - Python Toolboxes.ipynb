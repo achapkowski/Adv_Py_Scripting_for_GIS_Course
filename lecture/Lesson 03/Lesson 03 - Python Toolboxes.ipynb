{
 "cells": [
  {
   "cell_type": "markdown",
   "metadata": {
    "slideshow": {
     "slide_type": "slide"
    }
   },
   "source": [
    "# Lesson 03 (part 2)\n",
    "## Introduction to Python Toolboxes"
   ]
  },
  {
   "cell_type": "markdown",
   "metadata": {
    "slideshow": {
     "slide_type": "slide"
    }
   },
   "source": [
    "# Outline\n",
    "\n",
    "- Geoprocessing\n",
    "    + What is it?\n",
    "    + Essential Vocabulary\n",
    "    \n",
    "- Using Geoprocessing Functions\n",
    "    + tools\n",
    "    + tool help\n",
    "- Building Geoprocessing Tools\n",
    "    + Creating a PYT\n",
    "    + Adding Inputs\n",
    "    + Adding Outputs\n",
    "        - derived parameters\n",
    "        - required parameters"
   ]
  },
  {
   "cell_type": "markdown",
   "metadata": {
    "slideshow": {
     "slide_type": "slide"
    }
   },
   "source": [
    "# What is geoprocessing?\n",
    "\n",
    "- Framework and set of tools for processing geographic and related data\n",
    "- Used to perform spatial analysis or manage GIS data in an automated way\n",
    "- Geoprocessing is a common day-to-day GIS user\n"
   ]
  },
  {
   "cell_type": "markdown",
   "metadata": {
    "slideshow": {
     "slide_type": "subslide"
    }
   },
   "source": [
    "# What is Geoprocessing?\n",
    "\n",
    "- Geoprocessing tool performs an operation on a dataset\n",
    "<br/>\n",
    "<img src=\"./img/what_is_gp.png\" align=left>\n",
    "<br/>\n",
    "\n",
    "- Tools creates a resulting output dataset\n",
    "\n",
    "```python\n",
    "import os\n",
    "import arcpy\n",
    "from arcpy import env\n",
    "result = arcpy.analysis.Buffer(\n",
    "    in_features=r\"./sample_data/Paving.shp\", \n",
    "    out_feature_class=os.path.join(env.scratchGDB,\"buf100meters\"),\n",
    "    buffer_distance_or_field=\"100 METERS\")\n",
    "fc = result[0]\n",
    "print(fc)\n",
    "```"
   ]
  },
  {
   "cell_type": "markdown",
   "metadata": {
    "slideshow": {
     "slide_type": "subslide"
    }
   },
   "source": [
    "# What is Geoprocessing?\n",
    "\n",
    "- The framework that supports controling environment\n",
    "\n",
    "```python\n",
    "from arcpy import env\n",
    "env.overwriteOutput = True\n",
    "```\n",
    "\n",
    "- Allows you to build custom tools\n",
    "- You can use the geoprocessing tools included in ArcGIS as building blocks to create additional tools"
   ]
  },
  {
   "cell_type": "markdown",
   "metadata": {
    "slideshow": {
     "slide_type": "slide"
    }
   },
   "source": [
    "# Geoprocessing Vocabulary\n",
    "\n",
    "<img src=\"./img/gpvocab_1.png\" />"
   ]
  },
  {
   "cell_type": "markdown",
   "metadata": {
    "slideshow": {
     "slide_type": "subslide"
    }
   },
   "source": [
    "# Geoprocessing Vocabulary\n",
    "\n",
    "- Toolboxes - the place where geoprocessing tools are stored\n",
    "- Tool Dialog - The geoprocessing tool's GUI.  This shows when you click on a tool in ArcGIS Pro\n",
    "\n",
    "<img src=\"./img/gpvocab_2.png\" />"
   ]
  },
  {
   "cell_type": "markdown",
   "metadata": {
    "slideshow": {
     "slide_type": "subslide"
    }
   },
   "source": [
    "# Geoprocessing Vocabulary\n",
    "\n",
    "- Parameter - an input/output of a tool\n",
    "    + These tools required interactions normally \n",
    "    + Can be required, optional or created by the tool itself\n",
    "- Geoprocessing History - The historic running of a tool is stored within ArcGIS Pro's ```History``` tab\n",
    "- Geoprocessing Service - a geoprocessing tool hosted on the world wide web as a web service.\n"
   ]
  },
  {
   "cell_type": "markdown",
   "metadata": {
    "slideshow": {
     "slide_type": "slide"
    }
   },
   "source": [
    "# Using Geoprocessing Tool\n",
    "\n",
    "- GP tools can be run from code or from Pro\n",
    "- We **will** use the GUI to help us code at times\n",
    "    + Goal is to write our own tools!\n",
    "\n",
    "# Example - Working with Buffer\n",
    "\n",
    "<img src=\"./img/gpvocab_2.png\" />"
   ]
  },
  {
   "cell_type": "code",
   "execution_count": 1,
   "metadata": {
    "slideshow": {
     "slide_type": "subslide"
    }
   },
   "outputs": [
    {
     "name": "stdout",
     "output_type": "stream",
     "text": [
      ".\\sample_data\\buffered_paving.shp\n"
     ]
    }
   ],
   "source": [
    "import arcpy\n",
    "input_fc = r\"./sample_data/Paving.shp\"\n",
    "output_fc = r\"./sample_data/buffered_paving.shp\"\n",
    "\n",
    "out_fc = arcpy.analysis.Buffer(in_features=input_fc,\n",
    "                               out_feature_class=output_fc,\n",
    "                               buffer_distance_or_field=\"1500 Feet\",\n",
    "                               method=\"Planar\",\n",
    "                               dissolve_option=\"ALL\")[0]\n",
    "print(out_fc)\n",
    "                      "
   ]
  },
  {
   "cell_type": "code",
   "execution_count": 2,
   "metadata": {
    "slideshow": {
     "slide_type": "skip"
    }
   },
   "outputs": [
    {
     "data": {
      "text/plain": [
       "<Result 'true'>"
      ]
     },
     "execution_count": 2,
     "metadata": {},
     "output_type": "execute_result"
    }
   ],
   "source": [
    "arcpy.management.Delete(out_fc)"
   ]
  },
  {
   "cell_type": "markdown",
   "metadata": {
    "slideshow": {
     "slide_type": "slide"
    }
   },
   "source": [
    "# Understanding the Tool Parameters\n",
    "\n",
    "- Understanding the inputs/outputs of a tool\n",
    "    + Use the online help!\n",
    "    + This will be your best friend!\n",
    "\n",
    "### Buffer Tool Example:\n",
    "\n",
    "<p><a href=\"http://pro.arcgis.com/en/pro-app/tool-reference/analysis/buffer.htm\">Buffer Help</a></p>\n",
    "\n",
    "\n",
    "### General Help:\n",
    "\n",
    "http://pro.arcgis.com/en/pro-app/tool-reference"
   ]
  },
  {
   "cell_type": "markdown",
   "metadata": {
    "slideshow": {
     "slide_type": "slide"
    }
   },
   "source": [
    "# Building Custom Geoprocessing Tools\n",
    "\n",
    "- Geoprocessing Model - drag and drop chaining of ArcGIS Desktop Tool\n",
    "    + No coding needed\n",
    "    + We will not do this\n",
    "- **Python Toolboxes** - geoprocessing toolboxes that are created entirely in Python\n",
    "    + Have .pyt extension\n",
    "    + Created easy as right clicking in ```Catalog``` window and selecting New Toolbox"
   ]
  },
  {
   "cell_type": "markdown",
   "metadata": {
    "slideshow": {
     "slide_type": "slide"
    }
   },
   "source": [
    "# PYT Structure\n",
    "\n",
    "- A collection of `Python` classes in a single file\n",
    "    + A toolbox class\n",
    "    + Then tool classes\n",
    "- Each `Tool` can have 0 to many inputs and outputs\n",
    "- Each `Tool` class is stored in a `list` \n"
   ]
  },
  {
   "cell_type": "markdown",
   "metadata": {
    "slideshow": {
     "slide_type": "subslide"
    }
   },
   "source": [
    "# Demo: Creating a Python Toolbox (.pyt) \n",
    "\n",
    "1. Load ArcGIS Pro\n",
    "2. Create a Python toolbox\n",
    "3. Display the code\n"
   ]
  },
  {
   "cell_type": "markdown",
   "metadata": {
    "slideshow": {
     "slide_type": "subslide"
    }
   },
   "source": [
    "# Adding Parameters\n",
    "\n",
    "- Two Types of Parameters:\n",
    "    1. Inputs - gets information from a user\n",
    "    2. Outputs - sends information to a user\n",
    "\n",
    "-  `arcpy.Parameter` defines an input and output\n",
    "\n",
    "    + Parameter can have the following information:\n",
    "        1. name (required)\n",
    "        2. displayName (required) \n",
    "        3. direction (required)\n",
    "        4. datatype (required) \n",
    "        5. parameterType (required) \n",
    "        6. enabled (required) \n",
    "        7. category\n",
    "        8. symbology\n",
    "        9. multiValue\n",
    " \n",
    "```python\n",
    "def getParameterInfo(self):\n",
    "     \"\"\"Define parameter definitions\"\"\"\n",
    "     params = None\n",
    "     return params\n",
    "```"
   ]
  },
  {
   "cell_type": "markdown",
   "metadata": {
    "slideshow": {
     "slide_type": "skip"
    }
   },
   "source": [
    "```python\n",
    "     def getParameterInfo(self):\n",
    "        \"\"\"Define parameter definitions\"\"\"\n",
    "        in_fc = arcpy.Parameter(\n",
    "            name='in_features',\n",
    "            displayName='Input Features',\n",
    "            datatype='GPFeatureLayer',\n",
    "            direction='Input',\n",
    "            parameterType='Required')\n",
    "\n",
    "         out_fc = arcpy.Parameter(\n",
    "            name='out_features',\n",
    "            displayName='Out Features',\n",
    "            datatype='DEFeatureClass',\n",
    "            direction='Output',\n",
    "            parameterType='Derived')\n",
    "        \n",
    "        params = [in_fc, vt, out_fc]\n",
    "        return params\n",
    "\n",
    "```"
   ]
  },
  {
   "cell_type": "markdown",
   "metadata": {
    "slideshow": {
     "slide_type": "subslide"
    }
   },
   "source": [
    "# Understanding the Data Types\n",
    "\n",
    "- Hundreds of allowed data types\n",
    "- Data types tell the GUI how to interact with a user\n",
    "- To get a full understanding of the data types bookmark this link!\n",
    "\n",
    "http://pro.arcgis.com/en/pro-app/arcpy/geoprocessing_and_python/defining-parameter-data-types-in-a-python-toolbox.htm#ESRI_SECTION1_A6F5518564FF4125B7C410F3DF3C3003"
   ]
  },
  {
   "cell_type": "markdown",
   "metadata": {
    "slideshow": {
     "slide_type": "subslide"
    }
   },
   "source": [
    "# Understanding Type of Parameters\n",
    "\n",
    "- A **Required** parameter requires an input value from the user. The tool cannot be executed until the user supplies a value.\n",
    "- An **Optional** parameter does not require a value from the user.\n",
    "- A **Derived** parameter is only for output parameters. A derived output parameter does not show on the tool dialog box."
   ]
  }
 ],
 "metadata": {
  "celltoolbar": "Slideshow",
  "kernelspec": {
   "display_name": "Python 3",
   "language": "python",
   "name": "python3"
  },
  "language_info": {
   "codemirror_mode": {
    "name": "ipython",
    "version": 3
   },
   "file_extension": ".py",
   "mimetype": "text/x-python",
   "name": "python",
   "nbconvert_exporter": "python",
   "pygments_lexer": "ipython3",
   "version": "3.6.9"
  }
 },
 "nbformat": 4,
 "nbformat_minor": 2
}
