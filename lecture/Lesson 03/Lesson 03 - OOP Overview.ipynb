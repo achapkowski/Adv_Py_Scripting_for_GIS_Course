{
 "cells": [
  {
   "cell_type": "markdown",
   "metadata": {
    "slideshow": {
     "slide_type": "slide"
    }
   },
   "source": [
    "# Object-Oriented Programming\n",
    "#### Lesson 03\n"
   ]
  },
  {
   "cell_type": "markdown",
   "metadata": {
    "slideshow": {
     "slide_type": "slide"
    }
   },
   "source": [
    "## Design Goals\n",
    "\n",
    "#### Robustness\n",
    "\n",
    "- accounts for invalid inputs/outputs\n",
    "\n",
    "#### Adaptability\n",
    "\n",
    "- Software designed about be able to evolve over time to handle changing conditions\n",
    "- Allow software to run on different operating systems or hardware\n",
    "\n",
    "#### Reusability \n",
    "\n",
    "- Use components of code within other parts of the system"
   ]
  },
  {
   "cell_type": "markdown",
   "metadata": {
    "slideshow": {
     "slide_type": "slide"
    }
   },
   "source": [
    "## The Basics\n",
    "\n",
    "- Python is an object-oriented programming language\n",
    "- This means that it provides features that support [object-oriented programming](http://en.wikipedia.org/wiki/Object-oriented_programming)\n",
    "- Helps developers handle complexity in code\n"
   ]
  },
  {
   "cell_type": "markdown",
   "metadata": {
    "slideshow": {
     "slide_type": "slide"
    }
   },
   "source": [
    "## Principles of Object Oriented Designs\n",
    "\n",
    "- Modularity\n",
    "- Abstraction\n",
    "- Encapsulation\n",
    "\n"
   ]
  },
  {
   "cell_type": "markdown",
   "metadata": {
    "slideshow": {
     "slide_type": "subslide"
    }
   },
   "source": [
    "### Modularity\n",
    "\n",
    "- makes multiple modules first and then linking and combining them to form a complete system"
   ]
  },
  {
   "cell_type": "markdown",
   "metadata": {
    "slideshow": {
     "slide_type": "subslide"
    }
   },
   "source": [
    "### Abstraction\n",
    "\n",
    "- hides the complexity and only showing the essential features\n"
   ]
  },
  {
   "cell_type": "markdown",
   "metadata": {
    "slideshow": {
     "slide_type": "subslide"
    }
   },
   "source": [
    "### Abstraction Demo"
   ]
  },
  {
   "cell_type": "code",
   "execution_count": null,
   "metadata": {
    "slideshow": {
     "slide_type": "fragment"
    }
   },
   "outputs": [],
   "source": [
    "from abc import ABC, abstractmethod\n",
    "\n",
    "class Payment(ABC):\n",
    "    def print_slip(self, amount):\n",
    "        print('Purchase of amount- ', amount)\n",
    "    @abstractmethod\n",
    "    def payment(self, amount):\n",
    "        pass\n",
    "\n",
    "class CreditCardPayment(Payment):\n",
    "    def payment(self, amount):\n",
    "        print('Credit card payment of- ', amount)\n",
    "\n",
    "class MobileWalletPayment(Payment):\n",
    "    def payment(self, amount):\n",
    "        print('Mobile wallet payment of- ', amount)\n",
    "\n",
    "obj = CreditCardPayment()\n",
    "obj.payment(100)\n",
    "obj.print_slip(100)\n",
    "print(isinstance(obj, Payment))\n",
    "obj = MobileWalletPayment()\n",
    "obj.payment(200)\n",
    "obj.print_slip(200)\n",
    "print(isinstance(obj, Payment))"
   ]
  },
  {
   "cell_type": "markdown",
   "metadata": {
    "slideshow": {
     "slide_type": "slide"
    }
   },
   "source": [
    "### Encapsulation\n",
    "\n",
    "- Try to restrict access to methods and variables\n",
    "- Other programming languages have protected class methods too, but Python does not"
   ]
  },
  {
   "cell_type": "markdown",
   "metadata": {
    "slideshow": {
     "slide_type": "subslide"
    }
   },
   "source": [
    "### Encapsulation Example"
   ]
  },
  {
   "cell_type": "code",
   "execution_count": 4,
   "metadata": {},
   "outputs": [
    {
     "name": "stdout",
     "output_type": "stream",
     "text": [
      "driving. maxspeed 50\n",
      "driving. maxspeed 320\n"
     ]
    }
   ],
   "source": [
    "class Boat:\n",
    "    __maxspeed = 0\n",
    "    __name = \"\"\n",
    "    \n",
    "    def __init__(self):\n",
    "        self.__maxspeed = 50\n",
    "        self.__name = \"Boat\"\n",
    "    \n",
    "    def drive(self):\n",
    "        print('driving. maxspeed ' + str(self.__maxspeed))\n",
    "\n",
    "    def setMaxSpeed(self,speed):\n",
    "        self.__maxspeed = speed\n",
    "\n",
    "redcar = Boat()\n",
    "redcar.drive()\n",
    "redcar.setMaxSpeed(320)\n",
    "redcar.drive()"
   ]
  },
  {
   "cell_type": "markdown",
   "metadata": {
    "slideshow": {
     "slide_type": "slide"
    }
   },
   "source": [
    "## OOP Summary\n",
    "\n",
    "- Use `__` (double underscore) to make thing **private** (encapsulation)\n",
    "- Use modularity to built large systems\n",
    "- Use abstraction to hide complexity of the system"
   ]
  },
  {
   "cell_type": "markdown",
   "metadata": {
    "slideshow": {
     "slide_type": "slide"
    }
   },
   "source": [
    "## Additional Online Tutorial to Review\n",
    "\n",
    "- [Part 1](https://medium.com/the-renaissance-developer/python-101-object-oriented-programming-part-1-7d5d06833f26)\n",
    "- [Part 2](https://medium.com/the-renaissance-developer/python-101-object-oriented-programming-part-2-8e0db3ddd531)\n",
    "- [Part 3](https://medium.com/the-renaissance-developer/python-101-object-oriented-programming-part-1-7d5d06833f26)"
   ]
  }
 ],
 "metadata": {
  "celltoolbar": "Slideshow",
  "kernelspec": {
   "display_name": "Python 3",
   "language": "python",
   "name": "python3"
  },
  "language_info": {
   "codemirror_mode": {
    "name": "ipython",
    "version": 3
   },
   "file_extension": ".py",
   "mimetype": "text/x-python",
   "name": "python",
   "nbconvert_exporter": "python",
   "pygments_lexer": "ipython3",
   "version": "3.6.9"
  }
 },
 "nbformat": 4,
 "nbformat_minor": 2
}
