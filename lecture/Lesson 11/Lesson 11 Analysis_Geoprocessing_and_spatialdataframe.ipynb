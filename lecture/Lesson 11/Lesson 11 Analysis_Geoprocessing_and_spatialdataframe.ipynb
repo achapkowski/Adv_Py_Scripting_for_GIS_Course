{
 "cells": [
  {
   "cell_type": "markdown",
   "metadata": {
    "slideshow": {
     "slide_type": "slide"
    }
   },
   "source": [
    "# Analysis with the Python API for ArcGIS"
   ]
  },
  {
   "cell_type": "markdown",
   "metadata": {
    "slideshow": {
     "slide_type": "slide"
    }
   },
   "source": [
    "## What you should know from before:\n",
    "    \n",
    "    - What a GIS object is\n",
    "    - How to add, remove and update content\n",
    "    - How to publish content\n",
    "    - Other basic function"
   ]
  },
  {
   "cell_type": "markdown",
   "metadata": {
    "slideshow": {
     "slide_type": "slide"
    }
   },
   "source": [
    "## Login to Portal\n",
    "\n",
    "- Recall that the JHU portal uses enterprise authentication.\n",
    "- Leverage Pro's login ability to access the AGOL site"
   ]
  },
  {
   "cell_type": "code",
   "execution_count": 6,
   "metadata": {
    "slideshow": {
     "slide_type": "-"
    }
   },
   "outputs": [
    {
     "data": {
      "text/plain": [
       "'achapko1_GISandData'"
      ]
     },
     "execution_count": 6,
     "metadata": {},
     "output_type": "execute_result"
    }
   ],
   "source": [
    "from arcgis.gis import GIS\n",
    "gis = GIS(\"pro\")\n",
    "gis.users.me.username"
   ]
  },
  {
   "cell_type": "markdown",
   "metadata": {},
   "source": [
    "## Feature Analysis\n",
    "\n",
    "- A collection of Publish Geoprocessing tool hosted on AGOL or a Portal\n",
    "- Tools cover a wide range of operations powered by a `WebGIS`\n",
    "- Tools can output a Feature Layer or Feature Collection (in-memory dataset)"
   ]
  },
  {
   "cell_type": "code",
   "execution_count": 7,
   "metadata": {
    "slideshow": {
     "slide_type": "-"
    }
   },
   "outputs": [],
   "source": [
    "from arcgis.features import (analysis, analyze_patterns, \n",
    "                             enrich_data, elevation, \n",
    "                             use_proximity, hydrology)"
   ]
  },
  {
   "cell_type": "markdown",
   "metadata": {
    "slideshow": {
     "slide_type": "slide"
    }
   },
   "source": [
    "## AGOL and Credits\n",
    "\n",
    "- Digital spatial currency\n",
    "- Provide premium content:\n",
    "    + geocoding\n",
    "    + analysis\n",
    "    + geoenrichment"
   ]
  },
  {
   "cell_type": "markdown",
   "metadata": {
    "slideshow": {
     "slide_type": "slide"
    }
   },
   "source": [
    "## How Much Does Analysis Cost?\n",
    "\n",
    "- Each `Feature Analysis` tool has the ability to **estimate** the number of credits for any task\n",
    "- It is good practice to see how much a tools **costs** before it is run"
   ]
  },
  {
   "cell_type": "code",
   "execution_count": 8,
   "metadata": {
    "slideshow": {
     "slide_type": "-"
    }
   },
   "outputs": [
    {
     "data": {
      "text/plain": [
       "'This task costs this many credits: 0.967'"
      ]
     },
     "execution_count": 8,
     "metadata": {},
     "output_type": "execute_result"
    }
   ],
   "source": [
    "item = gis.content.get(\"c487cbc71d9c4372b7b76bd84ce0da68\")\n",
    "fl = item.layers[0]\n",
    "credits = analyze_patterns.calculate_density(input_layer=fl,\n",
    "                                             estimate=True)\n",
    "f\"This task costs this many credits: {credits}\""
   ]
  },
  {
   "cell_type": "markdown",
   "metadata": {
    "slideshow": {
     "slide_type": "slide"
    }
   },
   "source": [
    "## To Wait or to not....\n",
    "\n",
    "<img src=\"https://dynaimage.cdn.cnn.com/cnn/q_auto,w_380,c_fit/http%3A%2F%2Fcdn.cnn.com%2Fcnnnext%2Fdam%2Fassets%2F181213143815-gettyimages-884145174.jpg\" />\n",
    "\n",
    "- Analysis, Geoprocessing, and Raster Tools within the API can be run asynchronously\n",
    "- Set `future=True` to get back a `Job` object to obtain the results at a later date\n",
    "\n",
    "### When Not to Wait? (in general)\n",
    "\n",
    "1. Performing multiple tasks\n",
    "2. The next task isn't dependent on the previous task\n"
   ]
  },
  {
   "cell_type": "markdown",
   "metadata": {
    "slideshow": {
     "slide_type": "slide"
    }
   },
   "source": [
    "## Using Future=True GP Tool Example"
   ]
  },
  {
   "cell_type": "code",
   "execution_count": 9,
   "metadata": {
    "slideshow": {
     "slide_type": "-"
    }
   },
   "outputs": [],
   "source": [
    "import time\n",
    "from arcgis.geoprocessing import import_toolbox\n",
    "tbx = import_toolbox(\"https://sampleserver6.arcgisonline.com/arcgis/rest/services/911CallsHotspot/GPServer\")"
   ]
  },
  {
   "cell_type": "code",
   "execution_count": 10,
   "metadata": {
    "slideshow": {
     "slide_type": "-"
    }
   },
   "outputs": [
    {
     "name": "stdout",
     "output_type": "stream",
     "text": [
      "waiting\n",
      "waiting\n",
      "waiting\n",
      "waiting\n"
     ]
    }
   ],
   "source": [
    "fut = tbx.execute_911_calls_hotspot(future=True)\n",
    "while fut.done() is not True:\n",
    "    print('waiting')\n",
    "    time.sleep(3)\n",
    "result = fut.result()\n",
    "lyr = result.result_layer"
   ]
  },
  {
   "cell_type": "markdown",
   "metadata": {
    "slideshow": {
     "slide_type": "slide"
    }
   },
   "source": [
    "## Performing Multiple Tasks at Once\n",
    "\n",
    "Let's view an example of building an asynchronous workflow with the Python API for ArcGIS"
   ]
  },
  {
   "cell_type": "code",
   "execution_count": 23,
   "metadata": {
    "slideshow": {
     "slide_type": "slide"
    }
   },
   "outputs": [],
   "source": [
    "item = gis.content.search('title:CrimeAnalysisData owner:lscott_ANGP', 'feature layer', outside_org=True)[0]\n",
    "lyrs = item.layers\n",
    "liquor = lyrs[1] # liquor stores\n",
    "phs = lyrs[0] # schools\n",
    "crime = lyrs[2]"
   ]
  },
  {
   "cell_type": "code",
   "execution_count": 26,
   "metadata": {
    "slideshow": {
     "slide_type": "-"
    }
   },
   "outputs": [
    {
     "data": {
      "text/plain": [
       "STRONGARM - NO WEAPON                                          3617\n",
       "AGGRAVATED: HANDGUN                                            3447\n",
       "ARMED: HANDGUN                                                 3413\n",
       "AGGRAVATED: OTHER DANG WEAPON                                  2864\n",
       "AGGRAVATED:KNIFE/CUTTING INSTR                                 2094\n",
       "AGGRAVATED DOMESTIC BATTERY: OTHER DANG WEAPON                  860\n",
       "NON-AGGRAVATED                                                  714\n",
       "AGGRAVATED DOMESTIC BATTERY: KNIFE/CUTTING INST                 669\n",
       "AGGRAVATED                                                      575\n",
       "ARMED: OTHER DANGEROUS WEAPON                                   479\n",
       "FIRST DEGREE MURDER                                             415\n",
       "ATTEMPT: STRONGARM-NO WEAPON                                    368\n",
       "ARMED:KNIFE/CUTTING INSTRUMENT                                  353\n",
       "ATTEMPT: ARMED-HANDGUN                                          285\n",
       "AGGRAVATED VEHICULAR HIJACKING                                  179\n",
       "AGGRAVATED: OTHER                                               163\n",
       "AGG: HANDS/FIST/FEET SERIOUS INJURY                             160\n",
       "AGG CRIMINAL SEXUAL ABUSE                                       158\n",
       "AGGRAVATED DOMESTIC BATTERY: HANDS/FIST/FEET SERIOUS INJURY     137\n",
       "VEHICULAR HIJACKING                                             117\n",
       "CHILD PORNOGRAPHY                                               115\n",
       "AGGRAVATED PO: OTHER DANG WEAP                                  101\n",
       "PREDATORY                                                        93\n",
       "AGGRAVATED: OTHER FIREARM                                        91\n",
       "AGGRAVATED OF A SENIOR CITIZEN                                   86\n",
       "AGG PRO.EMP: OTHER DANG WEAPON                                   77\n",
       "ATTEMPT: ARMED-OTHER DANG WEAP                                   76\n",
       "ATTEMPT: ARMED-KNIFE/CUT INSTR                                   69\n",
       "ATTEMPT NON-AGGRAVATED                                           64\n",
       "AGG SEX ASSLT OF CHILD FAM MBR                                   62\n",
       "AGGRAVATED PO: HANDGUN                                           61\n",
       "AGGRAVATED: KNIFE/CUT INSTR                                      58\n",
       "ATTEMPT: AGGRAVATED                                              57\n",
       "ARMED: OTHER FIREARM                                             46\n",
       "AGG PRO.EMP:KNIFE/CUTTING INST                                   36\n",
       "AGGRAVATED PO:KNIFE/CUT INSTR                                    36\n",
       "AGGRAVATED OF A CHILD                                            23\n",
       "AGG PRO.EMP: HANDGUN                                             22\n",
       "AGG PO HANDS ETC SERIOUS INJ                                     18\n",
       "AGG PRO EMP HANDS SERIOUS INJ                                    15\n",
       "ATTEMPT AGG: OTHER                                               11\n",
       "AGGRAVATED PO: KNIFE/CUT INSTR                                    9\n",
       "ATTEMPT: ARMED-OTHER FIREARM                                      8\n",
       "AGG PRO.EMP: OTHER FIREARM                                        4\n",
       "AGGRAVATED DOMESTIC BATTERY: HANDGUN                              4\n",
       "ATTEMPT AGG: HANDGUN                                              4\n",
       "AGGRAVATED PO: OTHER FIREARM                                      3\n",
       "AGGRAVATED OF A UNBORN CHILD                                      2\n",
       "ATTEMPT AGG: KNIFE/CUT INSTR                                      2\n",
       "ATTEMPT AGG: OTHER DANG WEAPON                                    2\n",
       "INVOLUNTARY MANSLAUGHTER                                          1\n",
       "RECKLESS HOMICIDE                                                 1\n",
       "Name: Description, dtype: int64"
      ]
     },
     "execution_count": 26,
     "metadata": {},
     "output_type": "execute_result"
    }
   ],
   "source": [
    "crime_sdf = crime.query(as_df=True)\n",
    "crime_sdf.Description.value_counts()"
   ]
  },
  {
   "cell_type": "code",
   "execution_count": 22,
   "metadata": {
    "slideshow": {
     "slide_type": "-"
    }
   },
   "outputs": [
    {
     "data": {
      "application/vnd.jupyter.widget-view+json": {
       "model_id": "1bd9dbf0103447079db12f03c8d9fdf7",
       "version_major": 2,
       "version_minor": 0
      },
      "text/plain": [
       "MapView(layout=Layout(height='400px', width='100%'))"
      ]
     },
     "metadata": {},
     "output_type": "display_data"
    },
    {
     "data": {
      "text/html": [
       "<div class=\"map-static-img-preview-5fb697ad-74e6-44ff-8fb7-e7bd60194aec\"><img src=\"\"></img></div>"
      ],
      "text/plain": [
       "<IPython.core.display.HTML object>"
      ]
     },
     "metadata": {},
     "output_type": "display_data"
    }
   ],
   "source": [
    "m = phs.query(as_df=True).spatial.plot()\n",
    "m.add_layer(liquor)\n",
    "m"
   ]
  },
  {
   "cell_type": "code",
   "execution_count": null,
   "metadata": {},
   "outputs": [],
   "source": []
  },
  {
   "cell_type": "markdown",
   "metadata": {
    "slideshow": {
     "slide_type": "subslide"
    }
   },
   "source": [
    "## Displaying the Results"
   ]
  },
  {
   "cell_type": "code",
   "execution_count": 48,
   "metadata": {
    "slideshow": {
     "slide_type": "subslide"
    }
   },
   "outputs": [
    {
     "data": {
      "application/vnd.jupyter.widget-view+json": {
       "model_id": "3a5c442047844205be689221edc620b7",
       "version_major": 2,
       "version_minor": 0
      },
      "text/plain": [
       "MapView(layout=Layout(height='400px', width='100%'))"
      ]
     },
     "metadata": {},
     "output_type": "display_data"
    },
    {
     "data": {
      "text/html": [
       "<div class=\"map-static-img-preview-33de8f10-02fe-4981-80fe-de330e16440c\"><img src=\"\"></img></div>"
      ],
      "text/plain": [
       "<IPython.core.display.HTML object>"
      ]
     },
     "metadata": {},
     "output_type": "display_data"
    }
   ],
   "source": [
    "m = gis.map()\n",
    "m.extent = {'spatialReference': {'latestWkid': 3857, 'wkid': 102100},\n",
    " 'xmin': -13681103.700669535,'ymin': 5693908.708222669,\n",
    " 'xmax': -13662854.360166471,'ymax': 5701552.4110511765}\n",
    "m.add_layer(result.result_layer)\n",
    "m"
   ]
  },
  {
   "cell_type": "markdown",
   "metadata": {
    "slideshow": {
     "slide_type": "slide"
    }
   },
   "source": [
    "## Data is like coal....\n",
    "\n",
    "<img src=\"http://atlas-content-cdn.pixelsquid.com/stock-images/lump-of-coal-oJBoODC-600.jpg\" width=30%/>\n",
    "\n",
    "- Apply enough pressure and have the right conditions you get diamonds (or insights)"
   ]
  },
  {
   "cell_type": "markdown",
   "metadata": {
    "slideshow": {
     "slide_type": "subslide"
    }
   },
   "source": [
    "## Tidy Data Concept\n",
    "\n",
    "<img src=\"https://r4ds.had.co.nz/images/tidy-1.png\"/>\n",
    "\n",
    "There are three rules which make a dataset tidy:\n",
    "\n",
    "1. Each variable must have its own column.\n",
    "\n",
    "2. Each observation must have its own row.\n",
    "\n",
    "3. Each value must have its own cell.\n"
   ]
  },
  {
   "cell_type": "markdown",
   "metadata": {},
   "source": [
    "## Pulling Data into DataFrames\n",
    "\n"
   ]
  }
 ],
 "metadata": {
  "celltoolbar": "Slideshow",
  "kernelspec": {
   "display_name": "Python 3",
   "language": "python",
   "name": "python3"
  },
  "language_info": {
   "codemirror_mode": {
    "name": "ipython",
    "version": 3
   },
   "file_extension": ".py",
   "mimetype": "text/x-python",
   "name": "python",
   "nbconvert_exporter": "python",
   "pygments_lexer": "ipython3",
   "version": "3.6.7"
  }
 },
 "nbformat": 4,
 "nbformat_minor": 2
}
