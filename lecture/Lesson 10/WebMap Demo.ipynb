{
 "cells": [
  {
   "cell_type": "markdown",
   "metadata": {},
   "source": [
    "## Map Widget Demo"
   ]
  },
  {
   "cell_type": "code",
   "execution_count": 31,
   "metadata": {},
   "outputs": [],
   "source": [
    "from IPython.display import display\n",
    "import arcgis\n",
    "from arcgis.gis import GIS"
   ]
  },
  {
   "cell_type": "code",
   "execution_count": 32,
   "metadata": {},
   "outputs": [],
   "source": [
    "# connect to your GIS\n",
    "gis = GIS(profile='arcgis_python')"
   ]
  },
  {
   "cell_type": "code",
   "execution_count": 33,
   "metadata": {},
   "outputs": [
    {
     "data": {
      "text/plain": [
       "[<Item title:\"xxxx2\" type:Web Map owner:arcgis_python>,\n",
       " <Item title:\"Ebola incidents and facilities\" type:Web Map owner:arcgis_python>,\n",
       " <Item title:\"Ebola incidents and facilities\" type:Web Map owner:arcgis_python>,\n",
       " <Item title:\"xxxx map 2\" type:Web Map owner:arcgis_python>,\n",
       " <Item title:\"xxxx map\" type:Web Map owner:arcgis_python>]"
      ]
     },
     "execution_count": 33,
     "metadata": {},
     "output_type": "execute_result"
    }
   ],
   "source": [
    "webmap_search = gis.content.search(\"Ebola maps\", item_type=\"Web Map\")\n",
    "webmap_search"
   ]
  },
  {
   "cell_type": "code",
   "execution_count": 34,
   "metadata": {},
   "outputs": [
    {
     "data": {
      "text/html": [
       "<div class=\"item_container\" style=\"height: auto; overflow: hidden; border: 1px solid #cfcfcf; border-radius: 2px; background: #f6fafa; line-height: 1.21429em; padding: 10px;\">\n",
       "                    <div class=\"item_left\" style=\"width: 210px; float: left;\">\n",
       "                       <a href='https://geosaurus.maps.arcgis.com/home/item.html?id=d7cb457896b748e2abeb84cb6a1e6a41' target='_blank'>\n",
       "                        <img src='data:image/png;base64,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' width='200' height='133' class=\"itemThumbnail\">\n",
       "                       </a>\n",
       "                    </div>\n",
       "\n",
       "                    <div class=\"item_right\"     style=\"float: none; width: auto; overflow: hidden;\">\n",
       "                        <a href='https://geosaurus.maps.arcgis.com/home/item.html?id=d7cb457896b748e2abeb84cb6a1e6a41' target='_blank'><b>Ebola incidents and facilities</b>\n",
       "                        </a>\n",
       "                        <br/>Map created using Python API showing locations of Ebola treatment centers<img src='https://geosaurus.maps.arcgis.com/home/js/jsapi/esri/css/images/item_type_icons/maps16.png' style=\"vertical-align:middle;\">Web Map by arcgis_python\n",
       "                        <br/>Last Modified: February 05, 2020\n",
       "                        <br/>0 comments, 0 views\n",
       "                    </div>\n",
       "                </div>\n",
       "                "
      ],
      "text/plain": [
       "<Item title:\"Ebola incidents and facilities\" type:Web Map owner:arcgis_python>"
      ]
     },
     "execution_count": 34,
     "metadata": {},
     "output_type": "execute_result"
    }
   ],
   "source": [
    "webmap_search[2]"
   ]
  },
  {
   "cell_type": "code",
   "execution_count": 35,
   "metadata": {},
   "outputs": [],
   "source": [
    "from arcgis.mapping import WebMap"
   ]
  },
  {
   "cell_type": "code",
   "execution_count": 36,
   "metadata": {},
   "outputs": [],
   "source": [
    "ebola_map = WebMap(webmap_search[2])"
   ]
  },
  {
   "cell_type": "code",
   "execution_count": 37,
   "metadata": {},
   "outputs": [
    {
     "data": {
      "application/vnd.jupyter.widget-view+json": {
       "model_id": "db071b69afcc4e3ba2d5047ce39cca0d",
       "version_major": 2,
       "version_minor": 0
      },
      "text/plain": [
       "MapView(hide_mode_switch=True, layout=Layout(height='400px', width='100%'))"
      ]
     },
     "metadata": {},
     "output_type": "display_data"
    },
    {
     "data": {
      "text/html": [
       "<div class=\"map-static-img-preview-9c480cd6-b0ed-447a-a67b-72c821f24ba3\"><img src=\"\"></img></div>"
      ],
      "text/plain": [
       "<IPython.core.display.HTML object>"
      ]
     },
     "metadata": {},
     "output_type": "display_data"
    }
   ],
   "source": [
    "ebola_map"
   ]
  },
  {
   "cell_type": "code",
   "execution_count": 40,
   "metadata": {},
   "outputs": [
    {
     "name": "stdout",
     "output_type": "stream",
     "text": [
      "Liberia facilities and hospitals\n",
      "Monrovia Points\n",
      "Prison Camps\n",
      "Public Security Points of Interest\n",
      "Airfields\n",
      "Bridges and Tunnels\n",
      "Marine Infrastructure\n",
      "Ports\n",
      "Public Transportation Points of Interest\n",
      "Railway Points\n",
      "Railways\n",
      "Agricultural Points of Interest\n",
      "Commercial Points of Interest\n",
      "Lodging Points of Interest\n",
      "Recreation Points of Interest\n",
      "Tourist Locations\n",
      "Educational_Institutions\n",
      "Libraries\n",
      "Embassies\n",
      "Government Points of Interest\n",
      "Military Installations\n",
      "Medical_Facilities\n",
      "Religious Institutions\n",
      "Administrative Boundary Monrovia\n",
      "Roads\n",
      "Hydrography\n",
      "Satellite Imagery - 3 Areas\n",
      "Liberia facilities and hospitals\n"
     ]
    }
   ],
   "source": [
    "for layer in ebola_map.layers:\n",
    "    print(layer.title)"
   ]
  },
  {
   "cell_type": "code",
   "execution_count": 39,
   "metadata": {},
   "outputs": [
    {
     "data": {
      "text/plain": [
       "True"
      ]
     },
     "execution_count": 39,
     "metadata": {},
     "output_type": "execute_result"
    }
   ],
   "source": [
    "liberia_item = gis.content.get('49161527a2bc4f4782b50d2c14e38f4a')\n",
    "ebola_map.add_layer(liberia_item, options={'title':'Liberia facilities and hospitals'})"
   ]
  },
  {
   "cell_type": "code",
   "execution_count": 41,
   "metadata": {},
   "outputs": [],
   "source": [
    "webmap_item_properties = {'title':'New Layer - Ebola incidents and facilities',\n",
    "                         'snippet':'Map created using Python API showing locations of Ebola treatment centers',\n",
    "                         'tags':['automation', 'ebola', 'world health', 'python']}"
   ]
  },
  {
   "cell_type": "code",
   "execution_count": 42,
   "metadata": {},
   "outputs": [
    {
     "data": {
      "text/html": [
       "<div class=\"item_container\" style=\"height: auto; overflow: hidden; border: 1px solid #cfcfcf; border-radius: 2px; background: #f6fafa; line-height: 1.21429em; padding: 10px;\">\n",
       "                    <div class=\"item_left\" style=\"width: 210px; float: left;\">\n",
       "                       <a href='https://geosaurus.maps.arcgis.com/home/item.html?id=dcaa3abd06ae42aa95a7a21bc11867c0' target='_blank'>\n",
       "                        <img src='http://static.arcgis.com/images/desktopapp.png' class=\"itemThumbnail\">\n",
       "                       </a>\n",
       "                    </div>\n",
       "\n",
       "                    <div class=\"item_right\"     style=\"float: none; width: auto; overflow: hidden;\">\n",
       "                        <a href='https://geosaurus.maps.arcgis.com/home/item.html?id=dcaa3abd06ae42aa95a7a21bc11867c0' target='_blank'><b>New Layer - Ebola incidents and facilities</b>\n",
       "                        </a>\n",
       "                        <br/>Map created using Python API showing locations of Ebola treatment centers<img src='https://geosaurus.maps.arcgis.com/home/js/jsapi/esri/css/images/item_type_icons/maps16.png' style=\"vertical-align:middle;\">Web Map by arcgis_python\n",
       "                        <br/>Last Modified: February 17, 2020\n",
       "                        <br/>0 comments, 0 views\n",
       "                    </div>\n",
       "                </div>\n",
       "                "
      ],
      "text/plain": [
       "<Item title:\"New Layer - Ebola incidents and facilities\" type:Web Map owner:arcgis_python>"
      ]
     },
     "execution_count": 42,
     "metadata": {},
     "output_type": "execute_result"
    }
   ],
   "source": [
    "ebola_map.save(webmap_item_properties)"
   ]
  }
 ],
 "metadata": {
  "kernelspec": {
   "display_name": "Python 3",
   "language": "python",
   "name": "python3"
  },
  "language_info": {
   "codemirror_mode": {
    "name": "ipython",
    "version": 3
   },
   "file_extension": ".py",
   "mimetype": "text/x-python",
   "name": "python",
   "nbconvert_exporter": "python",
   "pygments_lexer": "ipython3",
   "version": "3.6.7"
  }
 },
 "nbformat": 4,
 "nbformat_minor": 2
}
