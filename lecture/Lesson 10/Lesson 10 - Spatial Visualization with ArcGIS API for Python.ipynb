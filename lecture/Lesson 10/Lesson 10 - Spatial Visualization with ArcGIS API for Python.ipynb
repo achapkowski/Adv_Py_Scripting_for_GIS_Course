{
 "cells": [
  {
   "cell_type": "markdown",
   "metadata": {},
   "source": [
    "# Spatial Visualization with ArcGIS API for Python"
   ]
  },
  {
   "cell_type": "markdown",
   "metadata": {},
   "source": [
    "## arcgis.mapping module"
   ]
  },
  {
   "cell_type": "markdown",
   "metadata": {},
   "source": [
    "The arcgis.mapping module contains classes and functions to represent and interact with web maps, scenes, and certain layer types such as map image and vector tiles. In this page we will observe how to visualize maps, scenes and layers using the map widget in Jupyter notebook environment.\n",
    "\n",
    "- Setting the map properties\n",
    "    + Zoom level\n",
    "    + Map center\n",
    "    + Basemaps\n",
    "    + 3D Mode\n",
    "- Adding layers to the map\n",
    "- Adding Item objects to the map\n",
    "- Adding layer objects to the map\n",
    "- Adding Imagery layers\n",
    "- Listing and removing layers from the map\n",
    "- Graphic support\n",
    "- Saving the map as a web map"
   ]
  },
  {
   "cell_type": "markdown",
   "metadata": {},
   "source": [
    "## Creating a Map"
   ]
  },
  {
   "cell_type": "code",
   "execution_count": 1,
   "metadata": {},
   "outputs": [
    {
     "data": {
      "application/vnd.jupyter.widget-view+json": {
       "model_id": "ac538db5092b4628a1f9c9a10b1f50f1",
       "version_major": 2,
       "version_minor": 0
      },
      "text/plain": [
       "MapView(layout=Layout(height='400px', width='100%'))"
      ]
     },
     "metadata": {},
     "output_type": "display_data"
    },
    {
     "data": {
      "text/html": [
       "<div class=\"map-static-img-preview-ec7fb0de-0cb8-414a-ab37-208992a97ecb\"><img src=\"\"></img></div>"
      ],
      "text/plain": [
       "<IPython.core.display.HTML object>"
      ]
     },
     "metadata": {},
     "output_type": "display_data"
    }
   ],
   "source": [
    "from arcgis.gis import GIS\n",
    "gis = GIS()\n",
    "m = gis.map('Frankfurt, DE')\n",
    "m"
   ]
  },
  {
   "cell_type": "markdown",
   "metadata": {},
   "source": [
    "## WebMap Properties\n",
    "\n",
    "  + Zoom level\n",
    "  + Map center\n",
    "  + Basemaps\n",
    "  + 3D Mode\n",
    "  + rotation"
   ]
  },
  {
   "cell_type": "markdown",
   "metadata": {},
   "source": [
    "### Zoom Level"
   ]
  },
  {
   "cell_type": "code",
   "execution_count": 5,
   "metadata": {},
   "outputs": [
    {
     "data": {
      "text/plain": [
       "10.0"
      ]
     },
     "execution_count": 5,
     "metadata": {},
     "output_type": "execute_result"
    }
   ],
   "source": [
    "m.zoom"
   ]
  },
  {
   "cell_type": "code",
   "execution_count": 4,
   "metadata": {},
   "outputs": [],
   "source": [
    "m.zoom = 15"
   ]
  },
  {
   "cell_type": "markdown",
   "metadata": {
    "heading_collapsed": true
   },
   "source": [
    "### Rotation\n",
    "\n",
    "- values are 0-360 degrees"
   ]
  },
  {
   "cell_type": "code",
   "execution_count": 6,
   "metadata": {
    "hidden": true
   },
   "outputs": [],
   "source": [
    "import time\n",
    "for r in [45, 90, 180, 270, 0]:\n",
    "    m.rotation = r\n",
    "    time.sleep(3)"
   ]
  },
  {
   "cell_type": "markdown",
   "metadata": {},
   "source": [
    "### Basemaps\n",
    "\n",
    "- provide the underlying background for the web map\n",
    "- `basemaps` provides a list available basemap \n",
    "- `basemap` - get/set the background"
   ]
  },
  {
   "cell_type": "code",
   "execution_count": 7,
   "metadata": {},
   "outputs": [
    {
     "data": {
      "application/vnd.jupyter.widget-view+json": {
       "model_id": "1be92db17b084d619583902fb9e459a9",
       "version_major": 2,
       "version_minor": 0
      },
      "text/plain": [
       "MapView(layout=Layout(height='400px', width='100%'))"
      ]
     },
     "metadata": {},
     "output_type": "display_data"
    },
    {
     "data": {
      "text/html": [
       "<div class=\"map-static-img-preview-8fb6223c-e834-4ff5-b4d5-f35b2081f9e1\"><img src=\"\"></img></div>"
      ],
      "text/plain": [
       "<IPython.core.display.HTML object>"
      ]
     },
     "metadata": {},
     "output_type": "display_data"
    }
   ],
   "source": [
    "m1 = gis.map('Paris') # RUN ME :) \n",
    "m1"
   ]
  },
  {
   "cell_type": "code",
   "execution_count": 8,
   "metadata": {},
   "outputs": [
    {
     "name": "stdout",
     "output_type": "stream",
     "text": [
      "default\n",
      "dark-gray\n",
      "gray\n",
      "hybrid\n",
      "oceans\n",
      "satellite\n",
      "streets-navigation-vector\n",
      "streets-relief-vector\n",
      "terrain\n"
     ]
    }
   ],
   "source": [
    "for bm in m1.basemaps[::2]:\n",
    "    print(m1.basemap)\n",
    "    m1.basemap = bm\n",
    "    time.sleep(1.5)"
   ]
  },
  {
   "cell_type": "markdown",
   "metadata": {},
   "source": [
    "### 3D Mode\n",
    "\n",
    "- The map widget supports both 2D and 3D"
   ]
  },
  {
   "cell_type": "code",
   "execution_count": 9,
   "metadata": {},
   "outputs": [
    {
     "data": {
      "application/vnd.jupyter.widget-view+json": {
       "model_id": "8eb164dccfa543999226be3337a12961",
       "version_major": 2,
       "version_minor": 0
      },
      "text/plain": [
       "MapView(layout=Layout(height='400px', width='100%'), mode='3D', zoom=8.0)"
      ]
     },
     "metadata": {},
     "output_type": "display_data"
    },
    {
     "data": {
      "text/html": [
       "<div class=\"map-static-img-preview-6bd86cd3-1e68-49d2-962c-20f70fd4e422\"><img src=\"\"></img></div>"
      ],
      "text/plain": [
       "<IPython.core.display.HTML object>"
      ]
     },
     "metadata": {},
     "output_type": "display_data"
    }
   ],
   "source": [
    "m2 = gis.map('Zurich', mode='3D')\n",
    "m2.zoom = 8\n",
    "m2"
   ]
  },
  {
   "cell_type": "markdown",
   "metadata": {},
   "source": [
    "## Adding Content to the Map Widget"
   ]
  },
  {
   "cell_type": "code",
   "execution_count": 10,
   "metadata": {},
   "outputs": [
    {
     "data": {
      "text/plain": [
       "[<Item title:\"Europe NUTS 1 Demographics\" type:Feature Layer Collection owner:esri_dm>,\n",
       " <Item title:\"Europe NUTS 1 Areas\" type:Feature Layer Collection owner:esri_dm>,\n",
       " <Item title:\"Europe NUTS 2 Areas\" type:Feature Layer Collection owner:esri_dm>,\n",
       " <Item title:\"Europe NUTS 3 Areas\" type:Feature Layer Collection owner:esri_dm>,\n",
       " <Item title:\"Europe NUTS 2 Demographics\" type:Feature Layer Collection owner:esri_dm>,\n",
       " <Item title:\"Europe NUTS 3 Demographics\" type:Feature Layer Collection owner:esri_dm>,\n",
       " <Item title:\"World Continents\" type:Feature Layer Collection owner:esri_dm>,\n",
       " <Item title:\"Europe NUTS 0 Areas\" type:Feature Layer Collection owner:esri_dm>,\n",
       " <Item title:\"Europe NUTS 0 Demographics\" type:Feature Layer Collection owner:esri_dm>,\n",
       " <Item title:\"Europe_Countries_2017\" type:Feature Layer Collection owner:esri_dm>]"
      ]
     },
     "execution_count": 10,
     "metadata": {},
     "output_type": "execute_result"
    }
   ],
   "source": [
    "flayer_search_result = gis.content.search(\"europe owner:esri_dm\",\"Feature Layer\")\n",
    "flayer_search_result"
   ]
  },
  {
   "cell_type": "markdown",
   "metadata": {},
   "source": [
    "#### Adding by Item\n",
    "\n",
    "- Data can be displayed on the webmap using Item\n",
    "- This supports: Feature Layer, Imagery Services and other."
   ]
  },
  {
   "cell_type": "code",
   "execution_count": 11,
   "metadata": {},
   "outputs": [
    {
     "data": {
      "application/vnd.jupyter.widget-view+json": {
       "model_id": "7c647ae335b44dafaa4a49d598de177a",
       "version_major": 2,
       "version_minor": 0
      },
      "text/plain": [
       "MapView(layout=Layout(height='400px', width='100%'), zoom=7.0)"
      ]
     },
     "metadata": {},
     "output_type": "display_data"
    },
    {
     "data": {
      "text/html": [
       "<div class=\"map-static-img-preview-ab9d6790-9f72-45a1-b783-a5a31f1ea5de\"><img src=\"\"></img></div>"
      ],
      "text/plain": [
       "<IPython.core.display.HTML object>"
      ]
     },
     "metadata": {},
     "output_type": "display_data"
    }
   ],
   "source": [
    "m3 = gis.map('Netherlands')\n",
    "m3.zoom = 7\n",
    "m3"
   ]
  },
  {
   "cell_type": "code",
   "execution_count": 12,
   "metadata": {},
   "outputs": [],
   "source": [
    "m3.add_layer(flayer_search_result[0])"
   ]
  },
  {
   "cell_type": "code",
   "execution_count": 13,
   "metadata": {},
   "outputs": [
    {
     "data": {
      "text/html": [
       "<div class=\"item_container\" style=\"height: auto; overflow: hidden; border: 1px solid #cfcfcf; border-radius: 2px; background: #f6fafa; line-height: 1.21429em; padding: 10px;\">\n",
       "                    <div class=\"item_left\" style=\"width: 210px; float: left;\">\n",
       "                       <a href='https://www.arcgis.com/home/item.html?id=e7e530e0067d47c7b3478d44518b563e' target='_blank'>\n",
       "                        <img src='https://www.arcgis.com/sharing/rest//content/items/e7e530e0067d47c7b3478d44518b563e/info/thumbnail/thumbnail.png' class=\"itemThumbnail\">\n",
       "                       </a>\n",
       "                    </div>\n",
       "\n",
       "                    <div class=\"item_right\"     style=\"float: none; width: auto; overflow: hidden;\">\n",
       "                        <a href='https://www.arcgis.com/home/item.html?id=e7e530e0067d47c7b3478d44518b563e' target='_blank'><b>AHN3 50cm maaiveld - Hillshade</b>\n",
       "                        </a>\n",
       "                        <br/>Deze image service ontsluit het opgevulde 50cm gridproduct van het Actueel Hoogtebestand Nederland (AHN3). De kaartlaag toont het afgeleide hoogtebestand Hillshade.<img src='https://www.arcgis.com/home/js/jsapi/esri/css/images/item_type_icons/imagery16.png' style=\"vertical-align:middle;\">Imagery Layer by Esri_NL_Content\n",
       "                        <br/>Last Modified: October 04, 2019\n",
       "                        <br/>0 comments, 14,469 views\n",
       "                    </div>\n",
       "                </div>\n",
       "                "
      ],
      "text/plain": [
       "<Item title:\"AHN3 50cm maaiveld - Hillshade\" type:Imagery Layer owner:Esri_NL_Content>"
      ]
     },
     "execution_count": 13,
     "metadata": {},
     "output_type": "execute_result"
    }
   ],
   "source": [
    "img_items = gis.content.get(\"e7e530e0067d47c7b3478d44518b563e\")\n",
    "img_items"
   ]
  },
  {
   "cell_type": "code",
   "execution_count": 14,
   "metadata": {},
   "outputs": [],
   "source": [
    "m3.add_layer(img_items)"
   ]
  },
  {
   "cell_type": "code",
   "execution_count": 15,
   "metadata": {},
   "outputs": [
    {
     "data": {
      "text/plain": [
       "True"
      ]
     },
     "execution_count": 15,
     "metadata": {},
     "output_type": "execute_result"
    }
   ],
   "source": [
    "m3.remove_layers()"
   ]
  },
  {
   "cell_type": "markdown",
   "metadata": {},
   "source": [
    "#### Adding by Layer"
   ]
  },
  {
   "cell_type": "code",
   "execution_count": 16,
   "metadata": {},
   "outputs": [
    {
     "data": {
      "application/vnd.jupyter.widget-view+json": {
       "model_id": "9790dd92386246f0818cb72fbd0b9ad3",
       "version_major": 2,
       "version_minor": 0
      },
      "text/plain": [
       "MapView(layout=Layout(height='400px', width='100%'), zoom=7.0)"
      ]
     },
     "metadata": {},
     "output_type": "display_data"
    },
    {
     "data": {
      "text/html": [
       "<div class=\"map-static-img-preview-ec6e8834-efa6-429f-b70c-a0a53da62c64\"><img src=\"\"></img></div>"
      ],
      "text/plain": [
       "<IPython.core.display.HTML object>"
      ]
     },
     "metadata": {},
     "output_type": "display_data"
    }
   ],
   "source": [
    "m4 = gis.map(\"Netherlandas\")\n",
    "m4.zoom = 7\n",
    "m4"
   ]
  },
  {
   "cell_type": "code",
   "execution_count": 17,
   "metadata": {},
   "outputs": [
    {
     "data": {
      "text/plain": [
       "[<ImageryLayer url:\"https://ahn.arcgisonline.nl/arcgis/rest/services/Hoogtebestand/AHN3_i/ImageServer\">]"
      ]
     },
     "execution_count": 17,
     "metadata": {},
     "output_type": "execute_result"
    }
   ],
   "source": [
    "img_items.layers"
   ]
  },
  {
   "cell_type": "code",
   "execution_count": 18,
   "metadata": {},
   "outputs": [],
   "source": [
    "m4.add_layer(img_items.layers[0])"
   ]
  },
  {
   "cell_type": "markdown",
   "metadata": {},
   "source": [
    "#### Adding a Spatially enabled DataFrame"
   ]
  },
  {
   "cell_type": "code",
   "execution_count": 19,
   "metadata": {},
   "outputs": [],
   "source": [
    "item = gis.content.get(\"6996f03a1b364dbab4008d99380370ed\")\n",
    "sdf = item.layers[0].query(as_df=True)"
   ]
  },
  {
   "cell_type": "code",
   "execution_count": 20,
   "metadata": {},
   "outputs": [
    {
     "data": {
      "text/html": [
       "<div>\n",
       "<style scoped>\n",
       "    .dataframe tbody tr th:only-of-type {\n",
       "        vertical-align: middle;\n",
       "    }\n",
       "\n",
       "    .dataframe tbody tr th {\n",
       "        vertical-align: top;\n",
       "    }\n",
       "\n",
       "    .dataframe thead th {\n",
       "        text-align: right;\n",
       "    }\n",
       "</style>\n",
       "<table border=\"1\" class=\"dataframe\">\n",
       "  <thead>\n",
       "    <tr style=\"text-align: right;\">\n",
       "      <th></th>\n",
       "      <th>ADMIN_NAME</th>\n",
       "      <th>CITY_NAME</th>\n",
       "      <th>CNTRY_NAME</th>\n",
       "      <th>FID</th>\n",
       "      <th>FIPS_CNTRY</th>\n",
       "      <th>GMI_ADMIN</th>\n",
       "      <th>LABEL_FLAG</th>\n",
       "      <th>ObjectID</th>\n",
       "      <th>POP</th>\n",
       "      <th>POP_CLASS</th>\n",
       "      <th>POP_RANK</th>\n",
       "      <th>PORT_ID</th>\n",
       "      <th>SHAPE</th>\n",
       "      <th>STATUS</th>\n",
       "    </tr>\n",
       "  </thead>\n",
       "  <tbody>\n",
       "    <tr>\n",
       "      <th>0</th>\n",
       "      <td>Mato Grosso</td>\n",
       "      <td>Cuiaba</td>\n",
       "      <td>Brazil</td>\n",
       "      <td>1</td>\n",
       "      <td>BR</td>\n",
       "      <td>BRA-MGR</td>\n",
       "      <td>0</td>\n",
       "      <td>0</td>\n",
       "      <td>521934</td>\n",
       "      <td>500,000 to 999,999</td>\n",
       "      <td>3</td>\n",
       "      <td>0</td>\n",
       "      <td>{'x': -6244244.606196579, 'y': -1760180.180467...</td>\n",
       "      <td>Provincial capital</td>\n",
       "    </tr>\n",
       "    <tr>\n",
       "      <th>1</th>\n",
       "      <td>Kentucky</td>\n",
       "      <td>Frankfort</td>\n",
       "      <td>United States</td>\n",
       "      <td>2</td>\n",
       "      <td>US</td>\n",
       "      <td>USA-KEN</td>\n",
       "      <td>0</td>\n",
       "      <td>500</td>\n",
       "      <td>16315</td>\n",
       "      <td>Less than 50,000</td>\n",
       "      <td>7</td>\n",
       "      <td>0</td>\n",
       "      <td>{'x': -9444234.68158556, 'y': 4607859.98773734...</td>\n",
       "      <td>Provincial capital</td>\n",
       "    </tr>\n",
       "    <tr>\n",
       "      <th>2</th>\n",
       "      <td>Tennessee</td>\n",
       "      <td>Nashville</td>\n",
       "      <td>United States</td>\n",
       "      <td>3</td>\n",
       "      <td>US</td>\n",
       "      <td>USA-TNN</td>\n",
       "      <td>0</td>\n",
       "      <td>501</td>\n",
       "      <td>530852</td>\n",
       "      <td>500,000 to 999,999</td>\n",
       "      <td>3</td>\n",
       "      <td>0</td>\n",
       "      <td>{'x': -9664535.074973334, 'y': 4320178.2505069...</td>\n",
       "      <td>Provincial capital</td>\n",
       "    </tr>\n",
       "    <tr>\n",
       "      <th>3</th>\n",
       "      <td>Distrito Federal</td>\n",
       "      <td>Brasilia</td>\n",
       "      <td>Brazil</td>\n",
       "      <td>4</td>\n",
       "      <td>BR</td>\n",
       "      <td>BRA-DFD</td>\n",
       "      <td>0</td>\n",
       "      <td>1</td>\n",
       "      <td>2207718</td>\n",
       "      <td>1,000,000 to 4,999,999</td>\n",
       "      <td>2</td>\n",
       "      <td>0</td>\n",
       "      <td>{'x': -5331952.879361972, 'y': -1780660.510942...</td>\n",
       "      <td>National and provincial capital</td>\n",
       "    </tr>\n",
       "    <tr>\n",
       "      <th>4</th>\n",
       "      <td>Goias</td>\n",
       "      <td>Goiania</td>\n",
       "      <td>Brazil</td>\n",
       "      <td>5</td>\n",
       "      <td>BR</td>\n",
       "      <td>BRA-GOI</td>\n",
       "      <td>0</td>\n",
       "      <td>2</td>\n",
       "      <td>1171195</td>\n",
       "      <td>1,000,000 to 4,999,999</td>\n",
       "      <td>2</td>\n",
       "      <td>0</td>\n",
       "      <td>{'x': -5483041.697485694, 'y': -1889069.697082...</td>\n",
       "      <td>Provincial capital</td>\n",
       "    </tr>\n",
       "  </tbody>\n",
       "</table>\n",
       "</div>"
      ],
      "text/plain": [
       "         ADMIN_NAME  CITY_NAME     CNTRY_NAME  FID FIPS_CNTRY GMI_ADMIN  \\\n",
       "0       Mato Grosso     Cuiaba         Brazil    1         BR   BRA-MGR   \n",
       "1          Kentucky  Frankfort  United States    2         US   USA-KEN   \n",
       "2         Tennessee  Nashville  United States    3         US   USA-TNN   \n",
       "3  Distrito Federal   Brasilia         Brazil    4         BR   BRA-DFD   \n",
       "4             Goias    Goiania         Brazil    5         BR   BRA-GOI   \n",
       "\n",
       "   LABEL_FLAG  ObjectID      POP               POP_CLASS  POP_RANK  PORT_ID  \\\n",
       "0           0         0   521934      500,000 to 999,999         3        0   \n",
       "1           0       500    16315        Less than 50,000         7        0   \n",
       "2           0       501   530852      500,000 to 999,999         3        0   \n",
       "3           0         1  2207718  1,000,000 to 4,999,999         2        0   \n",
       "4           0         2  1171195  1,000,000 to 4,999,999         2        0   \n",
       "\n",
       "                                               SHAPE  \\\n",
       "0  {'x': -6244244.606196579, 'y': -1760180.180467...   \n",
       "1  {'x': -9444234.68158556, 'y': 4607859.98773734...   \n",
       "2  {'x': -9664535.074973334, 'y': 4320178.2505069...   \n",
       "3  {'x': -5331952.879361972, 'y': -1780660.510942...   \n",
       "4  {'x': -5483041.697485694, 'y': -1889069.697082...   \n",
       "\n",
       "                            STATUS  \n",
       "0               Provincial capital  \n",
       "1               Provincial capital  \n",
       "2               Provincial capital  \n",
       "3  National and provincial capital  \n",
       "4               Provincial capital  "
      ]
     },
     "execution_count": 20,
     "metadata": {},
     "output_type": "execute_result"
    }
   ],
   "source": [
    "sdf.head()"
   ]
  },
  {
   "cell_type": "code",
   "execution_count": 21,
   "metadata": {},
   "outputs": [
    {
     "data": {
      "text/plain": [
       "True"
      ]
     },
     "execution_count": 21,
     "metadata": {},
     "output_type": "execute_result"
    }
   ],
   "source": [
    "sdf.spatial.plot(map_widget=m4)"
   ]
  },
  {
   "cell_type": "markdown",
   "metadata": {},
   "source": [
    "## Cartography using the ArcGIS API from Python"
   ]
  },
  {
   "cell_type": "markdown",
   "metadata": {},
   "source": [
    "### Smart Mapping"
   ]
  },
  {
   "cell_type": "markdown",
   "metadata": {},
   "source": [
    "- process of creating maps with ease\n",
    "- uses algorithms to auto generate the best cartography"
   ]
  },
  {
   "cell_type": "code",
   "execution_count": 22,
   "metadata": {},
   "outputs": [
    {
     "data": {
      "text/html": [
       "<div class=\"item_container\" style=\"height: auto; overflow: hidden; border: 1px solid #cfcfcf; border-radius: 2px; background: #f6fafa; line-height: 1.21429em; padding: 10px;\">\n",
       "                    <div class=\"item_left\" style=\"width: 210px; float: left;\">\n",
       "                       <a href='https://www.arcgis.com/home/item.html?id=91c6a5f6410b4991ab0db1d7c26daacb' target='_blank'>\n",
       "                        <img src='https://www.arcgis.com/sharing/rest//content/items/91c6a5f6410b4991ab0db1d7c26daacb/info/thumbnail/thumbnail1578437765660.jpeg' class=\"itemThumbnail\">\n",
       "                       </a>\n",
       "                    </div>\n",
       "\n",
       "                    <div class=\"item_right\"     style=\"float: none; width: auto; overflow: hidden;\">\n",
       "                        <a href='https://www.arcgis.com/home/item.html?id=91c6a5f6410b4991ab0db1d7c26daacb' target='_blank'><b>USA Freeway System</b>\n",
       "                        </a>\n",
       "                        <br/>This layer presents rural and urban interstate highways.<img src='https://www.arcgis.com/home/js/jsapi/esri/css/images/item_type_icons/featureshosted16.png' style=\"vertical-align:middle;\">Feature Layer Collection by esri_dm\n",
       "                        <br/>Last Modified: January 07, 2020\n",
       "                        <br/>2 comments, 1,320,443 views\n",
       "                    </div>\n",
       "                </div>\n",
       "                "
      ],
      "text/plain": [
       "<Item title:\"USA Freeway System\" type:Feature Layer Collection owner:esri_dm>"
      ]
     },
     "execution_count": 22,
     "metadata": {},
     "output_type": "execute_result"
    }
   ],
   "source": [
    "freeway_item = gis.content.get('91c6a5f6410b4991ab0db1d7c26daacb')\n",
    "freeway_item"
   ]
  },
  {
   "cell_type": "code",
   "execution_count": 23,
   "metadata": {},
   "outputs": [
    {
     "data": {
      "application/vnd.jupyter.widget-view+json": {
       "model_id": "73621a5b4b13480080bfca7e5b844d31",
       "version_major": 2,
       "version_minor": 0
      },
      "text/plain": [
       "MapView(layout=Layout(height='400px', width='100%'))"
      ]
     },
     "metadata": {},
     "output_type": "display_data"
    },
    {
     "data": {
      "text/html": [
       "<div class=\"map-static-img-preview-a8fd7b1c-1986-4652-a9b2-f8b5e6e98dad\"><img src=\"\"></img></div>"
      ],
      "text/plain": [
       "<IPython.core.display.HTML object>"
      ]
     },
     "metadata": {},
     "output_type": "display_data"
    }
   ],
   "source": [
    "m5 = gis.map(\"Los Angles, CA\")\n",
    "m5"
   ]
  },
  {
   "cell_type": "code",
   "execution_count": 24,
   "metadata": {},
   "outputs": [],
   "source": [
    "m5.center = [34, -118]\n",
    "#m5.zoom = 11\n",
    "m5.add_layer(freeway_item, {\"renderer\":\"ClassedSizeRenderer\", \"field_name\": \"DIST_MILES\"})"
   ]
  },
  {
   "cell_type": "markdown",
   "metadata": {},
   "source": [
    "#### Visualize by Field\n"
   ]
  },
  {
   "cell_type": "code",
   "execution_count": 25,
   "metadata": {},
   "outputs": [
    {
     "data": {
      "application/vnd.jupyter.widget-view+json": {
       "model_id": "60332914ae29495daf2191d48db108a3",
       "version_major": 2,
       "version_minor": 0
      },
      "text/plain": [
       "MapView(layout=Layout(height='400px', width='100%'))"
      ]
     },
     "metadata": {},
     "output_type": "display_data"
    },
    {
     "data": {
      "text/html": [
       "<div class=\"map-static-img-preview-1f15ac0e-2d71-494e-8007-38274d7a22b6\"><img src=\"\"></img></div>"
      ],
      "text/plain": [
       "<IPython.core.display.HTML object>"
      ]
     },
     "metadata": {},
     "output_type": "display_data"
    }
   ],
   "source": [
    "m6 = gis.map('Washington State')\n",
    "m6"
   ]
  },
  {
   "cell_type": "code",
   "execution_count": null,
   "metadata": {},
   "outputs": [],
   "source": [
    "m6.add_layer({\"type\":\"FeatureLayer\", \n",
    "               \"url\":\"http://sampleserver6.arcgisonline.com/arcgis/rest/services/Census/MapServer/2\",\n",
    "               \"definition_expression\" : \"STATE_NAME='Washington'\",\n",
    "               \"renderer\":\"ClassedColorRenderer\",\n",
    "               \"field_name\":\"POP2007\",\n",
    "               \"opacity\":0.7})"
   ]
  },
  {
   "cell_type": "code",
   "execution_count": 27,
   "metadata": {},
   "outputs": [],
   "source": [
    "m6.legend = True"
   ]
  },
  {
   "cell_type": "markdown",
   "metadata": {},
   "source": [
    "### Advanced Cartography"
   ]
  },
  {
   "cell_type": "markdown",
   "metadata": {},
   "source": [
    "#### Compare A to B\n",
    "\n",
    "- Renderers can compare two values"
   ]
  },
  {
   "cell_type": "code",
   "execution_count": 28,
   "metadata": {},
   "outputs": [
    {
     "data": {
      "application/vnd.jupyter.widget-view+json": {
       "model_id": "1b88d932d9354357b48d8a526abf93b0",
       "version_major": 2,
       "version_minor": 0
      },
      "text/plain": [
       "MapView(layout=Layout(height='400px', width='100%'), zoom=2.0)"
      ]
     },
     "metadata": {},
     "output_type": "display_data"
    },
    {
     "data": {
      "text/html": [
       "<div class=\"map-static-img-preview-bb2bab76-9b8b-4fc5-9290-9d45421430c8\"><img src=\"\"></img></div>"
      ],
      "text/plain": [
       "<IPython.core.display.HTML object>"
      ]
     },
     "metadata": {},
     "output_type": "display_data"
    }
   ],
   "source": [
    "from arcgis.features import FeatureLayer\n",
    "\n",
    "map4 = gis.map(\"France\", 2)\n",
    "\n",
    "map4_renderer = {\"renderer\": \"autocast\", #This tells python to use JS autocasting\n",
    "                 \"type\": \"classBreaks\",  \n",
    "                 \"field\":\"POP2025\",\n",
    "                 \"transparency\":80,\n",
    "                 \"minValue\":-9007199254740991}\n",
    "\n",
    "map4_renderer[\"visualVariables\"] = [{   \"type\": \"colorInfo\",\n",
    "                                        \"field\": \"POP2025\",\n",
    "                                        \"normalizationField\": \"POP2015\",\n",
    "                                        \"stops\": [\n",
    "                                            {   \"value\": 1.12,\n",
    "                                                \"color\": [230,97,1,255],\n",
    "                                                \"label\": \"< 112%\"\n",
    "                                            },\n",
    "                                            {   \"value\": 1.1800000000000002,\n",
    "                                                \"color\": [253,184,99,255],\n",
    "                                                \"label\": \"112% ~ 124%\"\n",
    "                                            },\n",
    "                                            {   \"value\": 1.24,\n",
    "                                                \"color\": [247,247,247,255],\n",
    "                                                \"label\": \"124%\"\n",
    "                                            },\n",
    "                                            {   \"value\": 1.3,\n",
    "                                                \"color\": [178,171,210,255],\n",
    "                                                \"label\": \"124% ~ 136%\"\n",
    "                                            },\n",
    "                                            {   \"value\": 1.36,\n",
    "                                                \"color\": [94,60,153,255],\n",
    "                                                \"label\": \"> 136%\"\n",
    "                                            }]\n",
    "                                    }]\n",
    "\n",
    "map4_renderer[\"classBreakInfos\"] = [{   \"symbol\": {\n",
    "                                            \"color\": [170,170,170,255],\n",
    "                                            \"size\": 10.5,\n",
    "                                            \"angle\": 0,\n",
    "                                            \"xoffset\": 0,\n",
    "                                            \"yoffset\": 0,\n",
    "                                            \"type\": \"esriSMS\",\n",
    "                                            \"style\": \"esriSMSCircle\",\n",
    "                                            \"outline\": {\n",
    "                                                \"color\": [153,153,153,255],\n",
    "                                                \"width\": 0.375,\n",
    "                                                \"type\": \"esriSLS\",\n",
    "                                                \"style\": \"esriSLSSolid\"\n",
    "                                            }\n",
    "                                        },\n",
    "                                        \"classMaxValue\": 9007199254740991\n",
    "                                    }]\n",
    "\n",
    "world_flayer = FeatureLayer(\"http://services.arcgis.com/nGt4QxSblgDfeJn9/arcgis/rest/services/World_LargestUrbanAreas_fs/FeatureServer/0\")\n",
    "\n",
    "map4.add_layer(world_flayer,\n",
    "               { \"type\": \"FeatureLayer\",\n",
    "                 \"renderer\": map4_renderer,\n",
    "                 \"field_name\":\"POP2025\",\n",
    "                 \"normalizationType\": \"esriNormalizeByField\",\n",
    "                 \"normalizationField\": \"POP2015\"})\n",
    "\n",
    "map4"
   ]
  },
  {
   "cell_type": "code",
   "execution_count": 29,
   "metadata": {},
   "outputs": [],
   "source": [
    "map4.legend = True"
   ]
  },
  {
   "cell_type": "markdown",
   "metadata": {},
   "source": [
    "#### Render on Numeric Attribute\n"
   ]
  },
  {
   "cell_type": "code",
   "execution_count": 30,
   "metadata": {},
   "outputs": [
    {
     "data": {
      "application/vnd.jupyter.widget-view+json": {
       "model_id": "2f26ef83c6d043fb8176134c55982dbb",
       "version_major": 2,
       "version_minor": 0
      },
      "text/plain": [
       "MapView(layout=Layout(height='400px', width='100%'), zoom=4.0)"
      ]
     },
     "metadata": {},
     "output_type": "display_data"
    },
    {
     "data": {
      "text/html": [
       "<div class=\"map-static-img-preview-2c2b0561-4ac1-4a40-8e0f-a8ac246a9dc6\"><img src=\"\"></img></div>"
      ],
      "text/plain": [
       "<IPython.core.display.HTML object>"
      ]
     },
     "metadata": {},
     "output_type": "display_data"
    }
   ],
   "source": [
    "from arcgis.features import FeatureLayer\n",
    "usa_flayer = FeatureLayer(\"https://services.arcgis.com/V6ZHFr6zdgNZuVG0/arcgis/rest/services/USA_County_Crops_2007/FeatureServer/0\")\n",
    "map1 = gis.map()\n",
    "map1.center = [38.32016202887768, -94.49274418999963]\n",
    "map1.zoom = 4\n",
    "map1.add_layer(usa_flayer, { \"type\": \"FeatureLayer\",\n",
    "                             \"renderer\":\"ClassedColorRenderer\",\n",
    "                             \"field_name\":\"M086_07\"})\n",
    "map1"
   ]
  },
  {
   "cell_type": "markdown",
   "metadata": {},
   "source": [
    "### Rendering Spatially enabled DataFrame"
   ]
  },
  {
   "cell_type": "markdown",
   "metadata": {},
   "source": [
    "The Spatially Enabled Dataframe has a plot() method that uses a syntax and symbology similar to matplotlib for visualizing features on a map. With this functionality, you can easily visualize aspects of your data both on a map and on a matplotlib chart using the same symbology!\n",
    "\n",
    "Some unique characteristics of working with the visualization capabalities on the SDF:\n",
    "\n",
    "    - Uses Pythonic syntax\n",
    "    - Uses the same syntax as visualizing charts on Pandas DataFrames\n",
    "    - Uses symbology familiar to users of matplotlib\n",
    "    - Works on features and attributes simultaneously, eliminating to a great extent the need to iterate over all features (rows)\n",
    "    - Handles reading and writing to multiple formats aiding data conversion\n",
    "    "
   ]
  },
  {
   "cell_type": "markdown",
   "metadata": {},
   "source": [
    "<style type=\"text/css\">\n",
    ".tg  {border-collapse:collapse;border-spacing:0;}\n",
    ".tg td{font-family:Arial, sans-serif;font-size:14px;padding:10px 5px;border-style:solid;border-width:1px;overflow:hidden;word-break:normal;border-color:black;}\n",
    ".tg th{font-family:Arial, sans-serif;font-size:14px;font-weight:normal;padding:10px 5px;border-style:solid;border-width:1px;overflow:hidden;word-break:normal;border-color:black;}\n",
    ".tg .tg-1wig{font-weight:bold;text-align:left;vertical-align:top}\n",
    ".tg .tg-fymr{font-weight:bold;border-color:inherit;text-align:left;vertical-align:top}\n",
    ".tg .tg-0pky{border-color:inherit;text-align:left;vertical-align:top}\n",
    ".tg .tg-0lax{text-align:left;vertical-align:top}\n",
    "</style>\n",
    "<table class=\"tg\">\n",
    "  <tr>\n",
    "    <th class=\"tg-fymr\">Renderer</th>\n",
    "    <th class=\"tg-1wig\">Syntax</th>\n",
    "    <th class=\"tg-1wig\">Explanition</th>\n",
    "  </tr>\n",
    "  <tr>\n",
    "    <td class=\"tg-0pky\">Simple</td>\n",
    "    <td class=\"tg-0lax\">'s'</td>\n",
    "    <td class=\"tg-0lax\">renders using one symbol only</td>\n",
    "  </tr>\n",
    "  <tr>\n",
    "    <td class=\"tg-0pky\">Unique</td>\n",
    "    <td class=\"tg-0lax\">'u'</td>\n",
    "    <td class=\"tg-0lax\">renders each unique value with different symbol</td>\n",
    "  </tr>\n",
    "  <tr>\n",
    "    <td class=\"tg-0lax\">Unique</td>\n",
    "    <td class=\"tg-0lax\">'u-a'</td>\n",
    "    <td class=\"tg-0lax\">renders each unique value with a different symbol using an arcade expression</td>\n",
    "  </tr>\n",
    "  <tr>\n",
    "    <td class=\"tg-0lax\">Class Breaks</td>\n",
    "    <td class=\"tg-0lax\">'c'</td>\n",
    "    <td class=\"tg-0lax\">renders each group of values with a different color or size</td>\n",
    "  </tr>\n",
    "  <tr>\n",
    "    <td class=\"tg-0lax\">Heatmap</td>\n",
    "    <td class=\"tg-0lax\">'h'</td>\n",
    "    <td class=\"tg-0lax\">renders density of point data as a raster </td>\n",
    "  </tr>\n",
    "</table>"
   ]
  },
  {
   "cell_type": "markdown",
   "metadata": {},
   "source": [
    "#### Obtain Test Data"
   ]
  },
  {
   "cell_type": "code",
   "execution_count": 31,
   "metadata": {},
   "outputs": [
    {
     "data": {
      "text/html": [
       "<div>\n",
       "<style scoped>\n",
       "    .dataframe tbody tr th:only-of-type {\n",
       "        vertical-align: middle;\n",
       "    }\n",
       "\n",
       "    .dataframe tbody tr th {\n",
       "        vertical-align: top;\n",
       "    }\n",
       "\n",
       "    .dataframe thead th {\n",
       "        text-align: right;\n",
       "    }\n",
       "</style>\n",
       "<table border=\"1\" class=\"dataframe\">\n",
       "  <thead>\n",
       "    <tr style=\"text-align: right;\">\n",
       "      <th></th>\n",
       "      <th>FID</th>\n",
       "      <th>NAME</th>\n",
       "      <th>CLASS</th>\n",
       "      <th>ST</th>\n",
       "      <th>STFIPS</th>\n",
       "      <th>PLACEFIPS</th>\n",
       "      <th>CAPITAL</th>\n",
       "      <th>POP_CLASS</th>\n",
       "      <th>POPULATION</th>\n",
       "      <th>POP2010</th>\n",
       "      <th>...</th>\n",
       "      <th>MARHH_NO_C</th>\n",
       "      <th>MHH_CHILD</th>\n",
       "      <th>FHH_CHILD</th>\n",
       "      <th>FAMILIES</th>\n",
       "      <th>AVE_FAM_SZ</th>\n",
       "      <th>HSE_UNITS</th>\n",
       "      <th>VACANT</th>\n",
       "      <th>OWNER_OCC</th>\n",
       "      <th>RENTER_OCC</th>\n",
       "      <th>SHAPE</th>\n",
       "    </tr>\n",
       "  </thead>\n",
       "  <tbody>\n",
       "    <tr>\n",
       "      <th>0</th>\n",
       "      <td>1</td>\n",
       "      <td>Ammon</td>\n",
       "      <td>city</td>\n",
       "      <td>ID</td>\n",
       "      <td>16</td>\n",
       "      <td>1601990</td>\n",
       "      <td></td>\n",
       "      <td>6</td>\n",
       "      <td>15181</td>\n",
       "      <td>13816</td>\n",
       "      <td>...</td>\n",
       "      <td>1131</td>\n",
       "      <td>106</td>\n",
       "      <td>335</td>\n",
       "      <td>3352</td>\n",
       "      <td>3.61</td>\n",
       "      <td>4747</td>\n",
       "      <td>271</td>\n",
       "      <td>3205</td>\n",
       "      <td>1271</td>\n",
       "      <td>{'x': -12462673.723706165, 'y': 5384674.994080...</td>\n",
       "    </tr>\n",
       "    <tr>\n",
       "      <th>1</th>\n",
       "      <td>2</td>\n",
       "      <td>Blackfoot</td>\n",
       "      <td>city</td>\n",
       "      <td>ID</td>\n",
       "      <td>16</td>\n",
       "      <td>1607840</td>\n",
       "      <td></td>\n",
       "      <td>6</td>\n",
       "      <td>11946</td>\n",
       "      <td>11899</td>\n",
       "      <td>...</td>\n",
       "      <td>1081</td>\n",
       "      <td>174</td>\n",
       "      <td>381</td>\n",
       "      <td>2958</td>\n",
       "      <td>3.31</td>\n",
       "      <td>4547</td>\n",
       "      <td>318</td>\n",
       "      <td>2788</td>\n",
       "      <td>1441</td>\n",
       "      <td>{'x': -12506251.313993266, 'y': 5341537.793529...</td>\n",
       "    </tr>\n",
       "    <tr>\n",
       "      <th>2</th>\n",
       "      <td>4</td>\n",
       "      <td>Burley</td>\n",
       "      <td>city</td>\n",
       "      <td>ID</td>\n",
       "      <td>16</td>\n",
       "      <td>1611260</td>\n",
       "      <td></td>\n",
       "      <td>6</td>\n",
       "      <td>10727</td>\n",
       "      <td>10345</td>\n",
       "      <td>...</td>\n",
       "      <td>861</td>\n",
       "      <td>139</td>\n",
       "      <td>358</td>\n",
       "      <td>2499</td>\n",
       "      <td>3.37</td>\n",
       "      <td>3885</td>\n",
       "      <td>241</td>\n",
       "      <td>2183</td>\n",
       "      <td>1461</td>\n",
       "      <td>{'x': -12667411.402393516, 'y': 5241722.820606...</td>\n",
       "    </tr>\n",
       "    <tr>\n",
       "      <th>3</th>\n",
       "      <td>6</td>\n",
       "      <td>Chubbuck</td>\n",
       "      <td>city</td>\n",
       "      <td>ID</td>\n",
       "      <td>16</td>\n",
       "      <td>1614680</td>\n",
       "      <td></td>\n",
       "      <td>6</td>\n",
       "      <td>14655</td>\n",
       "      <td>13922</td>\n",
       "      <td>...</td>\n",
       "      <td>1281</td>\n",
       "      <td>172</td>\n",
       "      <td>370</td>\n",
       "      <td>3586</td>\n",
       "      <td>3.40</td>\n",
       "      <td>4961</td>\n",
       "      <td>229</td>\n",
       "      <td>3324</td>\n",
       "      <td>1408</td>\n",
       "      <td>{'x': -12520053.904151963, 'y': 5300220.333409...</td>\n",
       "    </tr>\n",
       "    <tr>\n",
       "      <th>4</th>\n",
       "      <td>12</td>\n",
       "      <td>Jerome</td>\n",
       "      <td>city</td>\n",
       "      <td>ID</td>\n",
       "      <td>16</td>\n",
       "      <td>1641320</td>\n",
       "      <td></td>\n",
       "      <td>6</td>\n",
       "      <td>11403</td>\n",
       "      <td>10890</td>\n",
       "      <td>...</td>\n",
       "      <td>779</td>\n",
       "      <td>210</td>\n",
       "      <td>385</td>\n",
       "      <td>2640</td>\n",
       "      <td>3.44</td>\n",
       "      <td>3985</td>\n",
       "      <td>292</td>\n",
       "      <td>2219</td>\n",
       "      <td>1474</td>\n",
       "      <td>{'x': -12747828.64784961, 'y': 5269214.8197742...</td>\n",
       "    </tr>\n",
       "  </tbody>\n",
       "</table>\n",
       "<p>5 rows × 50 columns</p>\n",
       "</div>"
      ],
      "text/plain": [
       "   FID       NAME CLASS  ST STFIPS PLACEFIPS CAPITAL  POP_CLASS  POPULATION  \\\n",
       "0    1      Ammon  city  ID     16   1601990                  6       15181   \n",
       "1    2  Blackfoot  city  ID     16   1607840                  6       11946   \n",
       "2    4     Burley  city  ID     16   1611260                  6       10727   \n",
       "3    6   Chubbuck  city  ID     16   1614680                  6       14655   \n",
       "4   12     Jerome  city  ID     16   1641320                  6       11403   \n",
       "\n",
       "   POP2010  ...  MARHH_NO_C  MHH_CHILD  FHH_CHILD  FAMILIES  AVE_FAM_SZ  \\\n",
       "0    13816  ...        1131        106        335      3352        3.61   \n",
       "1    11899  ...        1081        174        381      2958        3.31   \n",
       "2    10345  ...         861        139        358      2499        3.37   \n",
       "3    13922  ...        1281        172        370      3586        3.40   \n",
       "4    10890  ...         779        210        385      2640        3.44   \n",
       "\n",
       "   HSE_UNITS  VACANT  OWNER_OCC  RENTER_OCC  \\\n",
       "0       4747     271       3205        1271   \n",
       "1       4547     318       2788        1441   \n",
       "2       3885     241       2183        1461   \n",
       "3       4961     229       3324        1408   \n",
       "4       3985     292       2219        1474   \n",
       "\n",
       "                                               SHAPE  \n",
       "0  {'x': -12462673.723706165, 'y': 5384674.994080...  \n",
       "1  {'x': -12506251.313993266, 'y': 5341537.793529...  \n",
       "2  {'x': -12667411.402393516, 'y': 5241722.820606...  \n",
       "3  {'x': -12520053.904151963, 'y': 5300220.333409...  \n",
       "4  {'x': -12747828.64784961, 'y': 5269214.8197742...  \n",
       "\n",
       "[5 rows x 50 columns]"
      ]
     },
     "execution_count": 31,
     "metadata": {},
     "output_type": "execute_result"
    }
   ],
   "source": [
    "from arcgis.gis import GIS\n",
    "item = gis.content.get(\"85d0ca4ea1ca4b9abf0c51b9bd34de2e\")\n",
    "flayer = item.layers[0]\n",
    "sdf = flayer.query(where=\"AGE_45_54 < 1500\", as_df=True)\n",
    "sdf.head()"
   ]
  },
  {
   "cell_type": "markdown",
   "metadata": {},
   "source": [
    "#### Unique Renderer"
   ]
  },
  {
   "cell_type": "code",
   "execution_count": 32,
   "metadata": {},
   "outputs": [
    {
     "data": {
      "application/vnd.jupyter.widget-view+json": {
       "model_id": "1820abb8a9694ac180e2aa5ffbfe1847",
       "version_major": 2,
       "version_minor": 0
      },
      "text/plain": [
       "MapView(layout=Layout(height='400px', width='100%'), zoom=4.0)"
      ]
     },
     "metadata": {},
     "output_type": "display_data"
    },
    {
     "data": {
      "text/html": [
       "<div class=\"map-static-img-preview-4752f18a-18ca-4ade-83d3-d93321ef538d\"><img src=\"\"></img></div>"
      ],
      "text/plain": [
       "<IPython.core.display.HTML object>"
      ]
     },
     "metadata": {},
     "output_type": "display_data"
    }
   ],
   "source": [
    "gis = GIS()\n",
    "map4a = gis.map('Reno, NV', zoomlevel=4)\n",
    "map4a.center = [38.365564106215935, -94.14943750000482]\n",
    "map4a"
   ]
  },
  {
   "cell_type": "code",
   "execution_count": 33,
   "metadata": {},
   "outputs": [
    {
     "data": {
      "text/plain": [
       "True"
      ]
     },
     "execution_count": 33,
     "metadata": {},
     "output_type": "execute_result"
    }
   ],
   "source": [
    "sdf.spatial.plot(map_widget=map4a,\n",
    "                renderer_type='u',\n",
    "                col='ST')"
   ]
  },
  {
   "cell_type": "markdown",
   "metadata": {},
   "source": [
    "#### Simple Renderer"
   ]
  },
  {
   "cell_type": "code",
   "execution_count": 34,
   "metadata": {},
   "outputs": [
    {
     "data": {
      "application/vnd.jupyter.widget-view+json": {
       "model_id": "aac57d68295a4071b856b4065f3551d1",
       "version_major": 2,
       "version_minor": 0
      },
      "text/plain": [
       "MapView(layout=Layout(height='400px', width='100%'))"
      ]
     },
     "metadata": {},
     "output_type": "display_data"
    },
    {
     "data": {
      "text/html": [
       "<div class=\"map-static-img-preview-155aafdc-8443-4a03-bbe8-5ac79b0b814b\"><img src=\"\"></img></div>"
      ],
      "text/plain": [
       "<IPython.core.display.HTML object>"
      ]
     },
     "metadata": {},
     "output_type": "display_data"
    }
   ],
   "source": [
    "sdf.spatial.plot(symbol_type='simple',\n",
    "                 symbol_style='d', # d - for diamonds\n",
    "                 colors='Reds_r',\n",
    "                 cstep=10,\n",
    "                 outline_color='Blues',\n",
    "                 marker_size=10)"
   ]
  },
  {
   "cell_type": "markdown",
   "metadata": {},
   "source": [
    "#### Classbreak Renderer"
   ]
  },
  {
   "cell_type": "code",
   "execution_count": 35,
   "metadata": {},
   "outputs": [
    {
     "data": {
      "application/vnd.jupyter.widget-view+json": {
       "model_id": "f7853b4fbef845f29af270fb10f5a66f",
       "version_major": 2,
       "version_minor": 0
      },
      "text/plain": [
       "MapView(layout=Layout(height='400px', width='100%'))"
      ]
     },
     "metadata": {},
     "output_type": "display_data"
    },
    {
     "data": {
      "text/html": [
       "<div class=\"map-static-img-preview-d505acf2-d8e2-4e97-9bb4-be08b04976b6\"><img src=\"\"></img></div>"
      ],
      "text/plain": [
       "<IPython.core.display.HTML object>"
      ]
     },
     "metadata": {},
     "output_type": "display_data"
    }
   ],
   "source": [
    "sdf.spatial.plot(renderer_type='c',  # for class breaks renderer\n",
    "                 class_count=20,  \n",
    "                 col='POPULATION',\n",
    "                 cmap='prism',\n",
    "                 alpha=0.7)"
   ]
  },
  {
   "cell_type": "markdown",
   "metadata": {},
   "source": [
    "#### Understanding Colormaps\n",
    "\n",
    "- The display_colormaps function provides a quick, easy way to visualize the pre-defined set of colormaps you can use."
   ]
  },
  {
   "cell_type": "code",
   "execution_count": 36,
   "metadata": {},
   "outputs": [
    {
     "data": {
      "image/png": "[encoded data removed]",
      "text/plain": [
       "<Figure size 432x2160 with 150 Axes>"
      ]
     },
     "metadata": {
      "needs_background": "light"
     },
     "output_type": "display_data"
    }
   ],
   "source": [
    "from arcgis.mapping import display_colormaps\n",
    "display_colormaps()"
   ]
  },
  {
   "cell_type": "code",
   "execution_count": 37,
   "metadata": {},
   "outputs": [
    {
     "name": "stdout",
     "output_type": "stream",
     "text": [
      "Accent              Accent_r            Blues               Blues_r             BrBG\n",
      "BrBG_r              BuGn                BuGn_r              BuPu                BuPu_r\n",
      "CMRmap              CMRmap_r            Dark2               Dark2_r             GnBu\n",
      "GnBu_r              Greens              Greens_r            Greys               Greys_r\n",
      "OrRd                OrRd_r              Oranges             Oranges_r           PRGn\n",
      "PRGn_r              Paired              Paired_r            Pastel1             Pastel1_r\n",
      "Pastel2             Pastel2_r           PiYG                PiYG_r              PuBu\n",
      "PuBuGn              PuBuGn_r            PuBu_r              PuOr                PuOr_r\n",
      "PuRd                PuRd_r              Purples             Purples_r           RdBu\n",
      "RdBu_r              RdGy                RdGy_r              RdPu                RdPu_r\n",
      "RdYlBu              RdYlBu_r            RdYlGn              RdYlGn_r            Reds\n",
      "Reds_r              Set1                Set1_r              Set2                Set2_r\n",
      "Set3                Set3_r              Spectral            Spectral_r          Wistia\n",
      "Wistia_r            YlGn                YlGnBu              YlGnBu_r            YlGn_r\n",
      "YlOrBr              YlOrBr_r            YlOrRd              YlOrRd_r            afmhot\n",
      "afmhot_r            autumn              autumn_r            binary              binary_r\n",
      "bone                bone_r              brg                 brg_r               bwr\n",
      "bwr_r               cool                cool_r              coolwarm            coolwarm_r\n",
      "copper              copper_r            cubehelix           cubehelix_r         flag\n",
      "flag_r              gist_earth          gist_earth_r        gist_gray           gist_gray_r\n",
      "gist_heat           gist_heat_r         gist_ncar           gist_ncar_r         gist_rainbow\n",
      "gist_rainbow_r      gist_stern          gist_stern_r        gist_yarg           gist_yarg_r\n",
      "gnuplot             gnuplot2            gnuplot2_r          gnuplot_r           gray\n",
      "gray_r              hot                 hot_r               hsv                 hsv_r\n",
      "inferno             inferno_r           jet                 jet_r               magma\n",
      "magma_r             nipy_spectral       nipy_spectral_r     ocean               ocean_r\n",
      "pink                pink_r              plasma              plasma_r            prism\n",
      "prism_r             rainbow             rainbow_r           seismic             seismic_r\n",
      "spring              spring_r            summer              summer_r            terrain\n",
      "terrain_r           viridis             viridis_r           winter              winter_r\n"
     ]
    }
   ],
   "source": [
    "from arcgis.mapping import symbol\n",
    "\n",
    "colormaps = symbol.ALLOWED_CMAPS\n",
    "for a,b,c,d,e in zip(colormaps[::5], colormaps[1::5], colormaps[2::5], colormaps[3::5], colormaps[4::5]):\n",
    "    print(\"{:<20}{:<20}{:<20}{:<20}{:<}\".format(a,b,c,d,e))"
   ]
  },
  {
   "cell_type": "code",
   "execution_count": 38,
   "metadata": {},
   "outputs": [],
   "source": [
    "from arcgis.mapping import symbol\n",
    "symbol.create_symbol?"
   ]
  }
 ],
 "metadata": {
  "kernelspec": {
   "display_name": "Python 3",
   "language": "python",
   "name": "python3"
  },
  "language_info": {
   "codemirror_mode": {
    "name": "ipython",
    "version": 3
   },
   "file_extension": ".py",
   "mimetype": "text/x-python",
   "name": "python",
   "nbconvert_exporter": "python",
   "pygments_lexer": "ipython3",
   "version": "3.6.7"
  }
 },
 "nbformat": 4,
 "nbformat_minor": 2
}
