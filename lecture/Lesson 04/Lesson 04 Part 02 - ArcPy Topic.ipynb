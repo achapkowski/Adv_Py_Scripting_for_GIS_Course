{
 "cells": [
  {
   "cell_type": "markdown",
   "metadata": {},
   "source": [
    "# Working With Data Using ArcPy"
   ]
  },
  {
   "cell_type": "markdown",
   "metadata": {},
   "source": [
    "### Describe Data\n",
    "\n",
    "- Geoprocessing tools work with all types of data, such as geodatabase feature classes, shapefiles, rasters, tables, topologies, and networks\n",
    "- Each data type has a unique set of properties\n",
    "- [Help Document](https://pro.arcgis.com/en/pro-app/arcpy/get-started/describing-data.htm)"
   ]
  },
  {
   "cell_type": "code",
   "execution_count": null,
   "metadata": {},
   "outputs": [],
   "source": [
    "import arcpy\n",
    "from arcpy import env\n",
    "from arcpy import da\n",
    "\n",
    "fgdb = r\"./data/Water_And_Wetlands_5_1.gdb\"\n",
    "env.workspace = fgdb\n",
    "\n",
    "for fc in arcpy.ListFeatureClasses():\n",
    "    desc = da.Describe(fc)\n",
    "    del fc\n",
    "\n",
    "desc.keys()"
   ]
  },
  {
   "cell_type": "markdown",
   "metadata": {},
   "source": [
    "#### Example: Examine key/value"
   ]
  },
  {
   "cell_type": "code",
   "execution_count": null,
   "metadata": {},
   "outputs": [],
   "source": [
    "i = 0\n",
    "for k in desc.keys():\n",
    "    print(f\"{k} in {desc[k]}\")\n",
    "    i += 1\n",
    "    if i > 5:\n",
    "        break"
   ]
  },
  {
   "cell_type": "markdown",
   "metadata": {},
   "source": [
    "## Advanced Cursors Usage\n",
    "\n",
    "- da module provides `Search`, `Update` and `Insert` operations\n"
   ]
  },
  {
   "cell_type": "markdown",
   "metadata": {},
   "source": [
    "## `SearchCursor` \n",
    "\n",
    "- Provides a read-only view of data\n",
    "- returns a `tuple` of objects\n",
    "- Geometry properties can be accessed by specifying the token `SHAPE@` syntax\n",
    "- Supports the `with` syntax and `del` operation"
   ]
  },
  {
   "cell_type": "code",
   "execution_count": null,
   "metadata": {},
   "outputs": [],
   "source": [
    "with da.SearchCursor(desc['catalogPath'], \"*\") as cursor:\n",
    "    print(cursor.fields)\n",
    "    for row in cursor:\n",
    "        #del row\n",
    "        break\n",
    "print(row)"
   ]
  },
  {
   "cell_type": "code",
   "execution_count": null,
   "metadata": {},
   "outputs": [],
   "source": [
    "[fld.name for fld in desc['fields'] if fld.type.lower() != 'geometry']"
   ]
  },
  {
   "cell_type": "markdown",
   "metadata": {
    "heading_collapsed": true
   },
   "source": [
    "### Exploding the Points\n",
    "\n",
    "- Deconstruct a feature into its individual points or vertices"
   ]
  },
  {
   "cell_type": "code",
   "execution_count": null,
   "metadata": {
    "hidden": true
   },
   "outputs": [],
   "source": [
    "with da.SearchCursor(desc['catalogPath'], '*', \n",
    "                     where_clause=f\"{desc['OIDFieldName']} = 2\",\n",
    "                     explode_to_points=True) as cursor:\n",
    "    for row in cursor:\n",
    "        print(row)\n",
    "        del row"
   ]
  },
  {
   "cell_type": "markdown",
   "metadata": {
    "heading_collapsed": true
   },
   "source": [
    "### Return a Dictionary of Key/Value Pairs\n",
    "\n",
    "- An optional expression that limits the records returned"
   ]
  },
  {
   "cell_type": "code",
   "execution_count": null,
   "metadata": {
    "hidden": true
   },
   "outputs": [],
   "source": [
    "fields = [fld.name for fld in desc['fields'] if fld.type.lower() != 'geometry']\n",
    "fields.append(\"Shape@\")\n",
    "with da.SearchCursor(desc['catalogPath'], \n",
    "                     fields, \n",
    "                     where_clause=f\"{desc['OIDFieldName']} = 2\",\n",
    "                     explode_to_points=False) as cursor:\n",
    "    for row in cursor:\n",
    "        row_dict = dict(zip(cursor.fields, row))\n",
    "        print(row_dict)\n",
    "        del row"
   ]
  },
  {
   "cell_type": "markdown",
   "metadata": {
    "heading_collapsed": true
   },
   "source": [
    "### Using `ORDER BY` to Sort Data\n",
    "\n",
    "- Only works on database data"
   ]
  },
  {
   "cell_type": "code",
   "execution_count": null,
   "metadata": {
    "hidden": true
   },
   "outputs": [],
   "source": [
    "fields = [fld.name for fld in desc['fields'] if fld.type.lower() != 'geometry']\n",
    "fields.append(\"Shape@\")\n",
    "with da.SearchCursor(desc['catalogPath'], \n",
    "                     fields, \n",
    "                     where_clause=f\"{desc['OIDFieldName']} in (2, 3, 4)\",\n",
    "                     sql_clause=(None, 'ORDER BY Shape_Length'),\n",
    "                     explode_to_points=False) as cursor:\n",
    "    for row in cursor:\n",
    "        row_dict = dict(zip(cursor.fields, row))\n",
    "        print(row_dict['Shape_Length'])\n",
    "        del row"
   ]
  },
  {
   "cell_type": "markdown",
   "metadata": {
    "heading_collapsed": true
   },
   "source": [
    "### Defining the Spatial Reference\n",
    "\n",
    "- Modify spatial reference when reading the data"
   ]
  },
  {
   "cell_type": "code",
   "execution_count": null,
   "metadata": {
    "hidden": true
   },
   "outputs": [],
   "source": [
    "fields = [fld.name for fld in desc['fields'] if fld.type.lower() != 'geometry']\n",
    "fields.append(\"Shape@\")\n",
    "print(f\"Original Factory Code: {desc['spatialReference'].factoryCode}\")\n",
    "with da.SearchCursor(desc['catalogPath'], \n",
    "                     fields, \n",
    "                     where_clause=f\"{desc['OIDFieldName']} in (2, 3, 4)\",\n",
    "                     sql_clause=(None, 'ORDER BY Shape_Length'),\n",
    "                     explode_to_points=False,\n",
    "                     spatial_reference=arcpy.SpatialReference(4326)) as cursor:\n",
    "      for row in cursor:\n",
    "        row_dict = dict(zip(cursor.fields, row))\n",
    "        print(f\"On the fly reprojection: {row_dict['Shape@'].spatialReference.factoryCode}\")\n",
    "        print(row_dict['Shape@'].JSON)\n",
    "        del row, row_dict\n",
    "        break"
   ]
  },
  {
   "cell_type": "markdown",
   "metadata": {},
   "source": [
    "## `UpdateCursor`\n",
    "\n",
    "- read-write access to records\n",
    "- returns an iterator of lists\n",
    "- Use the `for` loop and a `with` statement"
   ]
  },
  {
   "cell_type": "code",
   "execution_count": null,
   "metadata": {},
   "outputs": [],
   "source": [
    "fc = \"./data/World_Cities.shp\"\n",
    "def rows_as_update_dicts(cursor):\n",
    "    fields = cursor.fields\n",
    "    for row in cursor:\n",
    "        row_object = dict(zip(fields, row))\n",
    "        yield row_object\n",
    "        cursor.updateRow([row_object[fld] for fld in fields])\n",
    "\n",
    "with da.UpdateCursor(fc, ['CITY_NAME']) as urows:\n",
    "    for row in rows_as_update_dicts(urows):\n",
    "        row['CITY_NAME'] = row['CITY_NAME'].title()\n",
    "        print(f\"Updating city name to {row['CITY_NAME']}\")"
   ]
  },
  {
   "cell_type": "markdown",
   "metadata": {},
   "source": [
    "#### Deleting Rows\n",
    "\n",
    "- Update cursor can update or delete rows"
   ]
  },
  {
   "cell_type": "code",
   "execution_count": null,
   "metadata": {},
   "outputs": [],
   "source": [
    "for fld in desc['fields']:\n",
    "    print((fld.name, fld.type))"
   ]
  },
  {
   "cell_type": "code",
   "execution_count": null,
   "metadata": {},
   "outputs": [],
   "source": [
    "deleted_rows = []\n",
    "desc = da.Describe(fc)\n",
    "fields = [fld.name for fld in desc['fields'] if fld.type.lower() not in ('geometry')]\n",
    "fields.append(\"Shape@\") \n",
    "with da.UpdateCursor(fc, fields) as urows:\n",
    "    for urow in urows:\n",
    "        if urow[0] % 2 == 0 and urow[0] < 10:\n",
    "            print(f\"Erasing row: {urow[0]}\")\n",
    "            deleted_rows.append(urow)\n",
    "            urows.deleteRow()\n",
    "        del urow"
   ]
  },
  {
   "cell_type": "code",
   "execution_count": null,
   "metadata": {},
   "outputs": [],
   "source": [
    "deleted_rows"
   ]
  },
  {
   "cell_type": "markdown",
   "metadata": {},
   "source": [
    "## `InsertCursor`\n",
    "\n",
    "- Adds a new row"
   ]
  },
  {
   "cell_type": "code",
   "execution_count": null,
   "metadata": {},
   "outputs": [],
   "source": [
    "print(arcpy.management.GetCount(fc)[0])\n",
    "with da.InsertCursor(fc, fields) as icur:\n",
    "    for row in deleted_rows:\n",
    "        icur.insertRow(row)\n",
    "print(arcpy.management.GetCount(fc)[0])"
   ]
  },
  {
   "cell_type": "markdown",
   "metadata": {},
   "source": [
    "## `Editor`\n"
   ]
  },
  {
   "cell_type": "markdown",
   "metadata": {},
   "source": [
    "- `Editor` class allows the use of edit sessions and operations to manage database transactions\n",
    "- Temporary until saved and permanently applied to your data\n",
    "\n",
    "#### Editor Benefits\n",
    "\n",
    "- redo/undo operations\n",
    "- multiple user editing \n",
    "- transaction can be rolled back\n"
   ]
  },
  {
   "cell_type": "markdown",
   "metadata": {},
   "source": [
    "#### Common dataset types that can only be edited within an edit session:\n",
    "\n",
    "- Feature classes participating in a topology\n",
    "- Feature classes participating in a geometric network\n",
    "- Feature classes participating in a network dataset\n",
    "- Versioned datasets in enterprise geodatabases\n",
    "- Some object and feature classes with class extensions"
   ]
  },
  {
   "cell_type": "markdown",
   "metadata": {},
   "source": [
    "#### `Editor` Example\n",
    "\n",
    "1. Create a unique value count of the of values for the 'Wat_Wet' field and display the information to the users\n",
    "2. Remap the data to simplified set of labels\n"
   ]
  },
  {
   "cell_type": "code",
   "execution_count": null,
   "metadata": {},
   "outputs": [],
   "source": [
    "import os\n",
    "from arcpy import da\n",
    "from arcpy import env\n",
    "env.overwriteOutput = True\n",
    "\n",
    "remap = {'Freshwater Herbaceous Wetland' : \"Wetlands\", \n",
    "         'Water - River': \"River\", \n",
    "         'Tidal Salt Marsh' : \"Marsh\", \n",
    "         'Water - Laguna' : \"Laguna\", \n",
    "         'Water - Estuary' : \"Estuary\", \n",
    "         'Woody Riparian' : \"Ruparian\", \n",
    "         'Water - Lake or Resorvoir' : \"Lake or Resorvoir\", \n",
    "         'Water - Ocean' : \"Ocean\"}\n",
    "\n",
    "unique_values = set()\n",
    "value_count = {}\n",
    "fc = os.path.join(fgdb, \"Water_And_Wetlands_5_15\")\n",
    "\n",
    "fc_copy = os.path.join(fgdb, \"Water_And_Wetlands_Copy\")\n",
    "if arcpy.Exists(fc_copy):\n",
    "    arcpy.management.Delete(fc_copy)\n",
    "fc_copy = arcpy.management.CopyFeatures(fc, fc_copy)[0]\n",
    "arcpy.AddField_management(fc_copy, field_name=\"SHORTNAME\", field_type=\"TEXT\")\n",
    "\n",
    "with da.Editor(fgdb) as edit:\n",
    "    fc =  os.path.join(fgdb, \"Water_And_Wetlands_5_15\")\n",
    "    # Create Unique Set and Update Field Value\n",
    "    with da.UpdateCursor(fc_copy, ['Wat_Wet', 'SHORTNAME']) as ucur:\n",
    "        ufld_id = ucur.fields.index(\"SHORTNAME\")\n",
    "        for row in ucur:\n",
    "            if row[0] not in unique_values:\n",
    "                unique_values.add(row[0])\n",
    "            row[ufld_id] = remap[row[0]]\n",
    "            ucur.updateRow(row) \n",
    "            if row[0] in value_count:\n",
    "                value_count[row[0]] += 1\n",
    "            else:\n",
    "                value_count[row[0]] = 1"
   ]
  },
  {
   "cell_type": "code",
   "execution_count": null,
   "metadata": {},
   "outputs": [],
   "source": [
    "import matplotlib.pyplot as plt\n",
    "%matplotlib inline\n",
    "plt.bar(range(len(value_count)), list(value_count.values()), align='center')\n",
    "plt.xticks(range(len(value_count)), list(value_count.keys()), rotation=45, ha=\"right\")\n",
    "plt"
   ]
  }
 ],
 "metadata": {
  "kernelspec": {
   "display_name": "Python 3",
   "language": "python",
   "name": "python3"
  },
  "language_info": {
   "codemirror_mode": {
    "name": "ipython",
    "version": 3
   },
   "file_extension": ".py",
   "mimetype": "text/x-python",
   "name": "python",
   "nbconvert_exporter": "python",
   "pygments_lexer": "ipython3",
   "version": "3.6.7"
  }
 },
 "nbformat": 4,
 "nbformat_minor": 2
}
