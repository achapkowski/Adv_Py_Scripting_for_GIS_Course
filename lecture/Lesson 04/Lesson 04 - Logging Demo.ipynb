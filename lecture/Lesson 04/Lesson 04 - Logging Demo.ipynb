{
 "cells": [
  {
   "cell_type": "markdown",
   "metadata": {},
   "source": [
    "## Lesson 04 - Demo\n",
    "\n",
    "### Logging and Cursor Objects\n",
    "\n"
   ]
  },
  {
   "cell_type": "code",
   "execution_count": null,
   "metadata": {
    "scrolled": false
   },
   "outputs": [],
   "source": [
    "import logging\n",
    "from logging import StreamHandler\n",
    "from logging.handlers import RotatingFileHandler\n",
    "from arcpy import da\n",
    "import arcpy"
   ]
  },
  {
   "cell_type": "markdown",
   "metadata": {},
   "source": [
    "#### Configure the Logging Settings"
   ]
  },
  {
   "cell_type": "code",
   "execution_count": null,
   "metadata": {
    "scrolled": false
   },
   "outputs": [],
   "source": [
    "logging.basicConfig(level=logging.DEBUG,\n",
    "                    format='%(asctime)s - %(name)s - %(levelname)s - %(message)s',\n",
    "                    datefmt='%m-%d-%Y : %H:%M:%S')\n",
    "\n",
    "log = logging.getLogger('demo')"
   ]
  },
  {
   "cell_type": "markdown",
   "metadata": {},
   "source": [
    "#### Set the Console Logger "
   ]
  },
  {
   "cell_type": "code",
   "execution_count": null,
   "metadata": {
    "scrolled": false
   },
   "outputs": [],
   "source": [
    "console = StreamHandler()\n",
    "console.setLevel(logging.INFO)\n",
    "log.addHandler(console)"
   ]
  },
  {
   "cell_type": "markdown",
   "metadata": {},
   "source": [
    "#### Set the Rotating File Handler"
   ]
  },
  {
   "cell_type": "code",
   "execution_count": null,
   "metadata": {
    "scrolled": false
   },
   "outputs": [],
   "source": [
    "handler = RotatingFileHandler('demo_error.log', maxBytes=2e+6, backupCount=10)\n",
    "handler.setLevel(logging.DEBUG)\n",
    "handler.setFormatter(logging.Formatter('%(asctime)s - %(name)s - %(levelname)s - %(message)s'))\n",
    "log.addHandler(handler)"
   ]
  },
  {
   "cell_type": "markdown",
   "metadata": {},
   "source": [
    "#### Test the Logger"
   ]
  },
  {
   "cell_type": "code",
   "execution_count": null,
   "metadata": {
    "scrolled": false
   },
   "outputs": [],
   "source": [
    "log.debug(\"debug\")\n",
    "log.info(\"info\")\n",
    "log.error(\"error\")"
   ]
  },
  {
   "cell_type": "markdown",
   "metadata": {},
   "source": [
    "#### Using Logging with Cursor Objects"
   ]
  },
  {
   "cell_type": "code",
   "execution_count": null,
   "metadata": {
    "scrolled": true
   },
   "outputs": [],
   "source": [
    "log.info(\"Accessing the Spatial Dataset\")\n",
    "with da.SearchCursor(\"./data/World_Cities.shp\", \"*\") as srows:\n",
    "    fields = \",\".join(srows.fields)\n",
    "    idx = srows.fields.index(\"FID\")\n",
    "    log.info(f\"The spatial dataset has {fields} fields\")\n",
    "    for row in srows:\n",
    "        try:\n",
    "            OID = row[idx]\n",
    "            log.info(f\"OBJECT ID: {OID} Viewed.\")\n",
    "            if OID > 100:\n",
    "                raise arcpy.ExecuteError(\"1200 - CUSTOM ARCPY ERROR \")\n",
    "        except arcpy.ExecuteError as ae:\n",
    "            log.error(f\"Geospatial Error: {ae}\")\n",
    "            break\n",
    "        except Exception as e:\n",
    "            log.error(f\"ERROR: {e}\")\n",
    "            break"
   ]
  },
  {
   "cell_type": "code",
   "execution_count": null,
   "metadata": {
    "scrolled": false
   },
   "outputs": [],
   "source": [
    "for h in log.handlers:\n",
    "    log.removeHandler(h)\n",
    "    print(h)"
   ]
  }
 ],
 "metadata": {
  "kernelspec": {
   "display_name": "Python 3",
   "language": "python",
   "name": "python3"
  },
  "language_info": {
   "codemirror_mode": {
    "name": "ipython",
    "version": 3
   },
   "file_extension": ".py",
   "mimetype": "text/x-python",
   "name": "python",
   "nbconvert_exporter": "python",
   "pygments_lexer": "ipython3",
   "version": "3.6.9"
  }
 },
 "nbformat": 4,
 "nbformat_minor": 2
}
