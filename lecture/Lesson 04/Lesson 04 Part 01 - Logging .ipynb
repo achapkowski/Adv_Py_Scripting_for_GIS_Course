{
 "cells": [
  {
   "cell_type": "markdown",
   "metadata": {},
   "source": [
    "# Logging Module\n",
    "\n",
    "#### Report status, error, warning and informational messages\n",
    "\n",
    "![alt text](./img/timber.jpg \"Title\")"
   ]
  },
  {
   "cell_type": "markdown",
   "metadata": {},
   "source": [
    "## Benefits\n",
    "\n",
    "- allows all Python modules to use the same logger logic\n",
    "- 3rd party modules use the same logger logic as standard library"
   ]
  },
  {
   "cell_type": "markdown",
   "metadata": {},
   "source": [
    "## Parts of Logging Module\n",
    "\n",
    "1. Each module has a `Logger`\n",
    "2. Information is `add` to the `log`\n",
    "3. Invoking the logger creates a `LogRecord`\n",
    "4. A `Logger` can have multiple `handlers` which process the messages in different ways"
   ]
  },
  {
   "cell_type": "markdown",
   "metadata": {},
   "source": [
    "## Persistence of Log Messages \n",
    "\n",
    "- Goal: save messages to a file\n",
    "\n",
    "#### Simple Example"
   ]
  },
  {
   "cell_type": "code",
   "execution_count": 3,
   "metadata": {},
   "outputs": [
    {
     "name": "stdout",
     "output_type": "stream",
     "text": [
      "FILE:\n",
      "DEBUG:root:This message should go to the log file\n",
      "DEBUG:root:This message should go to the log file\n",
      "\n"
     ]
    }
   ],
   "source": [
    "import logging\n",
    "\n",
    "LOG_FILENAME = './logging_file_example.txt'\n",
    "\n",
    "logging.basicConfig(\n",
    "    filename=LOG_FILENAME,\n",
    "    level=logging.DEBUG,\n",
    ")\n",
    "\n",
    "logging.debug('This message should go to the log file')\n",
    "\n",
    "with open(LOG_FILENAME, 'rt') as f:\n",
    "    body = f.read()\n",
    "\n",
    "print('FILE:')\n",
    "print(body)"
   ]
  },
  {
   "cell_type": "markdown",
   "metadata": {},
   "source": [
    "## Rotating Log Files\n",
    "\n",
    "- allows for the rotation of files based on **SIZE**\n",
    "- good to use this when a script is run multiple times\n",
    "- `RotatingFileHandler` handles the creation of the rotating pattern\n",
    "\n",
    "#### Rotating Log File Example"
   ]
  },
  {
   "cell_type": "code",
   "execution_count": 7,
   "metadata": {},
   "outputs": [
    {
     "name": "stdout",
     "output_type": "stream",
     "text": [
      ".\\logging_rotatingfile_example.txt\n",
      ".\\logging_rotatingfile_example.txt.1\n",
      ".\\logging_rotatingfile_example.txt.2\n",
      ".\\logging_rotatingfile_example.txt.3\n",
      ".\\logging_rotatingfile_example.txt.4\n",
      ".\\logging_rotatingfile_example.txt.5\n"
     ]
    }
   ],
   "source": [
    "import glob, os\n",
    "import logging\n",
    "import logging.handlers\n",
    "\n",
    "LOG_FILENAME = './logging_rotatingfile_example.txt'\n",
    "\n",
    "# Set up a specific logger with our desired output level\n",
    "my_logger = logging.getLogger('MyRotatingLogger')\n",
    "my_logger.setLevel(logging.DEBUG)\n",
    "\n",
    "# Add the log message handler to the logger\n",
    "handler = logging.handlers.RotatingFileHandler(\n",
    "    \n",
    "    LOG_FILENAME,\n",
    "    mode='w',\n",
    "    maxBytes=20,\n",
    "    backupCount=5\n",
    ")\n",
    "my_logger.addHandler(handler)\n",
    "\n",
    "# Log some messages\n",
    "for i in range(20):\n",
    "    my_logger.debug('i = %d' % i)\n",
    "\n",
    "# close the handlers\n",
    "handlers = my_logger.handlers[:]\n",
    "for handler in handlers:\n",
    "    handler.close()\n",
    "    my_logger.removeHandler(handler)\n",
    "# See what files are created\n",
    "logfiles = glob.glob('%s*' % LOG_FILENAME)\n",
    "for filename in sorted(logfiles):\n",
    "    print(filename)\n",
    "    os.remove(filename)\n"
   ]
  },
  {
   "cell_type": "markdown",
   "metadata": {},
   "source": [
    "Onto Part 2 of Lesson 04"
   ]
  }
 ],
 "metadata": {
  "kernelspec": {
   "display_name": "Python 3",
   "language": "python",
   "name": "python3"
  },
  "language_info": {
   "codemirror_mode": {
    "name": "ipython",
    "version": 3
   },
   "file_extension": ".py",
   "mimetype": "text/x-python",
   "name": "python",
   "nbconvert_exporter": "python",
   "pygments_lexer": "ipython3",
   "version": "3.6.9"
  }
 },
 "nbformat": 4,
 "nbformat_minor": 2
}
