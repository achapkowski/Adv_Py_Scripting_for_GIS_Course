{
 "cells": [
  {
   "cell_type": "markdown",
   "id": "c1b148b4-e28b-4d8c-80b2-4b74ffd4cd7e",
   "metadata": {},
   "source": [
    "Instructions:\n",
    "\n",
    "1. Complete all questions to the best of your ability.\n",
    "2. Provide clear and concise explanations for your answers.\n",
    "3. Feel free to use Python's built-in functions and libraries.\n",
    "4. Unless noted, all questions need unit tests\n",
    "5. Zip the notebook and toolbox when submitting everything"
   ]
  },
  {
   "cell_type": "code",
   "execution_count": null,
   "id": "b493c69d-b775-4385-b27e-e4dd267a0a8b",
   "metadata": {},
   "outputs": [],
   "source": []
  },
  {
   "cell_type": "markdown",
   "id": "cb3771a2-8552-4f8c-ab20-d6b83ce2f69d",
   "metadata": {},
   "source": [
    "Question 1:\n",
    "\n",
    "Explain the difference between a list, tuple, and dictionary in Python. Provide examples of each."
   ]
  },
  {
   "cell_type": "markdown",
   "id": "638ea38a-6627-4b55-a627-4472e7b37977",
   "metadata": {},
   "source": []
  },
  {
   "cell_type": "markdown",
   "id": "bb481d08-bf61-4d94-9cab-aaf80152d728",
   "metadata": {},
   "source": [
    "Question 2:\n",
    "\n",
    "Write a Python function that takes a list of numbers as input and returns the average of the numbers."
   ]
  },
  {
   "cell_type": "code",
   "execution_count": 1,
   "id": "0068071f-fa9d-4b9e-a9d8-42e4ce8f8845",
   "metadata": {},
   "outputs": [],
   "source": [
    "# insert code here"
   ]
  },
  {
   "cell_type": "markdown",
   "id": "350c7be3-6806-4c86-83c3-63b34d28b5fd",
   "metadata": {},
   "source": [
    "explain your answer here:\n"
   ]
  },
  {
   "cell_type": "markdown",
   "id": "9b820aa9-83b6-4f78-a653-d7227ec901de",
   "metadata": {},
   "source": [
    "Question 3:\n",
    "\n",
    "Create a unit test for the function you wrote in Question 2."
   ]
  },
  {
   "cell_type": "code",
   "execution_count": null,
   "id": "ae3ccdb2-9852-4caf-af93-9d438195f418",
   "metadata": {},
   "outputs": [],
   "source": [
    "# insert code in this cell"
   ]
  },
  {
   "cell_type": "markdown",
   "id": "033b5ea1-9f09-4326-88da-69bab507be73",
   "metadata": {},
   "source": [
    "Question 4:\n",
    "\n",
    "What is code coverage? How can it be measured in Python?"
   ]
  },
  {
   "cell_type": "markdown",
   "id": "77e55ca6-d7f6-49d9-b65e-44e5c845dd03",
   "metadata": {},
   "source": []
  },
  {
   "cell_type": "markdown",
   "id": "590b6573-e423-4afa-a46d-6869d980a55f",
   "metadata": {},
   "source": []
  },
  {
   "cell_type": "markdown",
   "id": "3b46ee8d-74bb-4487-a9ba-99f04c148587",
   "metadata": {},
   "source": [
    "Question 5:\n",
    "\n",
    "Explain the purpose of ArcPy toolboxes. Provide an example of a commonly used toolbox and a function within it.\n"
   ]
  },
  {
   "cell_type": "code",
   "execution_count": null,
   "id": "3af3fb3c",
   "metadata": {},
   "outputs": [],
   "source": []
  },
  {
   "cell_type": "markdown",
   "id": "ea68638d",
   "metadata": {},
   "source": [
    "Question 6:\n",
    "\n",
    "Write a Python script using ArcPy to buffer a point feature class by a distance specified by the user, with an optional parameter to specify the buffer type (e.g., ROUND, SQUARE, etc.). The script should also handle errors gracefully, such as if the user enters an invalid buffer type.\n"
   ]
  },
  {
   "cell_type": "markdown",
   "id": "a1aa6a5b",
   "metadata": {},
   "source": [
    "Question 7:\n",
    "\n",
    "Part 1: Create a simple login system using the **ArcGIS API for Python**. The system should prompt the user for a username and password and check if they are valid. Include unit tests to verify the login functionality.\n",
    "\n",
    "Part2: Create a simple login system using the **arcpy.SignInToPortal**. The system should prompt the user for a username and password and check if they are valid. Include unit tests to verify the login functionality.  Doc: https://pro.arcgis.com/en/pro-app/latest/arcpy/functions/signintoportal.htm \n",
    "\n",
    "part 3:  How could you combine this into a single method? Write the code to show this.\n"
   ]
  },
  {
   "cell_type": "code",
   "execution_count": null,
   "id": "2e5e6589",
   "metadata": {},
   "outputs": [],
   "source": [
    "# Part 1 Answer"
   ]
  },
  {
   "cell_type": "code",
   "execution_count": null,
   "id": "9188a33f",
   "metadata": {},
   "outputs": [],
   "source": [
    "# Part 2 Answer"
   ]
  },
  {
   "cell_type": "code",
   "execution_count": null,
   "id": "92cac64d",
   "metadata": {},
   "outputs": [],
   "source": [
    "# part 3 answer here"
   ]
  },
  {
   "cell_type": "markdown",
   "id": "ddc0546e",
   "metadata": {},
   "source": [
    "Question 8:\n",
    "\n",
    "What is argparse? How can it be used to create command-line tools in Python?\n"
   ]
  },
  {
   "cell_type": "markdown",
   "id": "71ee3fb6",
   "metadata": {},
   "source": [
    "Question 10:\n",
    "\n",
    "Create a command-line tool using argparse that takes two file paths as input and concatenates their contents into a new file.\n"
   ]
  },
  {
   "cell_type": "code",
   "execution_count": null,
   "id": "725cd0a3",
   "metadata": {},
   "outputs": [],
   "source": []
  },
  {
   "cell_type": "markdown",
   "id": "9ddce6c7",
   "metadata": {},
   "source": [
    "Additional Notes:\n",
    "\n",
    "- For more information on argparse, refer to the official Python documentation: https://docs.python.org/3/library/argparse.html\n",
    "- For more information on ArcPy, refer to the official ArcPy documentation: https://pro.arcgis.com/en/pro-app/latest/arcpy/functions/alphabetical-list-of-arcpy-functions.htm"
   ]
  }
 ],
 "metadata": {
  "kernelspec": {
   "display_name": "Python 3",
   "language": "python",
   "name": "python3"
  },
  "language_info": {
   "codemirror_mode": {
    "name": "ipython",
    "version": 3
   },
   "file_extension": ".py",
   "mimetype": "text/x-python",
   "name": "python",
   "nbconvert_exporter": "python",
   "pygments_lexer": "ipython3",
   "version": "3.11.8"
  }
 },
 "nbformat": 4,
 "nbformat_minor": 5
}
