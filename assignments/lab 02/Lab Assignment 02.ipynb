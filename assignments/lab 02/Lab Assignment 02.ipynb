{
 "cells": [
  {
   "cell_type": "markdown",
   "metadata": {},
   "source": [
    "# City of Madison GIS Data Analysis Lab\n",
    "\n",
    "The City of Madison is one of many cities that provide a wealth of geo-spatial information for anyone to analyze.  Image you are a GIS analyst who works for the city.  Being a large city there are many problems that need to be addressed.\n",
    "\n",
    "    - Crime\n",
    "    - Homelessness\n",
    "    - Environmental\n",
    "    - Housing\n",
    "    .. any many more\n",
    "\n",
    "Pick an issue you that interests you and explore the dataset.  Use the anyalysis and other tools within arcpy to talk about your issue.  \n",
    "\n",
    "Analysis must be performed in a single Python Toolbox with 1 or more tools.  The code must run on **my** machine to get full credit.  Besides the tool, a **Jupyter Notebook** is expected to accompany the Python Toolbox explaining the following:\n",
    "\n",
    "    1. How to use the tool (instructions)\n",
    "    2. Goal of the Project\n",
    "    3. A small report on what you did and found (1-2 paragraphs with citations if needed)\n",
    "\n",
    "Think of this as your first big assignment on the job, and you want to impress your manager.  Feel free to include graphic\n",
    "\n",
    "\n",
    "The data can be found here.\n",
    "\n",
    "    https://data-cityofmadison.opendata.arcgis.com/"
   ]
  }
 ],
 "metadata": {
  "kernelspec": {
   "display_name": "Python 3",
   "language": "python",
   "name": "python3"
  },
  "language_info": {
   "codemirror_mode": {
    "name": "ipython",
    "version": 3
   },
   "file_extension": ".py",
   "mimetype": "text/x-python",
   "name": "python",
   "nbconvert_exporter": "python",
   "pygments_lexer": "ipython3",
   "version": "3.6.9"
  }
 },
 "nbformat": 4,
 "nbformat_minor": 2
}
