{
 "cells": [
  {
   "cell_type": "markdown",
   "metadata": {},
   "source": [
    "# Lab 03 - Bringing it together"
   ]
  },
  {
   "cell_type": "markdown",
   "metadata": {},
   "source": [
    "You work for a consulting agency, and they just tasked you with a new assignment to build scripts to analyze and inform the NYC council about the **Uber** ride sharing companies.  The city want reproducible workflows in a jupyter notebook.  \n",
    "\n",
    "The data can be obtained from here: https://www1.nyc.gov/site/tlc/about/tlc-trip-record-data.page\n",
    "\n",
    "The information will be given to **non-technical** individuals so they want pretty maps, graph, and charts.  They have set limits on what Python package you can use because their IT staff restricts what analysts can use.\n",
    "\n",
    "#### Whitelist Software Limitations from the Client\n",
    "\n",
    "    - scipy\n",
    "    - sklearn\n",
    "    - ArcGIS API for Python\n",
    "    - ArcPy\n",
    "    - Standard Python Library\n",
    "    - Requests\n",
    "\n",
    "#### What is wanted:\n",
    "\n",
    "    - comparisons of data between ride shares and taxis\n",
    "    - hot spots of taxi pick-ups and ride sharing\n",
    "    - Interactive maps (minimum of 2-3)\n",
    "    - Nice descriptive reporting\n",
    "    - Other interesting facts\n",
    "\n",
    "#### What to turn in:\n",
    "\n",
    "    - Jupyter notebook\n"
   ]
  },
  {
   "cell_type": "markdown",
   "metadata": {},
   "source": [
    "### Grading\n",
    "\n",
    "The project will be graded on the following:\n",
    "    \n",
    "    - Execution without errors: (40%)\n",
    "    - Description of goal and meaning of result explained: (30%)\n",
    "    - Proper method/class and other code documentation and general reference citations (AMA style) (20 %)\n",
    "    - Proper Markdown usage in Jupyter Notebook (10%)\n",
    "    \n"
   ]
  }
 ],
 "metadata": {
  "kernelspec": {
   "display_name": "Python 3",
   "language": "python",
   "name": "python3"
  },
  "language_info": {
   "codemirror_mode": {
    "name": "ipython",
    "version": 3
   },
   "file_extension": ".py",
   "mimetype": "text/x-python",
   "name": "python",
   "nbconvert_exporter": "python",
   "pygments_lexer": "ipython3",
   "version": "3.6.7"
  }
 },
 "nbformat": 4,
 "nbformat_minor": 2
}
