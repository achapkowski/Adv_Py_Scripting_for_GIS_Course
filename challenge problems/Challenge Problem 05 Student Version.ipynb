{
 "cells": [
  {
   "cell_type": "markdown",
   "metadata": {},
   "source": [
    "# Challenge Problem 05"
   ]
  },
  {
   "cell_type": "markdown",
   "metadata": {},
   "source": [
    "Using ArcPy, create a class to select, join and combine crash information with the road dataset.  Then generalize the area and provide visual maps (as screenshots) of the most dangerous areas based on this data.  Each month/year should be analyzed individually and also provide the most dangerous road overall.\n",
    "\n",
    "Include in the process a way to download the data using either requests or the urllib package in Python and have the downloaded file get cleaned up using `tempfile`.\n"
   ]
  },
  {
   "cell_type": "code",
   "execution_count": 1,
   "metadata": {},
   "outputs": [],
   "source": [
    "crash_dataset = \"https://opendata.arcgis.com/datasets/f2a753da890640c6a781ef57f85696bd_0.zip\"\n",
    "road_data = \"https://opendata.arcgis.com/datasets/aac0a6700a8f42398682e691de2f5348_0.zip?outSR=%7B%22latestWkid%22%3A2882%2C%22wkid%22%3A2882%7D\""
   ]
  },
  {
   "cell_type": "code",
   "execution_count": null,
   "metadata": {},
   "outputs": [],
   "source": []
  }
 ],
 "metadata": {
  "kernelspec": {
   "display_name": "Python 3",
   "language": "python",
   "name": "python3"
  },
  "language_info": {
   "codemirror_mode": {
    "name": "ipython",
    "version": 3
   },
   "file_extension": ".py",
   "mimetype": "text/x-python",
   "name": "python",
   "nbconvert_exporter": "python",
   "pygments_lexer": "ipython3",
   "version": "3.6.7"
  }
 },
 "nbformat": 4,
 "nbformat_minor": 2
}
