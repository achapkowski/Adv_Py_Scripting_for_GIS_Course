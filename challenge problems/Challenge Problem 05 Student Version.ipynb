{
 "cells": [
  {
   "cell_type": "markdown",
   "metadata": {},
   "source": [
    "# Challenge Problem 05"
   ]
  },
  {
   "cell_type": "markdown",
   "metadata": {},
   "source": [
    "Using ArcPy, create a class to select, join and combine crash information with the road dataset.  Then generalize the area and provide visual maps (as screenshots) of the most dangerous areas based on this data.  Each month/year should be analyzed individually and also provide the most dangerous road overall.\n",
    "\n",
    "Include in the process a way to download the data using either requests or the urllib package in Python and have the downloaded file get cleaned up using `tempfile`.\n"
   ]
  },
  {
   "cell_type": "code",
   "execution_count": 1,
   "metadata": {},
   "outputs": [],
   "source": [
    "crash_dataset = \"https://services2.arcgis.com/18ajPSI0b3ppsmMt/arcgis/rest/services/Victorian_Road_Crash_Data/FeatureServer\"\n",
    "road_data = \"https://services2.arcgis.com/18ajPSI0b3ppsmMt/arcgis/rest/services/Road_Width_and_Number_of_Lanes/FeatureServer\""
   ]
  },
  {
   "cell_type": "code",
   "execution_count": null,
   "metadata": {},
   "outputs": [],
   "source": []
  }
 ],
 "metadata": {
  "kernelspec": {
   "display_name": "Python 3",
   "language": "python",
   "name": "python3"
  },
  "language_info": {
   "codemirror_mode": {
    "name": "ipython",
    "version": 3
   },
   "file_extension": ".py",
   "mimetype": "text/x-python",
   "name": "python",
   "nbconvert_exporter": "python",
   "pygments_lexer": "ipython3",
   "version": "3.6.7"
  }
 },
 "nbformat": 4,
 "nbformat_minor": 2
}
