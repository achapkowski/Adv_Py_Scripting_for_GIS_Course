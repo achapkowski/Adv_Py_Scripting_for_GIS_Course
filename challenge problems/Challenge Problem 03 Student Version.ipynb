{
 "cells": [
  {
   "cell_type": "markdown",
   "metadata": {},
   "source": [
    "# Challenge Problem 3\n",
    "\n"
   ]
  },
  {
   "cell_type": "markdown",
   "metadata": {},
   "source": [
    "Suppose a person starts at point `A` has to go to a location `C` in the following map, the user first reaches point `B` but after that how does user A know that whether he has to make a right turn or left turn?\n",
    "\n",
    "<img src=\"https://media.geeksforgeeks.org/wp-content/uploads/point4.png\" alt=\"source:geekofgeeks\"/>\n",
    "\n",
    "Write a python program to calculate if the user has turn left or right.\n",
    "\n",
    "\n",
    "**hint use the cross product**"
   ]
  },
  {
   "cell_type": "code",
   "execution_count": 1,
   "metadata": {},
   "outputs": [],
   "source": [
    "def turn_direction(pt1, pt2, pt3):\n",
    "    \"\"\"\n",
    "    Returns the direction the user must turn from three point.  \n",
    "    \n",
    "    :pt1: `List` - The x,y coordinate of the starting location\n",
    "    :pt2: `List` - The x,y coordinate of the turn point.\n",
    "    :pt3: `List  - The x,y coordinate of the destination\n",
    "    \n",
    "    :returns: String (Left, Right, No Turn)\n",
    "    \"\"\"\n",
    "    \n",
    "    return \"STUDENT TODO FIGURE THIS OUT\""
   ]
  },
  {
   "cell_type": "code",
   "execution_count": 2,
   "metadata": {},
   "outputs": [
    {
     "name": "stdout",
     "output_type": "stream",
     "text": [
      "STUDENT TODO FIGURE THIS OUT\n"
     ]
    }
   ],
   "source": [
    "pt1, pt2, pt3 = [[10,10], [9,5], [6,5]]\n",
    "print(turn_direction(pt1, pt2, pt3))"
   ]
  },
  {
   "cell_type": "code",
   "execution_count": null,
   "metadata": {},
   "outputs": [],
   "source": []
  },
  {
   "cell_type": "code",
   "execution_count": null,
   "metadata": {},
   "outputs": [],
   "source": []
  },
  {
   "cell_type": "code",
   "execution_count": null,
   "metadata": {},
   "outputs": [],
   "source": []
  },
  {
   "cell_type": "code",
   "execution_count": null,
   "metadata": {},
   "outputs": [],
   "source": []
  },
  {
   "cell_type": "code",
   "execution_count": null,
   "metadata": {},
   "outputs": [],
   "source": []
  }
 ],
 "metadata": {
  "kernelspec": {
   "display_name": "Python 3",
   "language": "python",
   "name": "python3"
  },
  "language_info": {
   "codemirror_mode": {
    "name": "ipython",
    "version": 3
   },
   "file_extension": ".py",
   "mimetype": "text/x-python",
   "name": "python",
   "nbconvert_exporter": "python",
   "pygments_lexer": "ipython3",
   "version": "3.6.7"
  }
 },
 "nbformat": 4,
 "nbformat_minor": 2
}
