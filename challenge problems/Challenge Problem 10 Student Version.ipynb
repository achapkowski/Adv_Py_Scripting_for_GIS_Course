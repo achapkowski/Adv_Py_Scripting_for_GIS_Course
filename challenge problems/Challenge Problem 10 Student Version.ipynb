{
 "cells": [
  {
   "cell_type": "markdown",
   "metadata": {},
   "source": [
    "# Challenge Problem 10"
   ]
  },
  {
   "cell_type": "markdown",
   "metadata": {},
   "source": [
    "In this problem, you will use `arcgis` SeDF and concurrency to try and improve performance generating a matrix of neighbors for each data point.  The returned result is a `dict` (dictionary) where the `KEY` is the **OBJECTID** and the `VALUE` is the neighbor's **OBJECTID** of that dataset.  \n",
    "\n",
    "1. The function should allow the user to provide a distance in meters.  (hint use search cursors and geometry methods)\n",
    "2. The concurrency process would be launched within a `with` statement and no more than `4` processes should be launched at once.\n",
    "3. The output should be a dictionary\n",
    "\n",
    "Example Result:\n",
    "\n",
    "```python\n",
    "w = {\n",
    " 1 : [2,3,4],\n",
    " 2 : [1,5,7],\n",
    " ...\n",
    " n : [n1,n2,n3,..., n]\n",
    "}\n",
    "```\n",
    "\n"
   ]
  },
  {
   "cell_type": "code",
   "execution_count": null,
   "metadata": {},
   "outputs": [],
   "source": [
    "# compressed data (located on github)\n",
    "zip_data = r\"./data/challenge_problem_10_data.zip\""
   ]
  },
  {
   "cell_type": "code",
   "execution_count": null,
   "metadata": {},
   "outputs": [],
   "source": [
    "def calculate_neighbors(data):\n",
    "    \"\"\"\"\"\"\n",
    "    w = {}\n",
    "    return w"
   ]
  }
 ],
 "metadata": {
  "kernelspec": {
   "display_name": "Python 3",
   "language": "python",
   "name": "python3"
  },
  "language_info": {
   "codemirror_mode": {
    "name": "ipython",
    "version": 3
   },
   "file_extension": ".py",
   "mimetype": "text/x-python",
   "name": "python",
   "nbconvert_exporter": "python",
   "pygments_lexer": "ipython3",
   "version": "3.6.7"
  }
 },
 "nbformat": 4,
 "nbformat_minor": 2
}
