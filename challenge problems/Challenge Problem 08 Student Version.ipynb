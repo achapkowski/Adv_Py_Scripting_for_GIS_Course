{
 "cells": [
  {
   "cell_type": "markdown",
   "metadata": {},
   "source": [
    "# Challenge 08 - Pandas Tasks\n",
    "\n",
    "Using the data below answer the following questions:\n",
    "    \n",
    "   1. Provide the total movies release by year.\n",
    "   2. Find the number of records in revenue that are null or the value 0.  Drop those values and create a new dataframe.\n",
    "   3. Calculate the total revenue made from 1977 to 1980 on any films labeled comedy. The final result should have the number comma separated. For example if the answer is 5000, the print out should be \"$ 5,000\"."
   ]
  },
  {
   "cell_type": "code",
   "execution_count": null,
   "metadata": {},
   "outputs": [],
   "source": [
    "import pandas as pd\n",
    "df = pd.read_csv(\"https://github.com/maazh/IMDB-Movie-Dataset-Analysis/blob/master/tmdb-movies.csv?raw=true\")"
   ]
  },
  {
   "cell_type": "code",
   "execution_count": null,
   "metadata": {},
   "outputs": [],
   "source": []
  }
 ],
 "metadata": {
  "kernelspec": {
   "display_name": "Python 3",
   "language": "python",
   "name": "python3"
  },
  "language_info": {
   "codemirror_mode": {
    "name": "ipython",
    "version": 3
   },
   "file_extension": ".py",
   "mimetype": "text/x-python",
   "name": "python",
   "nbconvert_exporter": "python",
   "pygments_lexer": "ipython3",
   "version": "3.6.7"
  }
 },
 "nbformat": 4,
 "nbformat_minor": 2
}
