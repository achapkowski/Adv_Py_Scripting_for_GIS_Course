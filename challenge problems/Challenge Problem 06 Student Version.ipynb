{
 "cells": [
  {
   "cell_type": "markdown",
   "metadata": {},
   "source": [
    "# Challenge Problem 06"
   ]
  },
  {
   "cell_type": "markdown",
   "metadata": {},
   "source": [
    "1. Using only the standard library, create a script to walk any folder and all the sub-folders.\n",
    "2. Write any geo-spatial you find to a `CSV` file using the `CSV` module included with Python. (Feature Classes, Raster Data, etc...)\n",
    "3. Include the following information: `Data Type, Geometry Type, Full Path, File Name, Number of Records and Projection Information`.\n",
    "4. Make this a class and document properly.\n",
    "\n",
    "**A framework is provided below.**\n",
    "\n",
    "_I suggest you use `da.Describe` to assist with finding the geo-spatial information plus some other arcpy tools.  You **cannot** use the da module that walks folders._"
   ]
  },
  {
   "cell_type": "code",
   "execution_count": 1,
   "metadata": {},
   "outputs": [],
   "source": [
    "# insert code here\n",
    "from arcpy import da\n",
    "import arcpy\n",
    "from arcpy import env\n",
    "import os\n",
    "\n",
    "class Walker(): \n",
    "    \"\"\"\"\"\"\n",
    "    pass"
   ]
  },
  {
   "cell_type": "code",
   "execution_count": null,
   "metadata": {},
   "outputs": [],
   "source": []
  }
 ],
 "metadata": {
  "kernelspec": {
   "display_name": "Python 3",
   "language": "python",
   "name": "python3"
  },
  "language_info": {
   "codemirror_mode": {
    "name": "ipython",
    "version": 3
   },
   "file_extension": ".py",
   "mimetype": "text/x-python",
   "name": "python",
   "nbconvert_exporter": "python",
   "pygments_lexer": "ipython3",
   "version": "3.6.7"
  }
 },
 "nbformat": 4,
 "nbformat_minor": 2
}
